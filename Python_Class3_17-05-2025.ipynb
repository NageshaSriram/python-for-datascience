{
 "cells": [
  {
   "cell_type": "markdown",
   "id": "80973e04",
   "metadata": {},
   "source": [
    "## Check whether the number is Armstrong number\n",
    "\n",
    "The given number is ArmStrong with all it's digit's power of 3 and their sum equal to number itself\n",
    "Example: 153\n",
    "\n",
    "`153 == 1*3 + 5*3 + 3*3`"
   ]
  },
  {
   "cell_type": "code",
   "execution_count": null,
   "id": "23ac5cf4",
   "metadata": {},
   "outputs": [
    {
     "name": "stdout",
     "output_type": "stream",
     "text": [
      "153 is a ArmStrong number\n"
     ]
    }
   ],
   "source": [
    "user_input = input(\"Enter number\")\n",
    "\n",
    "final_num = 0\n",
    "for i in user_input: # range(0, len(user_input)):\n",
    "  digit = int(i)\n",
    "  final_num += pow(digit, 3) # i**3\n",
    "\n",
    "if final_num == int(user_input):\n",
    "  print(user_input, \"is a ArmStrong number\")\n",
    "else:\n",
    "  print(user_input, \"is not a Armstrong number\")\n"
   ]
  },
  {
   "cell_type": "markdown",
   "id": "d8fe687f",
   "metadata": {},
   "source": [
    "## Write a code generat fibannoci series within 50"
   ]
  },
  {
   "cell_type": "code",
   "execution_count": 45,
   "id": "cdbda96b",
   "metadata": {},
   "outputs": [
    {
     "name": "stdout",
     "output_type": "stream",
     "text": [
      "0\n",
      "1\n",
      "1\n",
      "2\n",
      "3\n",
      "5\n",
      "8\n",
      "13\n",
      "21\n",
      "34\n"
     ]
    }
   ],
   "source": [
    "x1 = 0\n",
    "x2 = 1\n",
    "x3 = 0\n",
    "print(x1)\n",
    "while x3 <= 50:\n",
    "  print(x2)\n",
    "  x3 = x1 + x2\n",
    "  x1 = x2\n",
    "  x2 = x3"
   ]
  },
  {
   "cell_type": "code",
   "execution_count": 42,
   "id": "869ab01c",
   "metadata": {},
   "outputs": [
    {
     "name": "stdout",
     "output_type": "stream",
     "text": [
      "[0, 0, 1, 1, 2, 3, 5, 8, 13, 21, 34]\n"
     ]
    }
   ],
   "source": [
    "a, b = 0, 1\n",
    "fibonocci_series = [a]\n",
    "while a <= 50:\n",
    "  fibonocci_series.append(a)\n",
    "\n",
    "  a, b = b, a + b\n",
    "print(fibonocci_series)\n",
    "\n",
    "#print 50 fibonnoci series of 50\n",
    "\n",
    "# a, b = 0, 1\n",
    "# fibonocci_series = [0]\n",
    "# while len(fibonocci_series) < 50:\n",
    "#   fibonocci_series.append(b)\n",
    "#   a, b = b, a + b\n",
    "# print(fibonocci_series)\n",
    "# print(len(fibonocci_series))\n",
    "\n",
    "# using 3rd variable\n",
    "\n",
    "\n",
    "# x1 = 0\n",
    "# x2 = 1\n",
    "# x3 = 0\n",
    "# print(x1)\n",
    "# print(x2)\n",
    "# while x3 <= 50:\n",
    "#   x3 = x1 + x2\n",
    "#   if x3 > 50:\n",
    "#     break\n",
    "#   print(x3)\n",
    "#   x1 = x2\n",
    "#   x2 = x3\n",
    "\n",
    "\n"
   ]
  },
  {
   "cell_type": "code",
   "execution_count": 41,
   "id": "3e84d0ff",
   "metadata": {},
   "outputs": [
    {
     "name": "stdout",
     "output_type": "stream",
     "text": [
      "Fibonacci series up to 50 : [0, 1, 1, 2, 3, 5, 8, 13, 21, 34]\n"
     ]
    }
   ],
   "source": [
    "# Better Fibonacci series program\n",
    "\n",
    "# Generate Fibonacci series up to a given limit\n",
    "\n",
    "limit = 50\n",
    "a, b = 0, 1\n",
    "fibonacci_series = []\n",
    "\n",
    "while a <= limit:\n",
    "    fibonacci_series.append(a)\n",
    "    a, b = b, a + b\n",
    "  \n",
    "\n",
    "print(\"Fibonacci series up to\", limit, \":\", fibonacci_series)"
   ]
  },
  {
   "cell_type": "markdown",
   "id": "24ab1086",
   "metadata": {},
   "source": [
    "## Take input from user that can be anything, and check if it consists of [$, @, !, 0]"
   ]
  },
  {
   "cell_type": "code",
   "execution_count": 57,
   "id": "b8215e5d",
   "metadata": {},
   "outputs": [
    {
     "name": "stdout",
     "output_type": "stream",
     "text": [
      "Present\n",
      "Present\n"
     ]
    }
   ],
   "source": [
    "# Using individual check\n",
    "user_input = input(\"Please eneter anything: \")\n",
    "for i in user_input:\n",
    "  if i == '$' or i == '@' or i == '!' or i == '0':\n",
    "    print('Present')\n",
    "    break\n",
    "else:\n",
    "  print('Not Present')\n",
    "\n",
    "#using list\n",
    "special_chars = ['$', '@', '!', '0']\n",
    "user_input = input(\"Enter anything: \")\n",
    "for i in user_input:\n",
    "  if i in special_chars:\n",
    "    print('Present')\n",
    "    break\n",
    "else:\n",
    "  print('Not Present')"
   ]
  },
  {
   "cell_type": "markdown",
   "id": "b9cd4842",
   "metadata": {},
   "source": [
    "## Nested loops"
   ]
  },
  {
   "cell_type": "code",
   "execution_count": 61,
   "id": "afebd689",
   "metadata": {},
   "outputs": [
    {
     "name": "stdout",
     "output_type": "stream",
     "text": [
      "1 1\n",
      "1 2\n",
      "1 3\n",
      "1 4\n",
      "1 5\n",
      "2 1\n",
      "2 2\n",
      "2 3\n",
      "2 4\n",
      "2 5\n"
     ]
    }
   ],
   "source": [
    "for i in range(1, 3):\n",
    "  for j in range(1, 6):\n",
    "    print(i, j)"
   ]
  },
  {
   "cell_type": "code",
   "execution_count": 62,
   "id": "de2139b8",
   "metadata": {},
   "outputs": [
    {
     "name": "stdout",
     "output_type": "stream",
     "text": [
      "1 1\n",
      "2 1\n",
      "2 2\n",
      "3 1\n",
      "3 2\n",
      "3 3\n"
     ]
    }
   ],
   "source": [
    "for i in range(1, 4):\n",
    "  for j in range(1, i + 1):\n",
    "    print(i, j)"
   ]
  },
  {
   "cell_type": "code",
   "execution_count": 86,
   "id": "dbd9d989",
   "metadata": {},
   "outputs": [
    {
     "name": "stdout",
     "output_type": "stream",
     "text": [
      "1 \n",
      "1 2 \n",
      "1 2 3 \n",
      "1 2 3 4 \n",
      "1 2 3 4 5 \n"
     ]
    }
   ],
   "source": [
    "# Print triangle\n",
    "\n",
    "for i in range(1, 6):\n",
    "  for j in range(1, i+1):\n",
    "    print(j, end=\" \")\n",
    "  print() # print('\\n')"
   ]
  },
  {
   "cell_type": "code",
   "execution_count": null,
   "id": "0f1d1f56",
   "metadata": {},
   "outputs": [],
   "source": []
  },
  {
   "cell_type": "code",
   "execution_count": null,
   "id": "9d567d2f",
   "metadata": {},
   "outputs": [
    {
     "name": "stdout",
     "output_type": "stream",
     "text": [
      "* \n",
      "* * \n",
      "* * * \n",
      "* * * * \n",
      "* * * * * \n"
     ]
    }
   ],
   "source": [
    "# '*' triangle\n",
    "\n",
    "for i in range(1, 6):\n",
    "  for j in range(1, i+1):\n",
    "    print('*', end=\" \")\n",
    "  print()"
   ]
  },
  {
   "cell_type": "code",
   "execution_count": 101,
   "id": "5abd7881",
   "metadata": {},
   "outputs": [
    {
     "name": "stdout",
     "output_type": "stream",
     "text": [
      "1 2 3 4 5 6 \n",
      "1 2 3 4 5 \n",
      "1 2 3 4 \n",
      "1 2 3 \n",
      "1 2 \n",
      "1 \n",
      "\n"
     ]
    }
   ],
   "source": [
    "# Reverse Triangle\n",
    "\n",
    "for i in range(6, -1, -1):\n",
    "  for j in range(1, i+1):\n",
    "    print(j, end=\" \")\n",
    "  print()"
   ]
  },
  {
   "cell_type": "markdown",
   "id": "b6d54438",
   "metadata": {},
   "source": [
    "### Assignmenet:\n",
    "print piramid"
   ]
  },
  {
   "cell_type": "code",
   "execution_count": null,
   "id": "a5b4699e",
   "metadata": {},
   "outputs": [
    {
     "name": "stdout",
     "output_type": "stream",
     "text": [
      "             *  \n",
      "           *   *  \n",
      "         *   *   *  \n",
      "       *   *   *   *  \n",
      "     *   *   *   *   *  \n",
      "   *   *   *   *   *   *  \n"
     ]
    }
   ],
   "source": [
    "row = 7\n",
    "for i in range(1, row):\n",
    "  print('  '*(row-i), end=\"\")\n",
    "  print(\" *  \"*i)"
   ]
  },
  {
   "cell_type": "markdown",
   "id": "9ad14f10",
   "metadata": {},
   "source": [
    "## Functions\n",
    "\n",
    "`def function_name(params):\n",
    "  #statements`"
   ]
  },
  {
   "cell_type": "code",
   "execution_count": 102,
   "id": "cf83205f",
   "metadata": {},
   "outputs": [
    {
     "name": "stdout",
     "output_type": "stream",
     "text": [
      "30\n"
     ]
    }
   ],
   "source": [
    "# Add function\n",
    "def add(x, y):\n",
    "  res = x + y\n",
    "  print(res)\n",
    "add(10, 20)"
   ]
  },
  {
   "cell_type": "code",
   "execution_count": 40,
   "id": "3ed5f9ee",
   "metadata": {},
   "outputs": [
    {
     "name": "stdout",
     "output_type": "stream",
     "text": [
      "{2: 5, 3: 1, 4: 1, 5: 5}\n",
      "2\n",
      "5\n"
     ]
    }
   ],
   "source": [
    "# user_list = input('Enter your list(seperated by space):')\n",
    "# user_list = user_list.split(\" \")\n",
    "# user_list = [int(x) for x in user_list]\n",
    "\n",
    "# mod of list items\n",
    "user_list = [2, 2,2 ,2, 2,3,4, 5, 5,5 , 5,5]\n",
    "\n",
    "res_dict = {}\n",
    "def mode_of_list(my_list):\n",
    "  for i in my_list:\n",
    "      if i not in res_dict:\n",
    "        res_dict[i] = user_list.count(i)\n",
    "\n",
    "mode_of_list(user_list)\n",
    "print(res_dict)\n",
    "\n",
    "\n",
    "my_max = max(res_dict.values()) # max(y, key = y.get)\n",
    "\n",
    "# for j in res_dict.keys():\n",
    "#   if res_dict[j] == my_max:\n",
    "#     print(j, end=\" \")\n",
    "\n",
    "for k, v in res_dict.items():\n",
    "   if v == my_max:\n",
    "      print(k)"
   ]
  },
  {
   "cell_type": "code",
   "execution_count": 36,
   "id": "c15e07be",
   "metadata": {},
   "outputs": [
    {
     "name": "stdout",
     "output_type": "stream",
     "text": [
      "Frequencies: {2: 5, 3: 1, 4: 1, 5: 2}\n",
      "Mode(s): [2]\n"
     ]
    }
   ],
   "source": [
    "from collections import Counter\n",
    "\n",
    "user_list = [2, 2, 2, 2, 2, 3, 4, 5, 5]\n",
    "\n",
    "def mode_of_list(my_list):\n",
    "    count = Counter(my_list)\n",
    "    max_count = max(count.values())\n",
    "    modes = [k for k, v in count.items() if v == max_count]\n",
    "    print(\"Frequencies:\", dict(count))\n",
    "    print(\"Mode(s):\", modes)\n",
    "\n",
    "mode_of_list(user_list)"
   ]
  },
  {
   "cell_type": "code",
   "execution_count": 37,
   "id": "eb062dad",
   "metadata": {},
   "outputs": [
    {
     "name": "stdout",
     "output_type": "stream",
     "text": [
      "20\n",
      "1 10\n",
      "20 50\n"
     ]
    }
   ],
   "source": [
    "# find max in dict\n",
    "y= {1: 10, 20: 50}\n",
    "max(y, key = y.get)\n",
    "\n",
    "# map(max)\n",
    "my_list = [1, 2, 4]\n",
    "my_list  = list(map(str, my_list))\n",
    "my_list\n",
    "print(max(y))\n",
    "\n",
    "for k, v in y.items():\n",
    "  print(k, v)"
   ]
  },
  {
   "cell_type": "code",
   "execution_count": 32,
   "id": "25afcadb",
   "metadata": {},
   "outputs": [
    {
     "name": "stdout",
     "output_type": "stream",
     "text": [
      "[2, 1, 23.56, 'sumit', 0, 7]\n"
     ]
    }
   ],
   "source": [
    "\n",
    "\n",
    "x = [1, 2, 'sumit', 23.56, 7, 0]\n",
    "# x = (input(\"Enter list seperated y spaces: \")).split(\" \")\n",
    "y = []\n",
    "for i in range(0, len(x)-1, 2):\n",
    "  y.append(x[i+1])\n",
    "  y.append(x[i])\n",
    "\n",
    "# if len(x) % 2 != 0:\n",
    "#   y.append(x[-1])\n",
    "\n",
    "print(y)"
   ]
  },
  {
   "cell_type": "code",
   "execution_count": null,
   "id": "868a9662",
   "metadata": {},
   "outputs": [
    {
     "name": "stdout",
     "output_type": "stream",
     "text": [
      "[2, 1, 23.56, 'sumit', 0, 7]\n"
     ]
    }
   ],
   "source": [
    "# Better solution\n",
    "x = [1, 2, 'sumit', 23.56, 7, 0]\n",
    "\n",
    "for i in range(0, len(x), 2):\n",
    "  x[i], x[i+1] = x[i+1], x[i]\n",
    "\n",
    "print(x)"
   ]
  },
  {
   "cell_type": "code",
   "execution_count": 4,
   "id": "d0e50cdf",
   "metadata": {},
   "outputs": [
    {
     "name": "stdout",
     "output_type": "stream",
     "text": [
      "Triangle is possible\n"
     ]
    }
   ],
   "source": [
    "# Check if the trianle is posible or not\n",
    "\n",
    "# a, b, c\n",
    "# a + b > c\n",
    "# b + c > a\n",
    "# a + c > b\n",
    "\n",
    "def is_triangle_possible(a, b, c):\n",
    "  if a + b > c and b + c > a and a + c > b:\n",
    "    print(\"Triangle is possible\")\n",
    "  else:\n",
    "    print(\"Triangle is not possible\")\n",
    "\n",
    "is_triangle_possible(3, 4, 5)"
   ]
  }
 ],
 "metadata": {
  "kernelspec": {
   "display_name": "Python 3",
   "language": "python",
   "name": "python3"
  },
  "language_info": {
   "codemirror_mode": {
    "name": "ipython",
    "version": 3
   },
   "file_extension": ".py",
   "mimetype": "text/x-python",
   "name": "python",
   "nbconvert_exporter": "python",
   "pygments_lexer": "ipython3",
   "version": "3.11.11"
  }
 },
 "nbformat": 4,
 "nbformat_minor": 5
}

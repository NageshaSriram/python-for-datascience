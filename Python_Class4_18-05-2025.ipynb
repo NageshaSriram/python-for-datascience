{
 "cells": [
  {
   "cell_type": "markdown",
   "id": "c0f78b7b",
   "metadata": {},
   "source": [
    "# lambda"
   ]
  },
  {
   "cell_type": "code",
   "execution_count": 127,
   "id": "738ce7c0",
   "metadata": {},
   "outputs": [
    {
     "data": {
      "text/plain": [
       "30"
      ]
     },
     "execution_count": 127,
     "metadata": {},
     "output_type": "execute_result"
    }
   ],
   "source": [
    "# Add numbers\n",
    "add = lambda x, y: x + y\n",
    "add(10, 20)"
   ]
  },
  {
   "cell_type": "code",
   "execution_count": 1,
   "id": "127e8781",
   "metadata": {},
   "outputs": [
    {
     "data": {
      "text/plain": [
       "False"
      ]
     },
     "execution_count": 1,
     "metadata": {},
     "output_type": "execute_result"
    }
   ],
   "source": [
    "# check palindrom\n",
    "is_palindrom = lambda x: True if x == x[::-1] else False\n",
    "\n",
    "is_palindrom('NANA')\n"
   ]
  },
  {
   "cell_type": "code",
   "execution_count": 129,
   "id": "96700aa8",
   "metadata": {},
   "outputs": [
    {
     "data": {
      "text/plain": [
       "'Even'"
      ]
     },
     "execution_count": 129,
     "metadata": {},
     "output_type": "execute_result"
    }
   ],
   "source": [
    "# check odd or even\n",
    "\n",
    "check_odd_even = lambda x: 'Even' if x%2 == 0 else 'Odd'\n",
    "check_odd_even(12)"
   ]
  },
  {
   "cell_type": "markdown",
   "id": "34a4b505",
   "metadata": {},
   "source": [
    "# List comprehension"
   ]
  },
  {
   "cell_type": "code",
   "execution_count": 130,
   "id": "73475d2c",
   "metadata": {},
   "outputs": [
    {
     "data": {
      "text/plain": [
       "[4, 9, 16, 25]"
      ]
     },
     "execution_count": 130,
     "metadata": {},
     "output_type": "execute_result"
    }
   ],
   "source": [
    "a = [2, 3, 4, 5]\n",
    "new_list = [x**2 for x in a]\n",
    "new_list"
   ]
  },
  {
   "cell_type": "code",
   "execution_count": 131,
   "id": "cb58d798",
   "metadata": {},
   "outputs": [
    {
     "data": {
      "text/plain": [
       "True"
      ]
     },
     "execution_count": 131,
     "metadata": {},
     "output_type": "execute_result"
    }
   ],
   "source": [
    "# compare 2 list\n",
    "\n",
    "a = [1, 2, 3]\n",
    "b = [1, 3, 2]\n",
    "a.sort()\n",
    "b.sort()\n",
    "a == b"
   ]
  },
  {
   "cell_type": "markdown",
   "id": "6b8f13cf",
   "metadata": {},
   "source": [
    "# Data frame"
   ]
  },
  {
   "cell_type": "markdown",
   "id": "17bf0502",
   "metadata": {},
   "source": [
    "### install pandas"
   ]
  },
  {
   "cell_type": "markdown",
   "id": "629faaad",
   "metadata": {},
   "source": [
    "pip install pandas"
   ]
  },
  {
   "cell_type": "code",
   "execution_count": 1,
   "id": "4961c6c4",
   "metadata": {},
   "outputs": [],
   "source": [
    "a = {\n",
    "  'name': ['Surya', 'Ajit', 'Kamal'],\n",
    "  'age' : [49, 52, 60],\n",
    "  'income': [100, 80, 90]\n",
    "}"
   ]
  },
  {
   "cell_type": "code",
   "execution_count": 2,
   "id": "64245b2c",
   "metadata": {},
   "outputs": [
    {
     "data": {
      "text/plain": [
       "{'name': ['Surya', 'Ajit', 'Kamal'],\n",
       " 'age': [49, 52, 60],\n",
       " 'income': [100, 80, 90]}"
      ]
     },
     "execution_count": 2,
     "metadata": {},
     "output_type": "execute_result"
    }
   ],
   "source": [
    "a"
   ]
  },
  {
   "cell_type": "code",
   "execution_count": 3,
   "id": "b47ed039",
   "metadata": {},
   "outputs": [],
   "source": [
    "import pandas as pd"
   ]
  },
  {
   "cell_type": "markdown",
   "id": "87915051",
   "metadata": {},
   "source": [
    "## subsetting on data frame\n",
    "\n",
    "- `iloc`: use it for index search\n",
    "- `loc`: use it for row and column names"
   ]
  },
  {
   "cell_type": "code",
   "execution_count": 4,
   "id": "9ec390ef",
   "metadata": {},
   "outputs": [],
   "source": [
    "data = pd.DataFrame(a)"
   ]
  },
  {
   "cell_type": "code",
   "execution_count": 5,
   "id": "f3bdeb9c",
   "metadata": {},
   "outputs": [
    {
     "data": {
      "text/html": [
       "<div>\n",
       "<style scoped>\n",
       "    .dataframe tbody tr th:only-of-type {\n",
       "        vertical-align: middle;\n",
       "    }\n",
       "\n",
       "    .dataframe tbody tr th {\n",
       "        vertical-align: top;\n",
       "    }\n",
       "\n",
       "    .dataframe thead th {\n",
       "        text-align: right;\n",
       "    }\n",
       "</style>\n",
       "<table border=\"1\" class=\"dataframe\">\n",
       "  <thead>\n",
       "    <tr style=\"text-align: right;\">\n",
       "      <th></th>\n",
       "      <th>name</th>\n",
       "      <th>age</th>\n",
       "      <th>income</th>\n",
       "    </tr>\n",
       "  </thead>\n",
       "  <tbody>\n",
       "    <tr>\n",
       "      <th>0</th>\n",
       "      <td>Surya</td>\n",
       "      <td>49</td>\n",
       "      <td>100</td>\n",
       "    </tr>\n",
       "    <tr>\n",
       "      <th>1</th>\n",
       "      <td>Ajit</td>\n",
       "      <td>52</td>\n",
       "      <td>80</td>\n",
       "    </tr>\n",
       "    <tr>\n",
       "      <th>2</th>\n",
       "      <td>Kamal</td>\n",
       "      <td>60</td>\n",
       "      <td>90</td>\n",
       "    </tr>\n",
       "  </tbody>\n",
       "</table>\n",
       "</div>"
      ],
      "text/plain": [
       "    name  age  income\n",
       "0  Surya   49     100\n",
       "1   Ajit   52      80\n",
       "2  Kamal   60      90"
      ]
     },
     "execution_count": 5,
     "metadata": {},
     "output_type": "execute_result"
    }
   ],
   "source": [
    "data"
   ]
  },
  {
   "cell_type": "code",
   "execution_count": 6,
   "id": "ccf80d6a",
   "metadata": {},
   "outputs": [
    {
     "data": {
      "text/plain": [
       "name      Surya\n",
       "age          49\n",
       "income      100\n",
       "Name: 0, dtype: object"
      ]
     },
     "execution_count": 6,
     "metadata": {},
     "output_type": "execute_result"
    }
   ],
   "source": [
    "data.iloc[0,] # find entire row"
   ]
  },
  {
   "cell_type": "code",
   "execution_count": 8,
   "id": "f519e781",
   "metadata": {},
   "outputs": [
    {
     "data": {
      "text/plain": [
       "0    100\n",
       "1     80\n",
       "2     90\n",
       "Name: income, dtype: int64"
      ]
     },
     "execution_count": 8,
     "metadata": {},
     "output_type": "execute_result"
    }
   ],
   "source": [
    "x = data.iloc[:,2] # entire income, `:` is everything\n",
    "type(x) # pandas.core.series.Series\n",
    "x"
   ]
  },
  {
   "cell_type": "code",
   "execution_count": 9,
   "id": "2cb177c1",
   "metadata": {},
   "outputs": [],
   "source": [
    "# provides names to rows, we can use index names of `.loc``\n",
    "data = pd.DataFrame(a, index = ['a', 'b', 'c'])"
   ]
  },
  {
   "cell_type": "code",
   "execution_count": 10,
   "id": "a51478ff",
   "metadata": {},
   "outputs": [
    {
     "data": {
      "text/html": [
       "<div>\n",
       "<style scoped>\n",
       "    .dataframe tbody tr th:only-of-type {\n",
       "        vertical-align: middle;\n",
       "    }\n",
       "\n",
       "    .dataframe tbody tr th {\n",
       "        vertical-align: top;\n",
       "    }\n",
       "\n",
       "    .dataframe thead th {\n",
       "        text-align: right;\n",
       "    }\n",
       "</style>\n",
       "<table border=\"1\" class=\"dataframe\">\n",
       "  <thead>\n",
       "    <tr style=\"text-align: right;\">\n",
       "      <th></th>\n",
       "      <th>name</th>\n",
       "      <th>age</th>\n",
       "      <th>income</th>\n",
       "    </tr>\n",
       "  </thead>\n",
       "  <tbody>\n",
       "    <tr>\n",
       "      <th>a</th>\n",
       "      <td>Surya</td>\n",
       "      <td>49</td>\n",
       "      <td>100</td>\n",
       "    </tr>\n",
       "    <tr>\n",
       "      <th>b</th>\n",
       "      <td>Ajit</td>\n",
       "      <td>52</td>\n",
       "      <td>80</td>\n",
       "    </tr>\n",
       "    <tr>\n",
       "      <th>c</th>\n",
       "      <td>Kamal</td>\n",
       "      <td>60</td>\n",
       "      <td>90</td>\n",
       "    </tr>\n",
       "  </tbody>\n",
       "</table>\n",
       "</div>"
      ],
      "text/plain": [
       "    name  age  income\n",
       "a  Surya   49     100\n",
       "b   Ajit   52      80\n",
       "c  Kamal   60      90"
      ]
     },
     "execution_count": 10,
     "metadata": {},
     "output_type": "execute_result"
    }
   ],
   "source": [
    "data"
   ]
  },
  {
   "cell_type": "code",
   "execution_count": 11,
   "id": "4dc6c6b7",
   "metadata": {},
   "outputs": [],
   "source": [
    "# extract"
   ]
  },
  {
   "cell_type": "code",
   "execution_count": 12,
   "id": "74886d9d",
   "metadata": {},
   "outputs": [],
   "source": [
    "\n",
    "data.loc['a','age'] = 29\n",
    "data.loc['a','name'] = 'virat'"
   ]
  },
  {
   "cell_type": "code",
   "execution_count": 13,
   "id": "18438d9e",
   "metadata": {},
   "outputs": [
    {
     "data": {
      "text/html": [
       "<div>\n",
       "<style scoped>\n",
       "    .dataframe tbody tr th:only-of-type {\n",
       "        vertical-align: middle;\n",
       "    }\n",
       "\n",
       "    .dataframe tbody tr th {\n",
       "        vertical-align: top;\n",
       "    }\n",
       "\n",
       "    .dataframe thead th {\n",
       "        text-align: right;\n",
       "    }\n",
       "</style>\n",
       "<table border=\"1\" class=\"dataframe\">\n",
       "  <thead>\n",
       "    <tr style=\"text-align: right;\">\n",
       "      <th></th>\n",
       "      <th>name</th>\n",
       "      <th>age</th>\n",
       "      <th>income</th>\n",
       "    </tr>\n",
       "  </thead>\n",
       "  <tbody>\n",
       "    <tr>\n",
       "      <th>a</th>\n",
       "      <td>virat</td>\n",
       "      <td>29</td>\n",
       "      <td>100</td>\n",
       "    </tr>\n",
       "    <tr>\n",
       "      <th>b</th>\n",
       "      <td>Ajit</td>\n",
       "      <td>52</td>\n",
       "      <td>80</td>\n",
       "    </tr>\n",
       "    <tr>\n",
       "      <th>c</th>\n",
       "      <td>Kamal</td>\n",
       "      <td>60</td>\n",
       "      <td>90</td>\n",
       "    </tr>\n",
       "  </tbody>\n",
       "</table>\n",
       "</div>"
      ],
      "text/plain": [
       "    name  age  income\n",
       "a  virat   29     100\n",
       "b   Ajit   52      80\n",
       "c  Kamal   60      90"
      ]
     },
     "execution_count": 13,
     "metadata": {},
     "output_type": "execute_result"
    }
   ],
   "source": [
    "data"
   ]
  },
  {
   "cell_type": "code",
   "execution_count": 14,
   "id": "26d6169e",
   "metadata": {},
   "outputs": [],
   "source": [
    "## search for perticular row "
   ]
  },
  {
   "cell_type": "code",
   "execution_count": 15,
   "id": "7c4f237a",
   "metadata": {},
   "outputs": [],
   "source": [
    "# data[data.name == 'Surya'].loc['a','age']"
   ]
  },
  {
   "cell_type": "code",
   "execution_count": 19,
   "id": "dc995378",
   "metadata": {},
   "outputs": [
    {
     "name": "stdout",
     "output_type": "stream",
     "text": [
      "<class 'pandas.core.series.Series'>\n"
     ]
    },
    {
     "data": {
      "text/plain": [
       "a    29\n",
       "Name: age, dtype: int64"
      ]
     },
     "execution_count": 19,
     "metadata": {},
     "output_type": "execute_result"
    }
   ],
   "source": [
    "\n",
    "\n",
    "type(data[data.name == 'SURYA']['age'])\n",
    "print(pd.Series)\n",
    "data[data.name == 'virat'][\"age\"]"
   ]
  },
  {
   "cell_type": "code",
   "execution_count": 147,
   "id": "a8660402",
   "metadata": {},
   "outputs": [
    {
     "data": {
      "text/html": [
       "<div>\n",
       "<style scoped>\n",
       "    .dataframe tbody tr th:only-of-type {\n",
       "        vertical-align: middle;\n",
       "    }\n",
       "\n",
       "    .dataframe tbody tr th {\n",
       "        vertical-align: top;\n",
       "    }\n",
       "\n",
       "    .dataframe thead th {\n",
       "        text-align: right;\n",
       "    }\n",
       "</style>\n",
       "<table border=\"1\" class=\"dataframe\">\n",
       "  <thead>\n",
       "    <tr style=\"text-align: right;\">\n",
       "      <th></th>\n",
       "      <th>name</th>\n",
       "      <th>age</th>\n",
       "      <th>income</th>\n",
       "    </tr>\n",
       "  </thead>\n",
       "  <tbody>\n",
       "    <tr>\n",
       "      <th>a</th>\n",
       "      <td>virat</td>\n",
       "      <td>29</td>\n",
       "      <td>100</td>\n",
       "    </tr>\n",
       "    <tr>\n",
       "      <th>b</th>\n",
       "      <td>Ajit</td>\n",
       "      <td>52</td>\n",
       "      <td>80</td>\n",
       "    </tr>\n",
       "    <tr>\n",
       "      <th>c</th>\n",
       "      <td>Kamal</td>\n",
       "      <td>60</td>\n",
       "      <td>90</td>\n",
       "    </tr>\n",
       "  </tbody>\n",
       "</table>\n",
       "</div>"
      ],
      "text/plain": [
       "    name  age  income\n",
       "a  virat   29     100\n",
       "b   Ajit   52      80\n",
       "c  Kamal   60      90"
      ]
     },
     "execution_count": 147,
     "metadata": {},
     "output_type": "execute_result"
    }
   ],
   "source": [
    "# age greated than 25\n",
    "\n",
    "data[data.age >= 25]"
   ]
  },
  {
   "cell_type": "code",
   "execution_count": 20,
   "id": "d032889d",
   "metadata": {},
   "outputs": [
    {
     "data": {
      "text/plain": [
       "['VIRAT', 'AJIT', 'KAMAL']"
      ]
     },
     "execution_count": 20,
     "metadata": {},
     "output_type": "execute_result"
    }
   ],
   "source": [
    "# iterrate data fram series\n",
    "x = []\n",
    "for i in data.name:\n",
    "  x.append(i.upper())\n",
    "x"
   ]
  },
  {
   "cell_type": "code",
   "execution_count": 21,
   "id": "243df32c",
   "metadata": {},
   "outputs": [
    {
     "data": {
      "text/plain": [
       "a    virat\n",
       "b     Ajit\n",
       "c    Kamal\n",
       "Name: name, dtype: object"
      ]
     },
     "execution_count": 21,
     "metadata": {},
     "output_type": "execute_result"
    }
   ],
   "source": [
    "data.name"
   ]
  },
  {
   "cell_type": "code",
   "execution_count": 22,
   "id": "f73b9182",
   "metadata": {},
   "outputs": [],
   "source": [
    "data.name = x"
   ]
  },
  {
   "cell_type": "code",
   "execution_count": 23,
   "id": "76ced787",
   "metadata": {},
   "outputs": [
    {
     "data": {
      "text/html": [
       "<div>\n",
       "<style scoped>\n",
       "    .dataframe tbody tr th:only-of-type {\n",
       "        vertical-align: middle;\n",
       "    }\n",
       "\n",
       "    .dataframe tbody tr th {\n",
       "        vertical-align: top;\n",
       "    }\n",
       "\n",
       "    .dataframe thead th {\n",
       "        text-align: right;\n",
       "    }\n",
       "</style>\n",
       "<table border=\"1\" class=\"dataframe\">\n",
       "  <thead>\n",
       "    <tr style=\"text-align: right;\">\n",
       "      <th></th>\n",
       "      <th>name</th>\n",
       "      <th>age</th>\n",
       "      <th>income</th>\n",
       "    </tr>\n",
       "  </thead>\n",
       "  <tbody>\n",
       "    <tr>\n",
       "      <th>a</th>\n",
       "      <td>VIRAT</td>\n",
       "      <td>29</td>\n",
       "      <td>100</td>\n",
       "    </tr>\n",
       "    <tr>\n",
       "      <th>b</th>\n",
       "      <td>AJIT</td>\n",
       "      <td>52</td>\n",
       "      <td>80</td>\n",
       "    </tr>\n",
       "    <tr>\n",
       "      <th>c</th>\n",
       "      <td>KAMAL</td>\n",
       "      <td>60</td>\n",
       "      <td>90</td>\n",
       "    </tr>\n",
       "  </tbody>\n",
       "</table>\n",
       "</div>"
      ],
      "text/plain": [
       "    name  age  income\n",
       "a  VIRAT   29     100\n",
       "b   AJIT   52      80\n",
       "c  KAMAL   60      90"
      ]
     },
     "execution_count": 23,
     "metadata": {},
     "output_type": "execute_result"
    }
   ],
   "source": [
    "data"
   ]
  },
  {
   "cell_type": "code",
   "execution_count": 24,
   "id": "f26ff6fa",
   "metadata": {},
   "outputs": [],
   "source": [
    "data['new_name'] = x"
   ]
  },
  {
   "cell_type": "code",
   "execution_count": 25,
   "id": "51918829",
   "metadata": {},
   "outputs": [
    {
     "data": {
      "text/html": [
       "<div>\n",
       "<style scoped>\n",
       "    .dataframe tbody tr th:only-of-type {\n",
       "        vertical-align: middle;\n",
       "    }\n",
       "\n",
       "    .dataframe tbody tr th {\n",
       "        vertical-align: top;\n",
       "    }\n",
       "\n",
       "    .dataframe thead th {\n",
       "        text-align: right;\n",
       "    }\n",
       "</style>\n",
       "<table border=\"1\" class=\"dataframe\">\n",
       "  <thead>\n",
       "    <tr style=\"text-align: right;\">\n",
       "      <th></th>\n",
       "      <th>name</th>\n",
       "      <th>age</th>\n",
       "      <th>income</th>\n",
       "      <th>new_name</th>\n",
       "    </tr>\n",
       "  </thead>\n",
       "  <tbody>\n",
       "    <tr>\n",
       "      <th>a</th>\n",
       "      <td>VIRAT</td>\n",
       "      <td>29</td>\n",
       "      <td>100</td>\n",
       "      <td>VIRAT</td>\n",
       "    </tr>\n",
       "    <tr>\n",
       "      <th>b</th>\n",
       "      <td>AJIT</td>\n",
       "      <td>52</td>\n",
       "      <td>80</td>\n",
       "      <td>AJIT</td>\n",
       "    </tr>\n",
       "    <tr>\n",
       "      <th>c</th>\n",
       "      <td>KAMAL</td>\n",
       "      <td>60</td>\n",
       "      <td>90</td>\n",
       "      <td>KAMAL</td>\n",
       "    </tr>\n",
       "  </tbody>\n",
       "</table>\n",
       "</div>"
      ],
      "text/plain": [
       "    name  age  income new_name\n",
       "a  VIRAT   29     100    VIRAT\n",
       "b   AJIT   52      80     AJIT\n",
       "c  KAMAL   60      90    KAMAL"
      ]
     },
     "execution_count": 25,
     "metadata": {},
     "output_type": "execute_result"
    }
   ],
   "source": [
    "data"
   ]
  },
  {
   "cell_type": "code",
   "execution_count": 26,
   "id": "5538d1cc",
   "metadata": {},
   "outputs": [],
   "source": [
    "age_col = []\n",
    "\n",
    "for x in data.age:\n",
    "  if x % 2 == 0:\n",
    "    age_col.append(True)\n",
    "  else:\n",
    "    age_col.append(False)\n",
    "data['age_even_odd'] = age_col"
   ]
  },
  {
   "cell_type": "code",
   "execution_count": 27,
   "id": "7604c508",
   "metadata": {},
   "outputs": [
    {
     "data": {
      "text/html": [
       "<div>\n",
       "<style scoped>\n",
       "    .dataframe tbody tr th:only-of-type {\n",
       "        vertical-align: middle;\n",
       "    }\n",
       "\n",
       "    .dataframe tbody tr th {\n",
       "        vertical-align: top;\n",
       "    }\n",
       "\n",
       "    .dataframe thead th {\n",
       "        text-align: right;\n",
       "    }\n",
       "</style>\n",
       "<table border=\"1\" class=\"dataframe\">\n",
       "  <thead>\n",
       "    <tr style=\"text-align: right;\">\n",
       "      <th></th>\n",
       "      <th>name</th>\n",
       "      <th>age</th>\n",
       "      <th>income</th>\n",
       "      <th>new_name</th>\n",
       "      <th>age_even_odd</th>\n",
       "    </tr>\n",
       "  </thead>\n",
       "  <tbody>\n",
       "    <tr>\n",
       "      <th>a</th>\n",
       "      <td>VIRAT</td>\n",
       "      <td>29</td>\n",
       "      <td>100</td>\n",
       "      <td>VIRAT</td>\n",
       "      <td>False</td>\n",
       "    </tr>\n",
       "    <tr>\n",
       "      <th>b</th>\n",
       "      <td>AJIT</td>\n",
       "      <td>52</td>\n",
       "      <td>80</td>\n",
       "      <td>AJIT</td>\n",
       "      <td>True</td>\n",
       "    </tr>\n",
       "    <tr>\n",
       "      <th>c</th>\n",
       "      <td>KAMAL</td>\n",
       "      <td>60</td>\n",
       "      <td>90</td>\n",
       "      <td>KAMAL</td>\n",
       "      <td>True</td>\n",
       "    </tr>\n",
       "  </tbody>\n",
       "</table>\n",
       "</div>"
      ],
      "text/plain": [
       "    name  age  income new_name  age_even_odd\n",
       "a  VIRAT   29     100    VIRAT         False\n",
       "b   AJIT   52      80     AJIT          True\n",
       "c  KAMAL   60      90    KAMAL          True"
      ]
     },
     "execution_count": 27,
     "metadata": {},
     "output_type": "execute_result"
    }
   ],
   "source": [
    "data"
   ]
  },
  {
   "cell_type": "markdown",
   "id": "8331bcaf",
   "metadata": {},
   "source": [
    "# to get description shortcut is shift tab"
   ]
  },
  {
   "cell_type": "code",
   "execution_count": 28,
   "id": "b4ccf66e",
   "metadata": {},
   "outputs": [
    {
     "data": {
      "text/html": [
       "<div>\n",
       "<style scoped>\n",
       "    .dataframe tbody tr th:only-of-type {\n",
       "        vertical-align: middle;\n",
       "    }\n",
       "\n",
       "    .dataframe tbody tr th {\n",
       "        vertical-align: top;\n",
       "    }\n",
       "\n",
       "    .dataframe thead th {\n",
       "        text-align: right;\n",
       "    }\n",
       "</style>\n",
       "<table border=\"1\" class=\"dataframe\">\n",
       "  <thead>\n",
       "    <tr style=\"text-align: right;\">\n",
       "      <th></th>\n",
       "      <th>age</th>\n",
       "      <th>income</th>\n",
       "      <th>new_name</th>\n",
       "      <th>age_even_odd</th>\n",
       "    </tr>\n",
       "  </thead>\n",
       "  <tbody>\n",
       "    <tr>\n",
       "      <th>a</th>\n",
       "      <td>29</td>\n",
       "      <td>100</td>\n",
       "      <td>VIRAT</td>\n",
       "      <td>False</td>\n",
       "    </tr>\n",
       "    <tr>\n",
       "      <th>b</th>\n",
       "      <td>52</td>\n",
       "      <td>80</td>\n",
       "      <td>AJIT</td>\n",
       "      <td>True</td>\n",
       "    </tr>\n",
       "    <tr>\n",
       "      <th>c</th>\n",
       "      <td>60</td>\n",
       "      <td>90</td>\n",
       "      <td>KAMAL</td>\n",
       "      <td>True</td>\n",
       "    </tr>\n",
       "  </tbody>\n",
       "</table>\n",
       "</div>"
      ],
      "text/plain": [
       "   age  income new_name  age_even_odd\n",
       "a   29     100    VIRAT         False\n",
       "b   52      80     AJIT          True\n",
       "c   60      90    KAMAL          True"
      ]
     },
     "execution_count": 28,
     "metadata": {},
     "output_type": "execute_result"
    }
   ],
   "source": [
    "## drop the entire column\n",
    "\n",
    "data.drop(columns=['name']) # ov view"
   ]
  },
  {
   "cell_type": "code",
   "execution_count": 29,
   "id": "21badba3",
   "metadata": {},
   "outputs": [
    {
     "data": {
      "text/html": [
       "<div>\n",
       "<style scoped>\n",
       "    .dataframe tbody tr th:only-of-type {\n",
       "        vertical-align: middle;\n",
       "    }\n",
       "\n",
       "    .dataframe tbody tr th {\n",
       "        vertical-align: top;\n",
       "    }\n",
       "\n",
       "    .dataframe thead th {\n",
       "        text-align: right;\n",
       "    }\n",
       "</style>\n",
       "<table border=\"1\" class=\"dataframe\">\n",
       "  <thead>\n",
       "    <tr style=\"text-align: right;\">\n",
       "      <th></th>\n",
       "      <th>name</th>\n",
       "      <th>age</th>\n",
       "      <th>income</th>\n",
       "      <th>new_name</th>\n",
       "      <th>age_even_odd</th>\n",
       "    </tr>\n",
       "  </thead>\n",
       "  <tbody>\n",
       "    <tr>\n",
       "      <th>a</th>\n",
       "      <td>VIRAT</td>\n",
       "      <td>29</td>\n",
       "      <td>100</td>\n",
       "      <td>VIRAT</td>\n",
       "      <td>False</td>\n",
       "    </tr>\n",
       "    <tr>\n",
       "      <th>b</th>\n",
       "      <td>AJIT</td>\n",
       "      <td>52</td>\n",
       "      <td>80</td>\n",
       "      <td>AJIT</td>\n",
       "      <td>True</td>\n",
       "    </tr>\n",
       "    <tr>\n",
       "      <th>c</th>\n",
       "      <td>KAMAL</td>\n",
       "      <td>60</td>\n",
       "      <td>90</td>\n",
       "      <td>KAMAL</td>\n",
       "      <td>True</td>\n",
       "    </tr>\n",
       "  </tbody>\n",
       "</table>\n",
       "</div>"
      ],
      "text/plain": [
       "    name  age  income new_name  age_even_odd\n",
       "a  VIRAT   29     100    VIRAT         False\n",
       "b   AJIT   52      80     AJIT          True\n",
       "c  KAMAL   60      90    KAMAL          True"
      ]
     },
     "execution_count": 29,
     "metadata": {},
     "output_type": "execute_result"
    }
   ],
   "source": [
    "data # stil name is not dropped"
   ]
  },
  {
   "cell_type": "code",
   "execution_count": 30,
   "id": "d2ffe31a",
   "metadata": {},
   "outputs": [],
   "source": [
    "# drop column permanenently\n",
    "\n",
    "data.drop(columns=['name'], inplace = True)"
   ]
  },
  {
   "cell_type": "code",
   "execution_count": 31,
   "id": "ad34f522",
   "metadata": {},
   "outputs": [
    {
     "data": {
      "text/html": [
       "<div>\n",
       "<style scoped>\n",
       "    .dataframe tbody tr th:only-of-type {\n",
       "        vertical-align: middle;\n",
       "    }\n",
       "\n",
       "    .dataframe tbody tr th {\n",
       "        vertical-align: top;\n",
       "    }\n",
       "\n",
       "    .dataframe thead th {\n",
       "        text-align: right;\n",
       "    }\n",
       "</style>\n",
       "<table border=\"1\" class=\"dataframe\">\n",
       "  <thead>\n",
       "    <tr style=\"text-align: right;\">\n",
       "      <th></th>\n",
       "      <th>age</th>\n",
       "      <th>income</th>\n",
       "      <th>new_name</th>\n",
       "      <th>age_even_odd</th>\n",
       "    </tr>\n",
       "  </thead>\n",
       "  <tbody>\n",
       "    <tr>\n",
       "      <th>a</th>\n",
       "      <td>29</td>\n",
       "      <td>100</td>\n",
       "      <td>VIRAT</td>\n",
       "      <td>False</td>\n",
       "    </tr>\n",
       "    <tr>\n",
       "      <th>b</th>\n",
       "      <td>52</td>\n",
       "      <td>80</td>\n",
       "      <td>AJIT</td>\n",
       "      <td>True</td>\n",
       "    </tr>\n",
       "    <tr>\n",
       "      <th>c</th>\n",
       "      <td>60</td>\n",
       "      <td>90</td>\n",
       "      <td>KAMAL</td>\n",
       "      <td>True</td>\n",
       "    </tr>\n",
       "  </tbody>\n",
       "</table>\n",
       "</div>"
      ],
      "text/plain": [
       "   age  income new_name  age_even_odd\n",
       "a   29     100    VIRAT         False\n",
       "b   52      80     AJIT          True\n",
       "c   60      90    KAMAL          True"
      ]
     },
     "execution_count": 31,
     "metadata": {},
     "output_type": "execute_result"
    }
   ],
   "source": [
    "data"
   ]
  },
  {
   "cell_type": "code",
   "execution_count": 32,
   "id": "3f530372",
   "metadata": {},
   "outputs": [],
   "source": [
    "# rename column\n",
    "data.rename(columns={'age': 'new_age'}, inplace= True)"
   ]
  },
  {
   "cell_type": "code",
   "execution_count": 33,
   "id": "17f78be5",
   "metadata": {},
   "outputs": [
    {
     "data": {
      "text/html": [
       "<div>\n",
       "<style scoped>\n",
       "    .dataframe tbody tr th:only-of-type {\n",
       "        vertical-align: middle;\n",
       "    }\n",
       "\n",
       "    .dataframe tbody tr th {\n",
       "        vertical-align: top;\n",
       "    }\n",
       "\n",
       "    .dataframe thead th {\n",
       "        text-align: right;\n",
       "    }\n",
       "</style>\n",
       "<table border=\"1\" class=\"dataframe\">\n",
       "  <thead>\n",
       "    <tr style=\"text-align: right;\">\n",
       "      <th></th>\n",
       "      <th>new_age</th>\n",
       "      <th>income</th>\n",
       "      <th>new_name</th>\n",
       "      <th>age_even_odd</th>\n",
       "    </tr>\n",
       "  </thead>\n",
       "  <tbody>\n",
       "    <tr>\n",
       "      <th>a</th>\n",
       "      <td>29</td>\n",
       "      <td>100</td>\n",
       "      <td>VIRAT</td>\n",
       "      <td>False</td>\n",
       "    </tr>\n",
       "    <tr>\n",
       "      <th>b</th>\n",
       "      <td>52</td>\n",
       "      <td>80</td>\n",
       "      <td>AJIT</td>\n",
       "      <td>True</td>\n",
       "    </tr>\n",
       "    <tr>\n",
       "      <th>c</th>\n",
       "      <td>60</td>\n",
       "      <td>90</td>\n",
       "      <td>KAMAL</td>\n",
       "      <td>True</td>\n",
       "    </tr>\n",
       "  </tbody>\n",
       "</table>\n",
       "</div>"
      ],
      "text/plain": [
       "   new_age  income new_name  age_even_odd\n",
       "a       29     100    VIRAT         False\n",
       "b       52      80     AJIT          True\n",
       "c       60      90    KAMAL          True"
      ]
     },
     "execution_count": 33,
     "metadata": {},
     "output_type": "execute_result"
    }
   ],
   "source": [
    "data"
   ]
  },
  {
   "cell_type": "code",
   "execution_count": 34,
   "id": "3196cb00",
   "metadata": {},
   "outputs": [],
   "source": [
    "# drop the row\n",
    "data.drop(index=['b'], inplace=True)"
   ]
  },
  {
   "cell_type": "code",
   "execution_count": 35,
   "id": "7a5b461d",
   "metadata": {},
   "outputs": [
    {
     "data": {
      "text/html": [
       "<div>\n",
       "<style scoped>\n",
       "    .dataframe tbody tr th:only-of-type {\n",
       "        vertical-align: middle;\n",
       "    }\n",
       "\n",
       "    .dataframe tbody tr th {\n",
       "        vertical-align: top;\n",
       "    }\n",
       "\n",
       "    .dataframe thead th {\n",
       "        text-align: right;\n",
       "    }\n",
       "</style>\n",
       "<table border=\"1\" class=\"dataframe\">\n",
       "  <thead>\n",
       "    <tr style=\"text-align: right;\">\n",
       "      <th></th>\n",
       "      <th>new_age</th>\n",
       "      <th>income</th>\n",
       "      <th>new_name</th>\n",
       "      <th>age_even_odd</th>\n",
       "    </tr>\n",
       "  </thead>\n",
       "  <tbody>\n",
       "    <tr>\n",
       "      <th>a</th>\n",
       "      <td>29</td>\n",
       "      <td>100</td>\n",
       "      <td>VIRAT</td>\n",
       "      <td>False</td>\n",
       "    </tr>\n",
       "    <tr>\n",
       "      <th>c</th>\n",
       "      <td>60</td>\n",
       "      <td>90</td>\n",
       "      <td>KAMAL</td>\n",
       "      <td>True</td>\n",
       "    </tr>\n",
       "  </tbody>\n",
       "</table>\n",
       "</div>"
      ],
      "text/plain": [
       "   new_age  income new_name  age_even_odd\n",
       "a       29     100    VIRAT         False\n",
       "c       60      90    KAMAL          True"
      ]
     },
     "execution_count": 35,
     "metadata": {},
     "output_type": "execute_result"
    }
   ],
   "source": [
    "data"
   ]
  },
  {
   "cell_type": "code",
   "execution_count": 36,
   "id": "f480b829",
   "metadata": {},
   "outputs": [],
   "source": [
    "# rename index\n",
    "data.rename(index={'a': 'A'}, inplace=True)"
   ]
  },
  {
   "cell_type": "code",
   "execution_count": 37,
   "id": "a859e22d",
   "metadata": {},
   "outputs": [
    {
     "data": {
      "text/html": [
       "<div>\n",
       "<style scoped>\n",
       "    .dataframe tbody tr th:only-of-type {\n",
       "        vertical-align: middle;\n",
       "    }\n",
       "\n",
       "    .dataframe tbody tr th {\n",
       "        vertical-align: top;\n",
       "    }\n",
       "\n",
       "    .dataframe thead th {\n",
       "        text-align: right;\n",
       "    }\n",
       "</style>\n",
       "<table border=\"1\" class=\"dataframe\">\n",
       "  <thead>\n",
       "    <tr style=\"text-align: right;\">\n",
       "      <th></th>\n",
       "      <th>new_age</th>\n",
       "      <th>income</th>\n",
       "      <th>new_name</th>\n",
       "      <th>age_even_odd</th>\n",
       "    </tr>\n",
       "  </thead>\n",
       "  <tbody>\n",
       "    <tr>\n",
       "      <th>A</th>\n",
       "      <td>29</td>\n",
       "      <td>100</td>\n",
       "      <td>VIRAT</td>\n",
       "      <td>False</td>\n",
       "    </tr>\n",
       "    <tr>\n",
       "      <th>c</th>\n",
       "      <td>60</td>\n",
       "      <td>90</td>\n",
       "      <td>KAMAL</td>\n",
       "      <td>True</td>\n",
       "    </tr>\n",
       "  </tbody>\n",
       "</table>\n",
       "</div>"
      ],
      "text/plain": [
       "   new_age  income new_name  age_even_odd\n",
       "A       29     100    VIRAT         False\n",
       "c       60      90    KAMAL          True"
      ]
     },
     "execution_count": 37,
     "metadata": {},
     "output_type": "execute_result"
    }
   ],
   "source": [
    "data"
   ]
  },
  {
   "cell_type": "code",
   "execution_count": 38,
   "id": "f16d7861",
   "metadata": {},
   "outputs": [],
   "source": [
    "# change the position of columns\n",
    "\n",
    "data = data[['new_name', 'age_even_odd', 'income', 'new_age']]"
   ]
  },
  {
   "cell_type": "code",
   "execution_count": 39,
   "id": "47336537",
   "metadata": {},
   "outputs": [
    {
     "data": {
      "text/html": [
       "<div>\n",
       "<style scoped>\n",
       "    .dataframe tbody tr th:only-of-type {\n",
       "        vertical-align: middle;\n",
       "    }\n",
       "\n",
       "    .dataframe tbody tr th {\n",
       "        vertical-align: top;\n",
       "    }\n",
       "\n",
       "    .dataframe thead th {\n",
       "        text-align: right;\n",
       "    }\n",
       "</style>\n",
       "<table border=\"1\" class=\"dataframe\">\n",
       "  <thead>\n",
       "    <tr style=\"text-align: right;\">\n",
       "      <th></th>\n",
       "      <th>new_name</th>\n",
       "      <th>age_even_odd</th>\n",
       "      <th>income</th>\n",
       "      <th>new_age</th>\n",
       "    </tr>\n",
       "  </thead>\n",
       "  <tbody>\n",
       "    <tr>\n",
       "      <th>A</th>\n",
       "      <td>VIRAT</td>\n",
       "      <td>False</td>\n",
       "      <td>100</td>\n",
       "      <td>29</td>\n",
       "    </tr>\n",
       "    <tr>\n",
       "      <th>c</th>\n",
       "      <td>KAMAL</td>\n",
       "      <td>True</td>\n",
       "      <td>90</td>\n",
       "      <td>60</td>\n",
       "    </tr>\n",
       "  </tbody>\n",
       "</table>\n",
       "</div>"
      ],
      "text/plain": [
       "  new_name  age_even_odd  income  new_age\n",
       "A    VIRAT         False     100       29\n",
       "c    KAMAL          True      90       60"
      ]
     },
     "execution_count": 39,
     "metadata": {},
     "output_type": "execute_result"
    }
   ],
   "source": [
    "data"
   ]
  },
  {
   "cell_type": "code",
   "execution_count": 40,
   "id": "899b61cf",
   "metadata": {},
   "outputs": [
    {
     "data": {
      "text/html": [
       "<div>\n",
       "<style scoped>\n",
       "    .dataframe tbody tr th:only-of-type {\n",
       "        vertical-align: middle;\n",
       "    }\n",
       "\n",
       "    .dataframe tbody tr th {\n",
       "        vertical-align: top;\n",
       "    }\n",
       "\n",
       "    .dataframe thead th {\n",
       "        text-align: right;\n",
       "    }\n",
       "</style>\n",
       "<table border=\"1\" class=\"dataframe\">\n",
       "  <thead>\n",
       "    <tr style=\"text-align: right;\">\n",
       "      <th></th>\n",
       "      <th>new_name</th>\n",
       "      <th>income</th>\n",
       "    </tr>\n",
       "  </thead>\n",
       "  <tbody>\n",
       "    <tr>\n",
       "      <th>A</th>\n",
       "      <td>VIRAT</td>\n",
       "      <td>100</td>\n",
       "    </tr>\n",
       "    <tr>\n",
       "      <th>c</th>\n",
       "      <td>KAMAL</td>\n",
       "      <td>90</td>\n",
       "    </tr>\n",
       "  </tbody>\n",
       "</table>\n",
       "</div>"
      ],
      "text/plain": [
       "  new_name  income\n",
       "A    VIRAT     100\n",
       "c    KAMAL      90"
      ]
     },
     "execution_count": 40,
     "metadata": {},
     "output_type": "execute_result"
    }
   ],
   "source": [
    "# print only few columns from data frame\n",
    "data[['new_name', 'income']]"
   ]
  },
  {
   "cell_type": "code",
   "execution_count": 41,
   "id": "4818d8f3",
   "metadata": {},
   "outputs": [
    {
     "data": {
      "text/html": [
       "<div>\n",
       "<style scoped>\n",
       "    .dataframe tbody tr th:only-of-type {\n",
       "        vertical-align: middle;\n",
       "    }\n",
       "\n",
       "    .dataframe tbody tr th {\n",
       "        vertical-align: top;\n",
       "    }\n",
       "\n",
       "    .dataframe thead th {\n",
       "        text-align: right;\n",
       "    }\n",
       "</style>\n",
       "<table border=\"1\" class=\"dataframe\">\n",
       "  <thead>\n",
       "    <tr style=\"text-align: right;\">\n",
       "      <th></th>\n",
       "      <th>new_name</th>\n",
       "      <th>age_even_odd</th>\n",
       "      <th>income</th>\n",
       "      <th>new_age</th>\n",
       "    </tr>\n",
       "  </thead>\n",
       "  <tbody>\n",
       "    <tr>\n",
       "      <th>A</th>\n",
       "      <td>VIRAT</td>\n",
       "      <td>False</td>\n",
       "      <td>100</td>\n",
       "      <td>29</td>\n",
       "    </tr>\n",
       "    <tr>\n",
       "      <th>c</th>\n",
       "      <td>KAMAL</td>\n",
       "      <td>True</td>\n",
       "      <td>90</td>\n",
       "      <td>60</td>\n",
       "    </tr>\n",
       "  </tbody>\n",
       "</table>\n",
       "</div>"
      ],
      "text/plain": [
       "  new_name  age_even_odd  income  new_age\n",
       "A    VIRAT         False     100       29\n",
       "c    KAMAL          True      90       60"
      ]
     },
     "execution_count": 41,
     "metadata": {},
     "output_type": "execute_result"
    }
   ],
   "source": [
    "data"
   ]
  },
  {
   "cell_type": "code",
   "execution_count": 42,
   "id": "9d004991",
   "metadata": {},
   "outputs": [
    {
     "data": {
      "text/plain": [
       "A    VIRAT\n",
       "c    KAMAL\n",
       "Name: new_name, dtype: object"
      ]
     },
     "execution_count": 42,
     "metadata": {},
     "output_type": "execute_result"
    }
   ],
   "source": [
    "data.iloc[:, 0]"
   ]
  },
  {
   "cell_type": "code",
   "execution_count": 44,
   "id": "70787858",
   "metadata": {},
   "outputs": [
    {
     "name": "stdout",
     "output_type": "stream",
     "text": [
      "A    VIRAT\n",
      "c    KAMAL\n",
      "Name: new_name, dtype: object\n",
      "A    False\n",
      "c     True\n",
      "Name: age_even_odd, dtype: bool\n",
      "A    100\n",
      "c     90\n",
      "Name: income, dtype: int64\n",
      "A    29\n",
      "c    60\n",
      "Name: new_age, dtype: int64\n"
     ]
    }
   ],
   "source": [
    "\n",
    "for i in data:\n",
    "  print(data.loc[:, i])"
   ]
  },
  {
   "cell_type": "code",
   "execution_count": 45,
   "id": "d9f371de",
   "metadata": {},
   "outputs": [
    {
     "data": {
      "text/html": [
       "<div>\n",
       "<style scoped>\n",
       "    .dataframe tbody tr th:only-of-type {\n",
       "        vertical-align: middle;\n",
       "    }\n",
       "\n",
       "    .dataframe tbody tr th {\n",
       "        vertical-align: top;\n",
       "    }\n",
       "\n",
       "    .dataframe thead th {\n",
       "        text-align: right;\n",
       "    }\n",
       "</style>\n",
       "<table border=\"1\" class=\"dataframe\">\n",
       "  <thead>\n",
       "    <tr style=\"text-align: right;\">\n",
       "      <th></th>\n",
       "      <th>new_name</th>\n",
       "      <th>age_even_odd</th>\n",
       "      <th>income</th>\n",
       "      <th>new_age</th>\n",
       "    </tr>\n",
       "  </thead>\n",
       "  <tbody>\n",
       "    <tr>\n",
       "      <th>A</th>\n",
       "      <td>VIRAT</td>\n",
       "      <td>False</td>\n",
       "      <td>100</td>\n",
       "      <td>29</td>\n",
       "    </tr>\n",
       "    <tr>\n",
       "      <th>c</th>\n",
       "      <td>KAMAL</td>\n",
       "      <td>True</td>\n",
       "      <td>90</td>\n",
       "      <td>60</td>\n",
       "    </tr>\n",
       "  </tbody>\n",
       "</table>\n",
       "</div>"
      ],
      "text/plain": [
       "  new_name  age_even_odd  income  new_age\n",
       "A    VIRAT         False     100       29\n",
       "c    KAMAL          True      90       60"
      ]
     },
     "execution_count": 45,
     "metadata": {},
     "output_type": "execute_result"
    }
   ],
   "source": [
    "data"
   ]
  },
  {
   "cell_type": "code",
   "execution_count": 46,
   "id": "4e48eab3",
   "metadata": {},
   "outputs": [
    {
     "name": "stderr",
     "output_type": "stream",
     "text": [
      "/var/folders/6r/86jpjbx9667_wsdjbp1ln2rc0000gn/T/ipykernel_2715/464193195.py:1: SettingWithCopyWarning: \n",
      "A value is trying to be set on a copy of a slice from a DataFrame.\n",
      "Try using .loc[row_indexer,col_indexer] = value instead\n",
      "\n",
      "See the caveats in the documentation: https://pandas.pydata.org/pandas-docs/stable/user_guide/indexing.html#returning-a-view-versus-a-copy\n",
      "  data['new_col'] = data['income'] / data['new_age']\n"
     ]
    }
   ],
   "source": [
    "data['new_col'] = data['income'] / data['new_age']"
   ]
  },
  {
   "cell_type": "code",
   "execution_count": 47,
   "id": "5f1b1376",
   "metadata": {},
   "outputs": [
    {
     "data": {
      "text/html": [
       "<div>\n",
       "<style scoped>\n",
       "    .dataframe tbody tr th:only-of-type {\n",
       "        vertical-align: middle;\n",
       "    }\n",
       "\n",
       "    .dataframe tbody tr th {\n",
       "        vertical-align: top;\n",
       "    }\n",
       "\n",
       "    .dataframe thead th {\n",
       "        text-align: right;\n",
       "    }\n",
       "</style>\n",
       "<table border=\"1\" class=\"dataframe\">\n",
       "  <thead>\n",
       "    <tr style=\"text-align: right;\">\n",
       "      <th></th>\n",
       "      <th>new_name</th>\n",
       "      <th>age_even_odd</th>\n",
       "      <th>income</th>\n",
       "      <th>new_age</th>\n",
       "      <th>new_col</th>\n",
       "    </tr>\n",
       "  </thead>\n",
       "  <tbody>\n",
       "    <tr>\n",
       "      <th>A</th>\n",
       "      <td>VIRAT</td>\n",
       "      <td>False</td>\n",
       "      <td>100</td>\n",
       "      <td>29</td>\n",
       "      <td>3.448276</td>\n",
       "    </tr>\n",
       "    <tr>\n",
       "      <th>c</th>\n",
       "      <td>KAMAL</td>\n",
       "      <td>True</td>\n",
       "      <td>90</td>\n",
       "      <td>60</td>\n",
       "      <td>1.500000</td>\n",
       "    </tr>\n",
       "  </tbody>\n",
       "</table>\n",
       "</div>"
      ],
      "text/plain": [
       "  new_name  age_even_odd  income  new_age   new_col\n",
       "A    VIRAT         False     100       29  3.448276\n",
       "c    KAMAL          True      90       60  1.500000"
      ]
     },
     "execution_count": 47,
     "metadata": {},
     "output_type": "execute_result"
    }
   ],
   "source": [
    "data"
   ]
  },
  {
   "cell_type": "code",
   "execution_count": 48,
   "id": "e77f3a4e",
   "metadata": {},
   "outputs": [],
   "source": [
    "new_row = {\n",
    "  'new_name': 'Ajay',\n",
    "  'age_even_odd': True,\n",
    "  'income': 230,\n",
    "  'new_col': 2.34\n",
    "}\n",
    "new_data = pd.DataFrame(data=new_row, index=['d'])"
   ]
  },
  {
   "cell_type": "code",
   "execution_count": 49,
   "id": "1804eddf",
   "metadata": {},
   "outputs": [
    {
     "data": {
      "text/html": [
       "<div>\n",
       "<style scoped>\n",
       "    .dataframe tbody tr th:only-of-type {\n",
       "        vertical-align: middle;\n",
       "    }\n",
       "\n",
       "    .dataframe tbody tr th {\n",
       "        vertical-align: top;\n",
       "    }\n",
       "\n",
       "    .dataframe thead th {\n",
       "        text-align: right;\n",
       "    }\n",
       "</style>\n",
       "<table border=\"1\" class=\"dataframe\">\n",
       "  <thead>\n",
       "    <tr style=\"text-align: right;\">\n",
       "      <th></th>\n",
       "      <th>new_name</th>\n",
       "      <th>age_even_odd</th>\n",
       "      <th>income</th>\n",
       "      <th>new_col</th>\n",
       "    </tr>\n",
       "  </thead>\n",
       "  <tbody>\n",
       "    <tr>\n",
       "      <th>d</th>\n",
       "      <td>Ajay</td>\n",
       "      <td>True</td>\n",
       "      <td>230</td>\n",
       "      <td>2.34</td>\n",
       "    </tr>\n",
       "  </tbody>\n",
       "</table>\n",
       "</div>"
      ],
      "text/plain": [
       "  new_name  age_even_odd  income  new_col\n",
       "d     Ajay          True     230     2.34"
      ]
     },
     "execution_count": 49,
     "metadata": {},
     "output_type": "execute_result"
    }
   ],
   "source": [
    "new_data"
   ]
  },
  {
   "cell_type": "code",
   "execution_count": 50,
   "id": "c62ddfe3",
   "metadata": {},
   "outputs": [
    {
     "data": {
      "text/html": [
       "<div>\n",
       "<style scoped>\n",
       "    .dataframe tbody tr th:only-of-type {\n",
       "        vertical-align: middle;\n",
       "    }\n",
       "\n",
       "    .dataframe tbody tr th {\n",
       "        vertical-align: top;\n",
       "    }\n",
       "\n",
       "    .dataframe thead th {\n",
       "        text-align: right;\n",
       "    }\n",
       "</style>\n",
       "<table border=\"1\" class=\"dataframe\">\n",
       "  <thead>\n",
       "    <tr style=\"text-align: right;\">\n",
       "      <th></th>\n",
       "      <th>new_name</th>\n",
       "      <th>age_even_odd</th>\n",
       "      <th>income</th>\n",
       "      <th>new_age</th>\n",
       "      <th>new_col</th>\n",
       "    </tr>\n",
       "  </thead>\n",
       "  <tbody>\n",
       "    <tr>\n",
       "      <th>A</th>\n",
       "      <td>VIRAT</td>\n",
       "      <td>False</td>\n",
       "      <td>100</td>\n",
       "      <td>29</td>\n",
       "      <td>3.448276</td>\n",
       "    </tr>\n",
       "    <tr>\n",
       "      <th>c</th>\n",
       "      <td>KAMAL</td>\n",
       "      <td>True</td>\n",
       "      <td>90</td>\n",
       "      <td>60</td>\n",
       "      <td>1.500000</td>\n",
       "    </tr>\n",
       "  </tbody>\n",
       "</table>\n",
       "</div>"
      ],
      "text/plain": [
       "  new_name  age_even_odd  income  new_age   new_col\n",
       "A    VIRAT         False     100       29  3.448276\n",
       "c    KAMAL          True      90       60  1.500000"
      ]
     },
     "execution_count": 50,
     "metadata": {},
     "output_type": "execute_result"
    }
   ],
   "source": [
    "data"
   ]
  },
  {
   "cell_type": "code",
   "execution_count": 51,
   "id": "4e0fb5e4",
   "metadata": {},
   "outputs": [
    {
     "data": {
      "text/html": [
       "<div>\n",
       "<style scoped>\n",
       "    .dataframe tbody tr th:only-of-type {\n",
       "        vertical-align: middle;\n",
       "    }\n",
       "\n",
       "    .dataframe tbody tr th {\n",
       "        vertical-align: top;\n",
       "    }\n",
       "\n",
       "    .dataframe thead th {\n",
       "        text-align: right;\n",
       "    }\n",
       "</style>\n",
       "<table border=\"1\" class=\"dataframe\">\n",
       "  <thead>\n",
       "    <tr style=\"text-align: right;\">\n",
       "      <th></th>\n",
       "      <th>new_name</th>\n",
       "      <th>age_even_odd</th>\n",
       "      <th>income</th>\n",
       "      <th>new_age</th>\n",
       "      <th>new_col</th>\n",
       "    </tr>\n",
       "  </thead>\n",
       "  <tbody>\n",
       "    <tr>\n",
       "      <th>A</th>\n",
       "      <td>VIRAT</td>\n",
       "      <td>False</td>\n",
       "      <td>100</td>\n",
       "      <td>29.0</td>\n",
       "      <td>3.448276</td>\n",
       "    </tr>\n",
       "    <tr>\n",
       "      <th>c</th>\n",
       "      <td>KAMAL</td>\n",
       "      <td>True</td>\n",
       "      <td>90</td>\n",
       "      <td>60.0</td>\n",
       "      <td>1.500000</td>\n",
       "    </tr>\n",
       "    <tr>\n",
       "      <th>d</th>\n",
       "      <td>Ajay</td>\n",
       "      <td>True</td>\n",
       "      <td>230</td>\n",
       "      <td>NaN</td>\n",
       "      <td>2.340000</td>\n",
       "    </tr>\n",
       "  </tbody>\n",
       "</table>\n",
       "</div>"
      ],
      "text/plain": [
       "  new_name  age_even_odd  income  new_age   new_col\n",
       "A    VIRAT         False     100     29.0  3.448276\n",
       "c    KAMAL          True      90     60.0  1.500000\n",
       "d     Ajay          True     230      NaN  2.340000"
      ]
     },
     "execution_count": 51,
     "metadata": {},
     "output_type": "execute_result"
    }
   ],
   "source": [
    "pd.concat([data, new_data], copy=False)\n",
    "\n",
    "# axis = 0 default"
   ]
  },
  {
   "cell_type": "code",
   "execution_count": 52,
   "id": "1cf8cbf9",
   "metadata": {},
   "outputs": [
    {
     "data": {
      "text/html": [
       "<div>\n",
       "<style scoped>\n",
       "    .dataframe tbody tr th:only-of-type {\n",
       "        vertical-align: middle;\n",
       "    }\n",
       "\n",
       "    .dataframe tbody tr th {\n",
       "        vertical-align: top;\n",
       "    }\n",
       "\n",
       "    .dataframe thead th {\n",
       "        text-align: right;\n",
       "    }\n",
       "</style>\n",
       "<table border=\"1\" class=\"dataframe\">\n",
       "  <thead>\n",
       "    <tr style=\"text-align: right;\">\n",
       "      <th></th>\n",
       "      <th>new_name</th>\n",
       "      <th>age_even_odd</th>\n",
       "      <th>income</th>\n",
       "      <th>new_age</th>\n",
       "      <th>new_col</th>\n",
       "    </tr>\n",
       "  </thead>\n",
       "  <tbody>\n",
       "    <tr>\n",
       "      <th>A</th>\n",
       "      <td>VIRAT</td>\n",
       "      <td>False</td>\n",
       "      <td>100</td>\n",
       "      <td>29</td>\n",
       "      <td>3.448276</td>\n",
       "    </tr>\n",
       "    <tr>\n",
       "      <th>c</th>\n",
       "      <td>KAMAL</td>\n",
       "      <td>True</td>\n",
       "      <td>90</td>\n",
       "      <td>60</td>\n",
       "      <td>1.500000</td>\n",
       "    </tr>\n",
       "  </tbody>\n",
       "</table>\n",
       "</div>"
      ],
      "text/plain": [
       "  new_name  age_even_odd  income  new_age   new_col\n",
       "A    VIRAT         False     100       29  3.448276\n",
       "c    KAMAL          True      90       60  1.500000"
      ]
     },
     "execution_count": 52,
     "metadata": {},
     "output_type": "execute_result"
    }
   ],
   "source": [
    "data"
   ]
  },
  {
   "cell_type": "code",
   "execution_count": 53,
   "id": "abc61123",
   "metadata": {},
   "outputs": [
    {
     "data": {
      "text/html": [
       "<div>\n",
       "<style scoped>\n",
       "    .dataframe tbody tr th:only-of-type {\n",
       "        vertical-align: middle;\n",
       "    }\n",
       "\n",
       "    .dataframe tbody tr th {\n",
       "        vertical-align: top;\n",
       "    }\n",
       "\n",
       "    .dataframe thead th {\n",
       "        text-align: right;\n",
       "    }\n",
       "</style>\n",
       "<table border=\"1\" class=\"dataframe\">\n",
       "  <thead>\n",
       "    <tr style=\"text-align: right;\">\n",
       "      <th></th>\n",
       "      <th>new_name</th>\n",
       "      <th>age_even_odd</th>\n",
       "      <th>income</th>\n",
       "      <th>new_age</th>\n",
       "      <th>new_col</th>\n",
       "    </tr>\n",
       "  </thead>\n",
       "  <tbody>\n",
       "    <tr>\n",
       "      <th>A</th>\n",
       "      <td>VIRAT</td>\n",
       "      <td>False</td>\n",
       "      <td>100</td>\n",
       "      <td>29</td>\n",
       "      <td>3.448276</td>\n",
       "    </tr>\n",
       "    <tr>\n",
       "      <th>c</th>\n",
       "      <td>KAMAL</td>\n",
       "      <td>True</td>\n",
       "      <td>90</td>\n",
       "      <td>60</td>\n",
       "      <td>1.500000</td>\n",
       "    </tr>\n",
       "  </tbody>\n",
       "</table>\n",
       "</div>"
      ],
      "text/plain": [
       "  new_name  age_even_odd  income  new_age   new_col\n",
       "A    VIRAT         False     100       29  3.448276\n",
       "c    KAMAL          True      90       60  1.500000"
      ]
     },
     "execution_count": 53,
     "metadata": {},
     "output_type": "execute_result"
    }
   ],
   "source": [
    "data"
   ]
  },
  {
   "cell_type": "code",
   "execution_count": 54,
   "id": "c24b3d1e",
   "metadata": {},
   "outputs": [],
   "source": [
    "# concat using column wise\n",
    "\n",
    "# use pd.concat([d1, d2], axis=0) # row by default\n",
    "# pd.concate([d1, d2], axis=1) # column column "
   ]
  },
  {
   "cell_type": "markdown",
   "id": "8bcb7a85",
   "metadata": {},
   "source": [
    "# Topics Covered\n",
    "\n",
    "- Pandas DataFrame\n",
    "- Manupulating DataFrame\n",
    "- "
   ]
  },
  {
   "cell_type": "markdown",
   "id": "cfae5ac5",
   "metadata": {},
   "source": []
  }
 ],
 "metadata": {
  "kernelspec": {
   "display_name": "Python 3",
   "language": "python",
   "name": "python3"
  },
  "language_info": {
   "codemirror_mode": {
    "name": "ipython",
    "version": 3
   },
   "file_extension": ".py",
   "mimetype": "text/x-python",
   "name": "python",
   "nbconvert_exporter": "python",
   "pygments_lexer": "ipython3",
   "version": "3.11.11"
  }
 },
 "nbformat": 4,
 "nbformat_minor": 5
}

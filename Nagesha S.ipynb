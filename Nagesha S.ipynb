{
 "cells": [
  {
   "cell_type": "markdown",
   "id": "90ebeec6",
   "metadata": {},
   "source": [
    "# 1. What is the data type of 10,\"10\", 10.0, and True?"
   ]
  },
  {
   "cell_type": "code",
   "execution_count": 4,
   "id": "396fbe5f",
   "metadata": {},
   "outputs": [
    {
     "name": "stdout",
     "output_type": "stream",
     "text": [
      "<class 'str'>\n",
      "<class 'float'>\n",
      "<class 'bool'>\n"
     ]
    }
   ],
   "source": [
    "print(type(\"10\")) # str\n",
    "print(type(10.0)) # float\n",
    "print(type(True)) # bool"
   ]
  },
  {
   "cell_type": "markdown",
   "id": "885c30ec",
   "metadata": {},
   "source": [
    "# 2. Convert the integer 5 to a float."
   ]
  },
  {
   "cell_type": "code",
   "execution_count": 6,
   "id": "3ec77fab",
   "metadata": {},
   "outputs": [
    {
     "data": {
      "text/plain": [
       "5.0"
      ]
     },
     "execution_count": 6,
     "metadata": {},
     "output_type": "execute_result"
    }
   ],
   "source": [
    "float(5)"
   ]
  },
  {
   "cell_type": "markdown",
   "id": "7e0c93ae",
   "metadata": {},
   "source": [
    "# 3. Create a variable with string type and print its type."
   ]
  },
  {
   "cell_type": "code",
   "execution_count": 8,
   "id": "e305c25c",
   "metadata": {},
   "outputs": [
    {
     "name": "stdout",
     "output_type": "stream",
     "text": [
      "<class 'str'>\n"
     ]
    }
   ],
   "source": [
    "name = \"Nagesh\"\n",
    "print(type(name))"
   ]
  },
  {
   "cell_type": "markdown",
   "id": "0baf02e6",
   "metadata": {},
   "source": [
    "# 4. Write a program to check the type of a variable x = 4.5."
   ]
  },
  {
   "cell_type": "code",
   "execution_count": 9,
   "id": "9a4ddf08",
   "metadata": {},
   "outputs": [
    {
     "name": "stdout",
     "output_type": "stream",
     "text": [
      "<class 'float'>\n"
     ]
    }
   ],
   "source": [
    "x = 4.5\n",
    "print(type(x))"
   ]
  },
  {
   "cell_type": "markdown",
   "id": "3d670c4e",
   "metadata": {},
   "source": [
    "# 5. Cast a float to an integer and explain what happens."
   ]
  },
  {
   "cell_type": "code",
   "execution_count": null,
   "id": "c0b6e3fe",
   "metadata": {},
   "outputs": [
    {
     "name": "stdout",
     "output_type": "stream",
     "text": [
      "<class 'float'>\n",
      "<class 'int'>\n"
     ]
    }
   ],
   "source": [
    "my_float = 4.5 # defined float value 4.5 to my_float\n",
    "print(type(my_float)) # checking the type, it should be float\n",
    "my_int = int(my_float) # coverting/casting my_float to int using `int()`\n",
    "print(type(my_int)) # checking it's type"
   ]
  },
  {
   "cell_type": "markdown",
   "id": "f05bbc11",
   "metadata": {},
   "source": [
    "# 6. Check if a variable is of type int using isinstance()."
   ]
  },
  {
   "cell_type": "code",
   "execution_count": 101,
   "id": "5f47ac22",
   "metadata": {},
   "outputs": [
    {
     "name": "stdout",
     "output_type": "stream",
     "text": [
      "Not int\n"
     ]
    }
   ],
   "source": [
    "n = 10.9\n",
    "if isinstance(n, int):\n",
    "  print(\"Int\")\n",
    "else:\n",
    "  print(\"Not int\")"
   ]
  },
  {
   "cell_type": "markdown",
   "id": "e230406c",
   "metadata": {},
   "source": [
    "# 7. Create a list with 5 elements and print it."
   ]
  },
  {
   "cell_type": "code",
   "execution_count": 17,
   "id": "f8610119",
   "metadata": {},
   "outputs": [
    {
     "name": "stdout",
     "output_type": "stream",
     "text": [
      "[1, 2, 3, 4, 5]\n"
     ]
    }
   ],
   "source": [
    "my_list = [1, 2, 3, 4, 5]\n",
    "print(my_list)"
   ]
  },
  {
   "cell_type": "markdown",
   "id": "a7212de9",
   "metadata": {},
   "source": [
    "# 8. Add an item to a list using append()."
   ]
  },
  {
   "cell_type": "code",
   "execution_count": 18,
   "id": "4b18020b",
   "metadata": {},
   "outputs": [
    {
     "name": "stdout",
     "output_type": "stream",
     "text": [
      "[1, 2, 3, 4, 5]\n",
      "[1, 2, 3, 4, 5, 6]\n"
     ]
    }
   ],
   "source": [
    "my_list = [1, 2, 3, 4, 5]\n",
    "print(my_list)\n",
    "my_list.append(6)\n",
    "print(my_list)"
   ]
  },
  {
   "cell_type": "markdown",
   "id": "1d11befb",
   "metadata": {},
   "source": [
    "# 9. Remove an element from a list using remove()."
   ]
  },
  {
   "cell_type": "code",
   "execution_count": 20,
   "id": "d163038c",
   "metadata": {},
   "outputs": [
    {
     "name": "stdout",
     "output_type": "stream",
     "text": [
      "[1, 2, 3, 4, 5]\n",
      "[1, 2, 3, 4]\n"
     ]
    }
   ],
   "source": [
    "my_list = [1, 2, 3, 4, 5]\n",
    "print(my_list)\n",
    "my_list.remove(5)\n",
    "print(my_list)"
   ]
  },
  {
   "cell_type": "markdown",
   "id": "39dde862",
   "metadata": {},
   "source": [
    "# 10. Sort a list of numbers in ascending order."
   ]
  },
  {
   "cell_type": "code",
   "execution_count": 21,
   "id": "8f9d9b7f",
   "metadata": {},
   "outputs": [
    {
     "name": "stdout",
     "output_type": "stream",
     "text": [
      "[1, 4, 2, 3, 5]\n",
      "[1, 2, 3, 4, 5]\n"
     ]
    }
   ],
   "source": [
    "my_list = [1, 4, 2, 3, 5]\n",
    "print(my_list)\n",
    "my_list.sort()\n",
    "print(my_list)"
   ]
  },
  {
   "cell_type": "markdown",
   "id": "6afbcb60",
   "metadata": {},
   "source": [
    "# 11. Write a program to find the sum of all items in a list."
   ]
  },
  {
   "cell_type": "code",
   "execution_count": 22,
   "id": "2700aa9d",
   "metadata": {},
   "outputs": [
    {
     "name": "stdout",
     "output_type": "stream",
     "text": [
      "sum 15\n"
     ]
    }
   ],
   "source": [
    "my_list = [1, 4, 2, 3, 5]\n",
    "print(\"sum\", sum(my_list))"
   ]
  },
  {
   "cell_type": "markdown",
   "id": "dab8c722",
   "metadata": {},
   "source": [
    "# 12. Create a tuple of 3 strings and print it."
   ]
  },
  {
   "cell_type": "code",
   "execution_count": 25,
   "id": "abfefc3a",
   "metadata": {},
   "outputs": [
    {
     "name": "stdout",
     "output_type": "stream",
     "text": [
      "('Virat', 'Sumit', 'Nagesh')\n",
      "<class 'tuple'>\n"
     ]
    }
   ],
   "source": [
    "my_tuple = (\"Virat\", \"Sumit\", \"Nagesh\")\n",
    "print(my_tuple)\n",
    "print(type(my_tuple))"
   ]
  },
  {
   "cell_type": "markdown",
   "id": "0bb454ad",
   "metadata": {},
   "source": [
    "# 13. Convert a list to a tuple."
   ]
  },
  {
   "cell_type": "code",
   "execution_count": 27,
   "id": "c20ab66c",
   "metadata": {},
   "outputs": [
    {
     "name": "stdout",
     "output_type": "stream",
     "text": [
      "<class 'list'>\n",
      "<class 'tuple'>\n"
     ]
    }
   ],
   "source": [
    "my_list = [1, 4, 2, 3, 5]\n",
    "print(type(my_list))\n",
    "my_tuple = tuple(my_list)\n",
    "print(type(my_tuple))"
   ]
  },
  {
   "cell_type": "markdown",
   "id": "6d46eff5",
   "metadata": {},
   "source": [
    "# 14. Access the second item in a tuple."
   ]
  },
  {
   "cell_type": "code",
   "execution_count": 28,
   "id": "b9ffbe97",
   "metadata": {},
   "outputs": [
    {
     "name": "stdout",
     "output_type": "stream",
     "text": [
      "Sumit\n"
     ]
    }
   ],
   "source": [
    "my_tuple = (\"Virat\", \"Sumit\", \"Nagesh\")\n",
    "print(my_tuple[1])"
   ]
  },
  {
   "cell_type": "markdown",
   "id": "c2085cb9",
   "metadata": {},
   "source": [
    "# 15. Find the index of a specific element in a tuple."
   ]
  },
  {
   "cell_type": "code",
   "execution_count": 29,
   "id": "f7dd170b",
   "metadata": {},
   "outputs": [
    {
     "data": {
      "text/plain": [
       "1"
      ]
     },
     "execution_count": 29,
     "metadata": {},
     "output_type": "execute_result"
    }
   ],
   "source": [
    "my_tuple = (\"Virat\", \"Sumit\", \"Nagesh\")\n",
    "my_tuple.index('Sumit')"
   ]
  },
  {
   "cell_type": "markdown",
   "id": "7a9b941e",
   "metadata": {},
   "source": [
    "# 16. Count how many times a value appears in a tuple."
   ]
  },
  {
   "cell_type": "code",
   "execution_count": 31,
   "id": "3a49af56",
   "metadata": {},
   "outputs": [
    {
     "data": {
      "text/plain": [
       "2"
      ]
     },
     "execution_count": 31,
     "metadata": {},
     "output_type": "execute_result"
    }
   ],
   "source": [
    "my_tuple = (\"Virat\", \"Sumit\", \"Nagesh\", \"Sumit\")\n",
    "my_tuple.count(\"Sumit\")"
   ]
  },
  {
   "cell_type": "markdown",
   "id": "3583ba6d",
   "metadata": {},
   "source": [
    "# 17. Create a set with some duplicate values and print it."
   ]
  },
  {
   "cell_type": "code",
   "execution_count": 32,
   "id": "a34f6107",
   "metadata": {},
   "outputs": [
    {
     "name": "stdout",
     "output_type": "stream",
     "text": [
      "{1, 2, 3, 4, 5}\n"
     ]
    }
   ],
   "source": [
    "my_set = {1, 2, 2, 3, 4, 5}\n",
    "print(my_set)"
   ]
  },
  {
   "cell_type": "markdown",
   "id": "d299a420",
   "metadata": {},
   "source": [
    "# 18. Add an element to a set using add()."
   ]
  },
  {
   "cell_type": "code",
   "execution_count": 33,
   "id": "23ddcc78",
   "metadata": {},
   "outputs": [
    {
     "name": "stdout",
     "output_type": "stream",
     "text": [
      "{1, 2, 3, 4, 5}\n",
      "{1, 2, 3, 4, 5, 10}\n"
     ]
    }
   ],
   "source": [
    "my_set = {1, 2, 2, 3, 4, 5}\n",
    "print(my_set)\n",
    "my_set.add(10)\n",
    "print(my_set)"
   ]
  },
  {
   "cell_type": "markdown",
   "id": "3fa3fb5e",
   "metadata": {},
   "source": [
    "# 19. Remove an element from a set using discard()."
   ]
  },
  {
   "cell_type": "code",
   "execution_count": 34,
   "id": "926239ca",
   "metadata": {},
   "outputs": [
    {
     "name": "stdout",
     "output_type": "stream",
     "text": [
      "{1, 2, 3, 4, 5}\n",
      "{1, 3, 4, 5}\n"
     ]
    }
   ],
   "source": [
    "my_set = {1, 2, 2, 3, 4, 5}\n",
    "print(my_set)\n",
    "my_set.discard(2)\n",
    "print(my_set)"
   ]
  },
  {
   "cell_type": "markdown",
   "id": "5e90c607",
   "metadata": {},
   "source": [
    "# 20. Find the union of two sets."
   ]
  },
  {
   "cell_type": "code",
   "execution_count": 35,
   "id": "f4fbc54e",
   "metadata": {},
   "outputs": [
    {
     "data": {
      "text/plain": [
       "{1, 2, 3, 4, 5, 10, 20}"
      ]
     },
     "execution_count": 35,
     "metadata": {},
     "output_type": "execute_result"
    }
   ],
   "source": [
    "a = {1, 2, 3, 4, 5}\n",
    "b = {1, 2, 3, 10, 20}\n",
    "a.union(b)"
   ]
  },
  {
   "cell_type": "markdown",
   "id": "de071c7c",
   "metadata": {},
   "source": [
    "# 21. Check if two sets have any elements in common using intersection."
   ]
  },
  {
   "cell_type": "code",
   "execution_count": 36,
   "id": "232c74bb",
   "metadata": {},
   "outputs": [
    {
     "data": {
      "text/plain": [
       "{1, 2, 3}"
      ]
     },
     "execution_count": 36,
     "metadata": {},
     "output_type": "execute_result"
    }
   ],
   "source": [
    "a = {1, 2, 3, 4, 5}\n",
    "b = {1, 2, 3, 10, 20}\n",
    "a.intersection(b)"
   ]
  },
  {
   "cell_type": "markdown",
   "id": "9213cbbe",
   "metadata": {},
   "source": [
    "# 22. Create a dictionary with keys name, age, and city."
   ]
  },
  {
   "cell_type": "code",
   "execution_count": 38,
   "id": "6edf2881",
   "metadata": {},
   "outputs": [
    {
     "name": "stdout",
     "output_type": "stream",
     "text": [
      "{'name': 'Nagesh', 'age': 30, 'city': 'Kolar'}\n"
     ]
    }
   ],
   "source": [
    "my_d = {\n",
    "  \"name\": \"Nagesh\",\n",
    "  \"age\": 30,\n",
    "  \"city\": \"Kolar\"\n",
    "}\n",
    "print(my_d)"
   ]
  },
  {
   "cell_type": "markdown",
   "id": "3aaedf88",
   "metadata": {},
   "source": [
    "# 23. Add a new key-value pair to a dictionary."
   ]
  },
  {
   "cell_type": "code",
   "execution_count": 41,
   "id": "467c97e9",
   "metadata": {},
   "outputs": [
    {
     "name": "stdout",
     "output_type": "stream",
     "text": [
      "{'name': 'Nagesh', 'age': 30, 'city': 'Kolar'}\n",
      "{'name': 'Nagesh', 'age': 30, 'city': 'Kolar', 'gender': 'Male'}\n"
     ]
    }
   ],
   "source": [
    "my_d = {\n",
    "  \"name\": \"Nagesh\",\n",
    "  \"age\": 30,\n",
    "  \"city\": \"Kolar\"\n",
    "}\n",
    "print(my_d)\n",
    "my_d['gender'] = \"Male\"\n",
    "print(my_d)"
   ]
  },
  {
   "cell_type": "markdown",
   "id": "b6980e67",
   "metadata": {},
   "source": [
    "# 24. Update the value of an existing key."
   ]
  },
  {
   "cell_type": "code",
   "execution_count": 42,
   "id": "1057a93d",
   "metadata": {},
   "outputs": [
    {
     "name": "stdout",
     "output_type": "stream",
     "text": [
      "{'name': 'Nagesh', 'age': 30, 'city': 'Kolar'}\n",
      "{'name': 'Nagesh', 'age': 29, 'city': 'Kolar'}\n"
     ]
    }
   ],
   "source": [
    "my_d = {\n",
    "  \"name\": \"Nagesh\",\n",
    "  \"age\": 30,\n",
    "  \"city\": \"Kolar\"\n",
    "}\n",
    "print(my_d)\n",
    "my_d['age'] = 29\n",
    "print(my_d)"
   ]
  },
  {
   "cell_type": "markdown",
   "id": "5ac77761",
   "metadata": {},
   "source": [
    "# 25. Write a program to loop through a dictionary and print all key-value pairs."
   ]
  },
  {
   "cell_type": "code",
   "execution_count": 44,
   "id": "42a61e34",
   "metadata": {},
   "outputs": [
    {
     "name": "stdout",
     "output_type": "stream",
     "text": [
      "name Nagesh\n",
      "age 30\n",
      "city Kolar\n"
     ]
    }
   ],
   "source": [
    "my_d = {\n",
    "  \"name\": \"Nagesh\",\n",
    "  \"age\": 30,\n",
    "  \"city\": \"Kolar\"\n",
    "}\n",
    "\n",
    "for k, v in my_d.items():\n",
    "  print(k, v)"
   ]
  },
  {
   "cell_type": "markdown",
   "id": "73617c93",
   "metadata": {},
   "source": [
    "# 26. Check if a key exists in a dictionary."
   ]
  },
  {
   "cell_type": "code",
   "execution_count": 48,
   "id": "781a45bd",
   "metadata": {},
   "outputs": [
    {
     "name": "stdout",
     "output_type": "stream",
     "text": [
      "True\n"
     ]
    }
   ],
   "source": [
    "my_d = {\n",
    "  \"name\": \"Nagesh\",\n",
    "  \"age\": 30,\n",
    "  \"city\": \"Kolar\"\n",
    "}\n",
    "\n",
    "print(\"name\" in my_d)"
   ]
  },
  {
   "cell_type": "markdown",
   "id": "1b36e8ff",
   "metadata": {},
   "source": [
    "# 27. Print the first three elements of a list."
   ]
  },
  {
   "cell_type": "code",
   "execution_count": 50,
   "id": "35859c3d",
   "metadata": {},
   "outputs": [
    {
     "name": "stdout",
     "output_type": "stream",
     "text": [
      "[1, 2, 3]\n"
     ]
    }
   ],
   "source": [
    "my_list = [1, 2, 3, 4, 5]\n",
    "print(my_list[:3])"
   ]
  },
  {
   "cell_type": "markdown",
   "id": "5475fe8b",
   "metadata": {},
   "source": [
    "# 28. Slice a list to get elements from index 2 to 5."
   ]
  },
  {
   "cell_type": "code",
   "execution_count": 102,
   "id": "e4172b08",
   "metadata": {},
   "outputs": [
    {
     "name": "stdout",
     "output_type": "stream",
     "text": [
      "[3, 4, 5, 6]\n"
     ]
    }
   ],
   "source": [
    "my_list = [1, 2, 3, 4, 5, 6, 7]\n",
    "print(my_list[2:6])"
   ]
  },
  {
   "cell_type": "markdown",
   "id": "e96297ac",
   "metadata": {},
   "source": [
    "# 29. Get the last element of a list using negative indexing."
   ]
  },
  {
   "cell_type": "code",
   "execution_count": 53,
   "id": "0e77e727",
   "metadata": {},
   "outputs": [
    {
     "name": "stdout",
     "output_type": "stream",
     "text": [
      "7\n"
     ]
    }
   ],
   "source": [
    "my_list = [1, 2, 3, 4, 5, 6, 7]\n",
    "print(my_list[-1])"
   ]
  },
  {
   "cell_type": "markdown",
   "id": "7fca949b",
   "metadata": {},
   "source": [
    "# 30. Reverse a list using slicing"
   ]
  },
  {
   "cell_type": "code",
   "execution_count": 54,
   "id": "6543aad9",
   "metadata": {},
   "outputs": [
    {
     "name": "stdout",
     "output_type": "stream",
     "text": [
      "[7, 6, 5, 4, 3, 2, 1]\n"
     ]
    }
   ],
   "source": [
    "my_list = [1, 2, 3, 4, 5, 6, 7]\n",
    "print(my_list[::-1])"
   ]
  },
  {
   "cell_type": "markdown",
   "id": "2237424c",
   "metadata": {},
   "source": [
    "# 31. Replace the second item in a list with a new value."
   ]
  },
  {
   "cell_type": "code",
   "execution_count": 55,
   "id": "d4938f41",
   "metadata": {},
   "outputs": [
    {
     "name": "stdout",
     "output_type": "stream",
     "text": [
      "[1, 30, 3, 4, 5, 6, 7]\n"
     ]
    }
   ],
   "source": [
    "my_list = [1, 2, 3, 4, 5, 6, 7]\n",
    "my_list[1] = 30\n",
    "print(my_list)"
   ]
  },
  {
   "cell_type": "markdown",
   "id": "d9028a2c",
   "metadata": {},
   "source": [
    "# 32. Write a program to check if a number is even or odd."
   ]
  },
  {
   "cell_type": "code",
   "execution_count": 57,
   "id": "5460778f",
   "metadata": {},
   "outputs": [
    {
     "name": "stdout",
     "output_type": "stream",
     "text": [
      "Odd\n"
     ]
    }
   ],
   "source": [
    "n = 11\n",
    "\n",
    "if n % 2 == 0:\n",
    "  print(\"Even\")\n",
    "else:\n",
    "  print(\"Odd\")\n"
   ]
  },
  {
   "cell_type": "markdown",
   "id": "1b5cb194",
   "metadata": {},
   "source": [
    "# 33. Take input and check if the number is positive, negative, or zero."
   ]
  },
  {
   "cell_type": "code",
   "execution_count": 60,
   "id": "e6fdab4f",
   "metadata": {},
   "outputs": [
    {
     "name": "stdout",
     "output_type": "stream",
     "text": [
      "Zero\n"
     ]
    }
   ],
   "source": [
    "n = int(input(\"Enter Number\"))\n",
    "\n",
    "if n > 0:\n",
    "  print(\"Positive\")\n",
    "elif n < 0:\n",
    "  print(\"Negative\")\n",
    "else:\n",
    "  print(\"Zero\")"
   ]
  },
  {
   "cell_type": "markdown",
   "id": "5a60cc48",
   "metadata": {},
   "source": [
    "# 34. Check if a number is divisible by 2 and 3."
   ]
  },
  {
   "cell_type": "code",
   "execution_count": 65,
   "id": "56da300d",
   "metadata": {},
   "outputs": [
    {
     "name": "stdout",
     "output_type": "stream",
     "text": [
      "Divisible\n"
     ]
    }
   ],
   "source": [
    "n = 30\n",
    "\n",
    "if n % 2 == 0 and n % 3 == 0:\n",
    "  print(\"Divisible\")\n",
    "else:\n",
    "  print(\"Not Divisible\")"
   ]
  },
  {
   "cell_type": "markdown",
   "id": "89c3c24b",
   "metadata": {},
   "source": [
    "# 35. Compare two numbers and print the greater one."
   ]
  },
  {
   "cell_type": "code",
   "execution_count": 68,
   "id": "6178cdde",
   "metadata": {},
   "outputs": [
    {
     "name": "stdout",
     "output_type": "stream",
     "text": [
      "Both are equal\n"
     ]
    }
   ],
   "source": [
    "a = 10\n",
    "b = 10\n",
    "\n",
    "if a > b:\n",
    "  print(\"A greater than B\")\n",
    "elif b > a:\n",
    "  print(\"B greater than A\")\n",
    "else:\n",
    "  print(\"Both are equal\")"
   ]
  },
  {
   "cell_type": "markdown",
   "id": "6518bd04",
   "metadata": {},
   "source": [
    "# 36. Use if-elif-else to grade students based on marks."
   ]
  },
  {
   "cell_type": "code",
   "execution_count": 100,
   "id": "b4d2e6ed",
   "metadata": {},
   "outputs": [
    {
     "name": "stdout",
     "output_type": "stream",
     "text": [
      "A\n"
     ]
    }
   ],
   "source": [
    "grade = 80\n",
    "if grade >= 90:\n",
    "  print('S')\n",
    "elif grade >=80 and grade <= 90:\n",
    "  print('A')\n",
    "elif grade >=70 and grade <= 80:\n",
    "  print('A')\n",
    "elif grade >= 40 and grade <= 70:\n",
    "  print(\"B\")\n",
    "else:\n",
    "  print(\"F\")"
   ]
  },
  {
   "cell_type": "markdown",
   "id": "da7c8aae",
   "metadata": {},
   "source": [
    "# 37. Print numbers from 1 to 10 using a for loop."
   ]
  },
  {
   "cell_type": "code",
   "execution_count": 69,
   "id": "6880301c",
   "metadata": {},
   "outputs": [
    {
     "name": "stdout",
     "output_type": "stream",
     "text": [
      "1\n",
      "2\n",
      "3\n",
      "4\n",
      "5\n",
      "6\n",
      "7\n",
      "8\n",
      "9\n",
      "10\n"
     ]
    }
   ],
   "source": [
    "for i in range(1, 11):\n",
    "  print(i)"
   ]
  },
  {
   "cell_type": "markdown",
   "id": "5add7952",
   "metadata": {},
   "source": [
    "# 38. Iterate through a list and print each element."
   ]
  },
  {
   "cell_type": "code",
   "execution_count": 70,
   "id": "16834190",
   "metadata": {},
   "outputs": [
    {
     "name": "stdout",
     "output_type": "stream",
     "text": [
      "1\n",
      "2\n",
      "4\n",
      "5\n",
      "6\n"
     ]
    }
   ],
   "source": [
    "my_l = [1, 2, 4, 5, 6]\n",
    "for i in my_l:\n",
    "  print(i)"
   ]
  },
  {
   "cell_type": "markdown",
   "id": "4ab0397c",
   "metadata": {},
   "source": [
    "# 39. Use a for loop to calculate the factorial of a number."
   ]
  },
  {
   "cell_type": "code",
   "execution_count": 72,
   "id": "923aac9a",
   "metadata": {},
   "outputs": [
    {
     "name": "stdout",
     "output_type": "stream",
     "text": [
      "120\n"
     ]
    }
   ],
   "source": [
    "n = 5\n",
    "fact = 1\n",
    "for i in range(1, n+1):\n",
    "  fact *= i\n",
    "print(fact)"
   ]
  },
  {
   "cell_type": "markdown",
   "id": "f402db0e",
   "metadata": {},
   "source": [
    "# 40. Print all even numbers in a list.\n"
   ]
  },
  {
   "cell_type": "code",
   "execution_count": null,
   "id": "cbda89a5",
   "metadata": {},
   "outputs": [
    {
     "name": "stdout",
     "output_type": "stream",
     "text": [
      "2\n",
      "4\n"
     ]
    }
   ],
   "source": [
    "my_l = [1, 2, 3, 4, 5]\n",
    "for i in my_l:\n",
    "  if i %2 == 0:\n",
    "    print(i)"
   ]
  },
  {
   "cell_type": "markdown",
   "id": "2a030824",
   "metadata": {},
   "source": [
    "# 41. Use a for loop to find the sum of numbers in a list."
   ]
  },
  {
   "cell_type": "code",
   "execution_count": 74,
   "id": "10873d73",
   "metadata": {},
   "outputs": [
    {
     "name": "stdout",
     "output_type": "stream",
     "text": [
      "15\n"
     ]
    }
   ],
   "source": [
    "my_l = [1, 2, 3, 4, 5]\n",
    "total = 0\n",
    "for i in my_l:\n",
    "  total += i\n",
    "print(total)"
   ]
  },
  {
   "cell_type": "markdown",
   "id": "5a69ada0",
   "metadata": {},
   "source": [
    "# 42. Print numbers from 1 to 5 using a while loop."
   ]
  },
  {
   "cell_type": "code",
   "execution_count": 78,
   "id": "9fc5a1f5",
   "metadata": {},
   "outputs": [
    {
     "name": "stdout",
     "output_type": "stream",
     "text": [
      "1\n",
      "2\n",
      "3\n",
      "4\n",
      "5\n"
     ]
    }
   ],
   "source": [
    "i = 1\n",
    "while i <= 5:\n",
    "  print(i)\n",
    "  i += 1"
   ]
  },
  {
   "cell_type": "markdown",
   "id": "b93327ae",
   "metadata": {},
   "source": [
    "# 43. Find the sum of digits of a number using a while loop."
   ]
  },
  {
   "cell_type": "code",
   "execution_count": 96,
   "id": "30748a3e",
   "metadata": {},
   "outputs": [
    {
     "name": "stdout",
     "output_type": "stream",
     "text": [
      "6\n"
     ]
    }
   ],
   "source": [
    "n = 123\n",
    "m = str(n)\n",
    "i = len(m) - 1\n",
    "r = 0\n",
    "while i >= 0:\n",
    "  r += int(m[i])\n",
    "  i -= 1\n",
    "print(int(r))\n"
   ]
  },
  {
   "cell_type": "markdown",
   "id": "14c7d67b",
   "metadata": {},
   "source": [
    "# 44. Write a program that keeps asking for input until \"stop\" is entered."
   ]
  },
  {
   "cell_type": "code",
   "execution_count": 80,
   "id": "44a0db52",
   "metadata": {},
   "outputs": [],
   "source": [
    "while True:\n",
    "  a = input()\n",
    "  if a == \"stop\":\n",
    "    break"
   ]
  },
  {
   "cell_type": "markdown",
   "id": "393cd5fa",
   "metadata": {},
   "source": [
    "# 45. Reverse a number using a while loop."
   ]
  },
  {
   "cell_type": "code",
   "execution_count": 94,
   "id": "dc754ab9",
   "metadata": {},
   "outputs": [
    {
     "name": "stdout",
     "output_type": "stream",
     "text": [
      "321\n"
     ]
    }
   ],
   "source": [
    "n = 123\n",
    "m = str(n)\n",
    "i = len(m) - 1\n",
    "r = \"\"\n",
    "while i >= 0:\n",
    "  r += m[i]\n",
    "  i -= 1\n",
    "print(int(r))"
   ]
  },
  {
   "cell_type": "markdown",
   "id": "d3b8bef2",
   "metadata": {},
   "source": [
    "# 46. Print the multiplication table of a number using a while loop."
   ]
  },
  {
   "cell_type": "code",
   "execution_count": 82,
   "id": "9ef3bfb8",
   "metadata": {},
   "outputs": [
    {
     "name": "stdout",
     "output_type": "stream",
     "text": [
      "1 x 14 = 14\n",
      "2 x 14 = 28\n",
      "3 x 14 = 42\n",
      "4 x 14 = 56\n",
      "5 x 14 = 70\n",
      "6 x 14 = 84\n",
      "7 x 14 = 98\n",
      "8 x 14 = 112\n",
      "9 x 14 = 126\n",
      "10 x 14 = 140\n"
     ]
    }
   ],
   "source": [
    "n = 14\n",
    "i = 1\n",
    "while i <= 10:\n",
    "  print(i, 'x', n, '=', n*i)\n",
    "  i += 1"
   ]
  },
  {
   "cell_type": "markdown",
   "id": "940112e1",
   "metadata": {},
   "source": [
    "# 47. Take the user’s name and print a welcome message."
   ]
  },
  {
   "cell_type": "code",
   "execution_count": 83,
   "id": "8d49910b",
   "metadata": {},
   "outputs": [
    {
     "name": "stdout",
     "output_type": "stream",
     "text": [
      "Welcome Nagesh\n"
     ]
    }
   ],
   "source": [
    "u_name = input(\"Enter your name: \")\n",
    "print(\"Welcome\", u_name)"
   ]
  },
  {
   "cell_type": "markdown",
   "id": "a9929091",
   "metadata": {},
   "source": [
    "# 48. Take two numbers from the user and print their sum."
   ]
  },
  {
   "cell_type": "code",
   "execution_count": 84,
   "id": "7df7806b",
   "metadata": {},
   "outputs": [
    {
     "name": "stdout",
     "output_type": "stream",
     "text": [
      "30\n"
     ]
    }
   ],
   "source": [
    "a = int(input())\n",
    "b = int(input())\n",
    "print(a+ b)\n"
   ]
  },
  {
   "cell_type": "markdown",
   "id": "eb602eb9",
   "metadata": {},
   "source": [
    "# 49. Ask the user to input a list of numbers (comma-separated) and convert it to a list of\n",
    "integers."
   ]
  },
  {
   "cell_type": "code",
   "execution_count": 85,
   "id": "0a29a8ba",
   "metadata": {},
   "outputs": [
    {
     "name": "stdout",
     "output_type": "stream",
     "text": [
      "1,2,3,4,5\n",
      "[1, 2, 3, 4, 5]\n"
     ]
    }
   ],
   "source": [
    "u_li = input(\"Enter list commo sep:\")\n",
    "print(u_li)\n",
    "new_l = [int(x) for x in u_li.split(\",\")]\n",
    "print(new_l)"
   ]
  },
  {
   "cell_type": "markdown",
   "id": "4d423719",
   "metadata": {},
   "source": [
    "# 50. Take the user's age and check if they are eligible to vote (age >= 18)."
   ]
  },
  {
   "cell_type": "code",
   "execution_count": 88,
   "id": "66630035",
   "metadata": {},
   "outputs": [
    {
     "name": "stdout",
     "output_type": "stream",
     "text": [
      "can vote\n"
     ]
    }
   ],
   "source": [
    "age = int(input(\"AgL:\"))\n",
    "\n",
    "if age >= 18:\n",
    "  print(\"can vote\")\n",
    "else:\n",
    "  print(\"Can't Vote\")"
   ]
  },
  {
   "cell_type": "code",
   "execution_count": null,
   "id": "6a9c5e22",
   "metadata": {},
   "outputs": [],
   "source": []
  }
 ],
 "metadata": {
  "kernelspec": {
   "display_name": "Python 3 (ipykernel)",
   "language": "python",
   "name": "python3"
  }
 },
 "nbformat": 4,
 "nbformat_minor": 5
}

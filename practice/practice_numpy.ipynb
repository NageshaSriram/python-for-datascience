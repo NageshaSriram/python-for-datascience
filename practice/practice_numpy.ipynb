{
 "cells": [
  {
   "cell_type": "markdown",
   "id": "b56788b3",
   "metadata": {},
   "source": [
    "# Practice Numpy"
   ]
  },
  {
   "cell_type": "code",
   "execution_count": 12,
   "id": "8442f026",
   "metadata": {},
   "outputs": [
    {
     "name": "stdout",
     "output_type": "stream",
     "text": [
      "Collecting numpy\n",
      "  Downloading numpy-2.2.5-cp311-cp311-macosx_14_0_x86_64.whl.metadata (62 kB)\n",
      "Downloading numpy-2.2.5-cp311-cp311-macosx_14_0_x86_64.whl (7.0 MB)\n",
      "\u001b[2K   \u001b[90m━━━━━━━━━━━━━━━━━━━━━━━━━━━━━━━━━━━━━━━━\u001b[0m \u001b[32m7.0/7.0 MB\u001b[0m \u001b[31m10.2 MB/s\u001b[0m eta \u001b[36m0:00:00\u001b[0ma \u001b[36m0:00:01\u001b[0m\n",
      "\u001b[?25hInstalling collected packages: numpy\n",
      "Successfully installed numpy-2.2.5\n"
     ]
    }
   ],
   "source": [
    "# install numpy array\n",
    "!pip install numpy"
   ]
  },
  {
   "cell_type": "code",
   "execution_count": 13,
   "id": "dad476bf",
   "metadata": {},
   "outputs": [],
   "source": [
    "# import numpy array\n",
    "\n",
    "import numpy as np"
   ]
  },
  {
   "cell_type": "code",
   "execution_count": 21,
   "id": "deb956c6",
   "metadata": {},
   "outputs": [
    {
     "name": "stdout",
     "output_type": "stream",
     "text": [
      "Array: [1, 2, 3, 4, 5]\n",
      "Output:  <class 'list'>\n"
     ]
    },
    {
     "data": {
      "text/plain": [
       "list"
      ]
     },
     "execution_count": 21,
     "metadata": {},
     "output_type": "execute_result"
    }
   ],
   "source": [
    "# Create list and check it's type\n",
    "list1 = [1, 2, 3, 4, 5]\n",
    "print('Array:', list1)\n",
    "print(\"Output: \", type(list1))\n",
    "type(list1)"
   ]
  },
  {
   "cell_type": "code",
   "execution_count": 27,
   "id": "a9c1255d",
   "metadata": {},
   "outputs": [
    {
     "name": "stdout",
     "output_type": "stream",
     "text": [
      "Output:\n",
      "Array: [1 2 3 4 5]\n",
      "Type: <class 'numpy.ndarray'>\n"
     ]
    },
    {
     "data": {
      "text/plain": [
       "numpy.ndarray"
      ]
     },
     "execution_count": 27,
     "metadata": {},
     "output_type": "execute_result"
    }
   ],
   "source": [
    "# Use `array()` function to create numpy array from a list\n",
    "\n",
    "arr1 = np.array(list1)\n",
    "\n",
    "print('Output:')\n",
    "print('Array:', arr1)\n",
    "print('Type:', type(arr1))\n",
    "type(arr1)\n",
    "str(type(arr1)) == 'numpy.ndarray'\n",
    "type(arr1)"
   ]
  },
  {
   "cell_type": "code",
   "execution_count": 34,
   "id": "c861b710",
   "metadata": {},
   "outputs": [
    {
     "name": "stdout",
     "output_type": "stream",
     "text": [
      "arr1 is instance of numpy.ndarray\n"
     ]
    }
   ],
   "source": [
    "# Check instance (checking type)\n",
    "if isinstance(arr1, np.ndarray):\n",
    "  print(\"arr1 is instance of numpy.ndarray\")\n",
    "else:\n",
    "  print(\"It is not instance of ndarray\")"
   ]
  },
  {
   "cell_type": "code",
   "execution_count": 81,
   "id": "e82939ab",
   "metadata": {},
   "outputs": [
    {
     "name": "stdout",
     "output_type": "stream",
     "text": [
      "True\n",
      "True\n",
      "True\n",
      "True\n",
      "True\n",
      "True\n",
      "True\n",
      "True\n"
     ]
    }
   ],
   "source": [
    "# Checking other instance types\n",
    "a = 10\n",
    "print(isinstance(a, int))\n",
    "\n",
    "print(isinstance('My Name', str))\n",
    "\n",
    "print(isinstance(False, bool))\n",
    "\n",
    "print(isinstance({}, dict)) # empty flower brackets treats as dict\n",
    "\n",
    "# if you want to create empty set use `set()`\n",
    "\n",
    "print(isinstance((1, 2, 3), tuple))\n",
    "\n",
    "print(isinstance({\n",
    "  'A': 'a'\n",
    "}, dict))\n",
    "print(isinstance('Hello', object))\n",
    "print(isinstance(10, object))\n",
    "\n"
   ]
  },
  {
   "cell_type": "code",
   "execution_count": 44,
   "id": "14c53322",
   "metadata": {},
   "outputs": [
    {
     "data": {
      "text/plain": [
       "set"
      ]
     },
     "execution_count": 44,
     "metadata": {},
     "output_type": "execute_result"
    }
   ],
   "source": [
    "type({1, 2, 3, 4})"
   ]
  },
  {
   "cell_type": "code",
   "execution_count": 82,
   "id": "fbd9ab87",
   "metadata": {},
   "outputs": [
    {
     "data": {
      "text/plain": [
       "True"
      ]
     },
     "execution_count": 82,
     "metadata": {},
     "output_type": "execute_result"
    }
   ],
   "source": [
    "type({\n",
    "  'A': 'a'\n",
    "}) == dict"
   ]
  },
  {
   "cell_type": "code",
   "execution_count": 78,
   "id": "d5983c72",
   "metadata": {},
   "outputs": [
    {
     "data": {
      "text/plain": [
       "True"
      ]
     },
     "execution_count": 78,
     "metadata": {},
     "output_type": "execute_result"
    }
   ],
   "source": [
    "isinstance(set(), object)"
   ]
  },
  {
   "cell_type": "code",
   "execution_count": 80,
   "id": "3487f905",
   "metadata": {},
   "outputs": [],
   "source": [
    "# creating empty set\n",
    "empty_set = set()"
   ]
  },
  {
   "cell_type": "code",
   "execution_count": 84,
   "id": "8576d03f",
   "metadata": {},
   "outputs": [
    {
     "name": "stdout",
     "output_type": "stream",
     "text": [
      "True\n",
      "True\n",
      "True\n",
      "True\n",
      "True\n",
      "True\n",
      "True\n",
      "True\n"
     ]
    }
   ],
   "source": [
    "# in Python everything is an object\n",
    "print(isinstance(10, object)) # int\n",
    "print(isinstance('Str', object)) # str\n",
    "print(isinstance(set(), object)) # set\n",
    "print(isinstance({}, object)) # dict\n",
    "print(isinstance(12.34, object)) # float\n",
    "print(isinstance(True, object)) # bool\n",
    "print(isinstance([], list)) # list\n",
    "print(isinstance((), object)) # tuple"
   ]
  },
  {
   "cell_type": "code",
   "execution_count": 87,
   "id": "a2d4c7c2",
   "metadata": {},
   "outputs": [
    {
     "name": "stdout",
     "output_type": "stream",
     "text": [
      "True\n",
      "True\n",
      "True\n",
      "True\n",
      "True\n",
      "True\n",
      "True\n",
      "True\n"
     ]
    }
   ],
   "source": [
    "# checking individual types using type() function\n",
    "print(type('str') == str)\n",
    "print(type(10) == int)\n",
    "print(type([]) == list)\n",
    "print(type({}) == dict)\n",
    "print(type(set()) == set)\n",
    "print(type(()) == tuple)\n",
    "print(type(False) == bool)\n",
    "print(type(12.34) == float)"
   ]
  },
  {
   "cell_type": "code",
   "execution_count": 88,
   "id": "05aef4e5",
   "metadata": {},
   "outputs": [
    {
     "name": "stdout",
     "output_type": "stream",
     "text": [
      "True\n"
     ]
    }
   ],
   "source": [
    "# checking type using isinstance\n",
    "\n",
    "print(isinstance('my', str))"
   ]
  },
  {
   "cell_type": "code",
   "execution_count": 91,
   "id": "006dba5e",
   "metadata": {},
   "outputs": [
    {
     "name": "stdout",
     "output_type": "stream",
     "text": [
      "Output [1 2 3 4 5]\n",
      "Type <class 'numpy.ndarray'>\n",
      "Check type True\n",
      "Check type using isinstance True\n"
     ]
    }
   ],
   "source": [
    "# Check type of ndarray\n",
    "\n",
    "arr1 = np.array(list1)\n",
    "\n",
    "print('Output', arr1)\n",
    "print('Type', type(arr1))\n",
    "print('Check type', type(arr1) == np.ndarray)\n",
    "print('Check type using isinstance', isinstance(arr1, np.ndarray))"
   ]
  },
  {
   "cell_type": "code",
   "execution_count": 98,
   "id": "ff6367ca",
   "metadata": {},
   "outputs": [
    {
     "name": "stdout",
     "output_type": "stream",
     "text": [
      "[0. 0. 0. 0. 0.]\n"
     ]
    }
   ],
   "source": [
    "# Creating array of zeros, shape param is manadaroty\n",
    "zeros_arr = np.zeros(shape=5)\n",
    "print(zeros_arr)"
   ]
  },
  {
   "cell_type": "code",
   "execution_count": 102,
   "id": "88c44f80",
   "metadata": {},
   "outputs": [
    {
     "name": "stdout",
     "output_type": "stream",
     "text": [
      "[1. 1. 1. 1. 1.]\n"
     ]
    }
   ],
   "source": [
    "# Creating array of once using ones function\n",
    "ones_arr = np.ones(shape=5) # shape is mandatory\n",
    "print(ones_arr)"
   ]
  },
  {
   "cell_type": "code",
   "execution_count": 106,
   "id": "185a4c6e",
   "metadata": {},
   "outputs": [
    {
     "name": "stdout",
     "output_type": "stream",
     "text": [
      "0.8628737543241601\n"
     ]
    }
   ],
   "source": [
    "# Creating Numpy array of random numbers\n",
    "rand_arr1 = np.random.random()\n",
    "print(rand_arr1) # Prints only one number"
   ]
  },
  {
   "cell_type": "code",
   "execution_count": 108,
   "id": "7d4f2460",
   "metadata": {},
   "outputs": [
    {
     "name": "stdout",
     "output_type": "stream",
     "text": [
      "[0.09021707 0.46565857 0.57154741 0.2371902  0.6205741  0.62666657\n",
      " 0.80427893 0.66548724 0.9916665  0.04162437]\n"
     ]
    }
   ],
   "source": [
    "rand_arr1 = np.random.random(size=10) # Print 10 random numbers distributed evening between 0.0 to 1.0\n",
    "print(rand_arr1)"
   ]
  },
  {
   "cell_type": "code",
   "execution_count": 112,
   "id": "b252b009",
   "metadata": {},
   "outputs": [
    {
     "name": "stdout",
     "output_type": "stream",
     "text": [
      "0.3637955519426581\n"
     ]
    }
   ],
   "source": [
    "# using rand() function\n",
    "rand_arr1 = np.random.rand()\n",
    "print(rand_arr1)"
   ]
  },
  {
   "cell_type": "code",
   "execution_count": null,
   "id": "3fdf8801",
   "metadata": {},
   "outputs": [],
   "source": []
  }
 ],
 "metadata": {
  "kernelspec": {
   "display_name": "Python 3",
   "language": "python",
   "name": "python3"
  },
  "language_info": {
   "codemirror_mode": {
    "name": "ipython",
    "version": 3
   },
   "file_extension": ".py",
   "mimetype": "text/x-python",
   "name": "python",
   "nbconvert_exporter": "python",
   "pygments_lexer": "ipython3",
   "version": "3.11.11"
  }
 },
 "nbformat": 4,
 "nbformat_minor": 5
}

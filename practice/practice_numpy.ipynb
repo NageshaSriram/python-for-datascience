{
 "cells": [
  {
   "cell_type": "markdown",
   "id": "b56788b3",
   "metadata": {},
   "source": [
    "# Practice Numpy"
   ]
  },
  {
   "cell_type": "code",
   "execution_count": 2,
   "id": "8442f026",
   "metadata": {},
   "outputs": [
    {
     "name": "stdout",
     "output_type": "stream",
     "text": [
      "Requirement already satisfied: numpy in /Volumes/Technology/pesu/sem_one/python/git/python-for-datascience/.conda/lib/python3.11/site-packages (2.2.5)\n"
     ]
    }
   ],
   "source": [
    "# install numpy array\n",
    "!pip install numpy"
   ]
  },
  {
   "cell_type": "code",
   "execution_count": 3,
   "id": "dad476bf",
   "metadata": {},
   "outputs": [],
   "source": [
    "# import numpy array\n",
    "\n",
    "import numpy as np"
   ]
  },
  {
   "cell_type": "code",
   "execution_count": 4,
   "id": "deb956c6",
   "metadata": {},
   "outputs": [
    {
     "name": "stdout",
     "output_type": "stream",
     "text": [
      "Array: [1, 2, 3, 4, 5]\n",
      "Output:  <class 'list'>\n"
     ]
    },
    {
     "data": {
      "text/plain": [
       "list"
      ]
     },
     "execution_count": 4,
     "metadata": {},
     "output_type": "execute_result"
    }
   ],
   "source": [
    "# Create list and check it's type\n",
    "list1 = [1, 2, 3, 4, 5]\n",
    "print('Array:', list1)\n",
    "print(\"Output: \", type(list1))\n",
    "type(list1)"
   ]
  },
  {
   "cell_type": "code",
   "execution_count": 5,
   "id": "a9c1255d",
   "metadata": {},
   "outputs": [
    {
     "name": "stdout",
     "output_type": "stream",
     "text": [
      "Output:\n",
      "Array: [1 2 3 4 5]\n",
      "Type: <class 'numpy.ndarray'>\n"
     ]
    },
    {
     "data": {
      "text/plain": [
       "numpy.ndarray"
      ]
     },
     "execution_count": 5,
     "metadata": {},
     "output_type": "execute_result"
    }
   ],
   "source": [
    "# Use `array()` function to create numpy array from a list\n",
    "\n",
    "arr1 = np.array(list1)\n",
    "\n",
    "print('Output:')\n",
    "print('Array:', arr1)\n",
    "print('Type:', type(arr1))\n",
    "type(arr1)\n",
    "str(type(arr1)) == 'numpy.ndarray'\n",
    "type(arr1)"
   ]
  },
  {
   "cell_type": "code",
   "execution_count": 6,
   "id": "c861b710",
   "metadata": {},
   "outputs": [
    {
     "name": "stdout",
     "output_type": "stream",
     "text": [
      "arr1 is instance of numpy.ndarray\n"
     ]
    }
   ],
   "source": [
    "# Check instance (checking type)\n",
    "if isinstance(arr1, np.ndarray):\n",
    "  print(\"arr1 is instance of numpy.ndarray\")\n",
    "else:\n",
    "  print(\"It is not instance of ndarray\")"
   ]
  },
  {
   "cell_type": "code",
   "execution_count": 7,
   "id": "e82939ab",
   "metadata": {},
   "outputs": [
    {
     "name": "stdout",
     "output_type": "stream",
     "text": [
      "True\n",
      "True\n",
      "True\n",
      "True\n",
      "True\n",
      "True\n",
      "True\n",
      "True\n"
     ]
    }
   ],
   "source": [
    "# Checking other instance types\n",
    "a = 10\n",
    "print(isinstance(a, int))\n",
    "\n",
    "print(isinstance('My Name', str))\n",
    "\n",
    "print(isinstance(False, bool))\n",
    "\n",
    "print(isinstance({}, dict)) # empty flower brackets treats as dict\n",
    "\n",
    "# if you want to create empty set use `set()`\n",
    "\n",
    "print(isinstance((1, 2, 3), tuple))\n",
    "\n",
    "print(isinstance({\n",
    "  'A': 'a'\n",
    "}, dict))\n",
    "print(isinstance('Hello', object))\n",
    "print(isinstance(10, object))\n",
    "\n"
   ]
  },
  {
   "cell_type": "code",
   "execution_count": 8,
   "id": "14c53322",
   "metadata": {},
   "outputs": [
    {
     "data": {
      "text/plain": [
       "set"
      ]
     },
     "execution_count": 8,
     "metadata": {},
     "output_type": "execute_result"
    }
   ],
   "source": [
    "type({1, 2, 3, 4})"
   ]
  },
  {
   "cell_type": "code",
   "execution_count": 9,
   "id": "fbd9ab87",
   "metadata": {},
   "outputs": [
    {
     "data": {
      "text/plain": [
       "True"
      ]
     },
     "execution_count": 9,
     "metadata": {},
     "output_type": "execute_result"
    }
   ],
   "source": [
    "type({\n",
    "  'A': 'a'\n",
    "}) == dict"
   ]
  },
  {
   "cell_type": "code",
   "execution_count": 10,
   "id": "d5983c72",
   "metadata": {},
   "outputs": [
    {
     "data": {
      "text/plain": [
       "True"
      ]
     },
     "execution_count": 10,
     "metadata": {},
     "output_type": "execute_result"
    }
   ],
   "source": [
    "isinstance(set(), object)"
   ]
  },
  {
   "cell_type": "code",
   "execution_count": 11,
   "id": "3487f905",
   "metadata": {},
   "outputs": [],
   "source": [
    "# creating empty set\n",
    "empty_set = set()"
   ]
  },
  {
   "cell_type": "code",
   "execution_count": 12,
   "id": "8576d03f",
   "metadata": {},
   "outputs": [
    {
     "name": "stdout",
     "output_type": "stream",
     "text": [
      "True\n",
      "True\n",
      "True\n",
      "True\n",
      "True\n",
      "True\n",
      "True\n",
      "True\n"
     ]
    }
   ],
   "source": [
    "# in Python everything is an object\n",
    "print(isinstance(10, object)) # int\n",
    "print(isinstance('Str', object)) # str\n",
    "print(isinstance(set(), object)) # set\n",
    "print(isinstance({}, object)) # dict\n",
    "print(isinstance(12.34, object)) # float\n",
    "print(isinstance(True, object)) # bool\n",
    "print(isinstance([], list)) # list\n",
    "print(isinstance((), object)) # tuple"
   ]
  },
  {
   "cell_type": "code",
   "execution_count": 13,
   "id": "a2d4c7c2",
   "metadata": {},
   "outputs": [
    {
     "name": "stdout",
     "output_type": "stream",
     "text": [
      "True\n",
      "True\n",
      "True\n",
      "True\n",
      "True\n",
      "True\n",
      "True\n",
      "True\n"
     ]
    }
   ],
   "source": [
    "# checking individual types using type() function\n",
    "print(type('str') == str)\n",
    "print(type(10) == int)\n",
    "print(type([]) == list)\n",
    "print(type({}) == dict)\n",
    "print(type(set()) == set)\n",
    "print(type(()) == tuple)\n",
    "print(type(False) == bool)\n",
    "print(type(12.34) == float)"
   ]
  },
  {
   "cell_type": "code",
   "execution_count": 14,
   "id": "05aef4e5",
   "metadata": {},
   "outputs": [
    {
     "name": "stdout",
     "output_type": "stream",
     "text": [
      "True\n"
     ]
    }
   ],
   "source": [
    "# checking type using isinstance\n",
    "\n",
    "print(isinstance('my', str))"
   ]
  },
  {
   "cell_type": "code",
   "execution_count": 15,
   "id": "006dba5e",
   "metadata": {},
   "outputs": [
    {
     "name": "stdout",
     "output_type": "stream",
     "text": [
      "Output [1 2 3 4 5]\n",
      "Type <class 'numpy.ndarray'>\n",
      "Check type True\n",
      "Check type using isinstance True\n"
     ]
    }
   ],
   "source": [
    "# Check type of ndarray\n",
    "\n",
    "arr1 = np.array(list1)\n",
    "\n",
    "print('Output', arr1)\n",
    "print('Type', type(arr1))\n",
    "print('Check type', type(arr1) == np.ndarray)\n",
    "print('Check type using isinstance', isinstance(arr1, np.ndarray))"
   ]
  },
  {
   "cell_type": "code",
   "execution_count": 16,
   "id": "ff6367ca",
   "metadata": {},
   "outputs": [
    {
     "name": "stdout",
     "output_type": "stream",
     "text": [
      "[0. 0. 0. 0. 0.]\n"
     ]
    }
   ],
   "source": [
    "# Creating array of zeros, shape param is manadaroty\n",
    "zeros_arr = np.zeros(shape=5)\n",
    "print(zeros_arr)"
   ]
  },
  {
   "cell_type": "code",
   "execution_count": 17,
   "id": "88c44f80",
   "metadata": {},
   "outputs": [
    {
     "name": "stdout",
     "output_type": "stream",
     "text": [
      "[1. 1. 1. 1. 1.]\n"
     ]
    }
   ],
   "source": [
    "# Creating array of once using ones function\n",
    "ones_arr = np.ones(shape=5) # shape is mandatory\n",
    "print(ones_arr)"
   ]
  },
  {
   "cell_type": "code",
   "execution_count": 18,
   "id": "185a4c6e",
   "metadata": {},
   "outputs": [
    {
     "name": "stdout",
     "output_type": "stream",
     "text": [
      "0.30379015554536337\n"
     ]
    }
   ],
   "source": [
    "# Creating Numpy array of random numbers\n",
    "rand_arr1 = np.random.random()\n",
    "print(rand_arr1) # Prints only one number"
   ]
  },
  {
   "cell_type": "code",
   "execution_count": 19,
   "id": "7d4f2460",
   "metadata": {},
   "outputs": [
    {
     "name": "stdout",
     "output_type": "stream",
     "text": [
      "[0.96534215 0.61149935 0.89921599 0.04103113 0.54700665 0.44776102\n",
      " 0.35671123 0.40358045 0.19061379 0.4437382  0.75083589 0.5583258\n",
      " 0.67942449 0.02644713 0.00111054 0.58706285 0.6138746  0.4077761\n",
      " 0.3271107  0.23691929 0.25398118 0.55514413 0.0592602  0.18402771\n",
      " 0.24071038 0.65058206 0.03660497 0.71805485 0.01276929 0.34918785]\n"
     ]
    }
   ],
   "source": [
    "rand_arr1 = np.random.random(size=30) # Print 10 random numbers distributed evening between 0.0 to 1.0\n",
    "print(rand_arr1)"
   ]
  },
  {
   "cell_type": "code",
   "execution_count": 20,
   "id": "b252b009",
   "metadata": {},
   "outputs": [
    {
     "name": "stdout",
     "output_type": "stream",
     "text": [
      "0.1416005566898173\n"
     ]
    }
   ],
   "source": [
    "# using rand() function\n",
    "rand_arr1 = np.random.rand()\n",
    "print(rand_arr1)"
   ]
  },
  {
   "cell_type": "code",
   "execution_count": 21,
   "id": "f8c234ab",
   "metadata": {},
   "outputs": [
    {
     "name": "stdout",
     "output_type": "stream",
     "text": [
      "[[0.65662831 0.10096068 0.36358763]\n",
      " [0.590454   0.13763383 0.90116671]]\n"
     ]
    }
   ],
   "source": [
    "# Generate multiple randome numbers\n",
    "rand_arr1 = np.random.rand(2, 3) # 2 rows and 3 columns\n",
    "print(rand_arr1)"
   ]
  },
  {
   "cell_type": "code",
   "execution_count": 22,
   "id": "88108c79",
   "metadata": {},
   "outputs": [
    {
     "data": {
      "text/plain": [
       "array([-1.94921052, -1.07377233,  0.72844448, -0.06070413,  0.83558708,\n",
       "        1.47573251, -1.86003861, -0.68572261,  0.0152042 , -0.41408213])"
      ]
     },
     "execution_count": 22,
     "metadata": {},
     "output_type": "execute_result"
    }
   ],
   "source": [
    "# Standard normal distribution\n",
    "arr_1 = np.random.randn(10)\n",
    "arr_1"
   ]
  },
  {
   "cell_type": "code",
   "execution_count": 23,
   "id": "fcbd5668",
   "metadata": {},
   "outputs": [
    {
     "data": {
      "text/plain": [
       "array([5, 6])"
      ]
     },
     "execution_count": 23,
     "metadata": {},
     "output_type": "execute_result"
    }
   ],
   "source": [
    "# randint returns random integerers from low (inclusive) to high(exclusive)\n",
    "np.random.randint(5, 7, 2) # (start, end, size)"
   ]
  },
  {
   "cell_type": "code",
   "execution_count": 24,
   "id": "f7dcfe23",
   "metadata": {},
   "outputs": [
    {
     "name": "stdout",
     "output_type": "stream",
     "text": [
      "[0 0 0 0 0 0 0 0 0 0]\n",
      "[1. 3. 5. 7. 9.]\n"
     ]
    }
   ],
   "source": [
    "# Prints all 0 \n",
    "print(np.arange(0, 1, 0.1, int))\n",
    "\n",
    "# prints 1 to 9\n",
    "print(np.arange(1, 10, 2, float)) # start, stop(exclusive), step, dtype"
   ]
  },
  {
   "cell_type": "markdown",
   "id": "314ea8a9",
   "metadata": {},
   "source": [
    "### Attributes of Array\n",
    "\n",
    "- size\n",
    "- itemsize\n",
    "- shape\n",
    "- ndim\n",
    "- dtype"
   ]
  },
  {
   "cell_type": "code",
   "execution_count": 25,
   "id": "50469b0e",
   "metadata": {},
   "outputs": [
    {
     "name": "stdout",
     "output_type": "stream",
     "text": [
      "[[4 3 2]\n",
      " [7 5 6]]\n",
      "6\n",
      "8\n",
      "(2, 3)\n",
      "2\n",
      "int64\n"
     ]
    }
   ],
   "source": [
    "# array1 = np.array([1, 2, 3, 4, 5])\n",
    "# array1 = np.random.rand(2, 2, 2)\n",
    "# array1 = np.random.randint(1, 20, 20)\n",
    "# array1 = np.array([(4, 3, 2), (7, 5, 6)])\n",
    "array1 = np.array([[4, 3, 2], [7, 5, 6]])\n",
    "print(array1)\n",
    "print(array1.size)\n",
    "print(array1.itemsize)\n",
    "print(array1.shape)\n",
    "print(array1.ndim)\n",
    "print(array1.dtype)"
   ]
  },
  {
   "cell_type": "markdown",
   "id": "4fc3c2b9",
   "metadata": {},
   "source": [
    "### NumPy array method"
   ]
  },
  {
   "cell_type": "code",
   "execution_count": 33,
   "id": "3e8c1a1e",
   "metadata": {},
   "outputs": [
    {
     "data": {
      "text/plain": [
       "array([[0.34619569, 0.74212644, 0.04413086],\n",
       "       [0.24608469, 0.74955336, 0.64492357]])"
      ]
     },
     "execution_count": 33,
     "metadata": {},
     "output_type": "execute_result"
    }
   ],
   "source": [
    "# reshape\n",
    "original_arr = np.random.rand(2, 3)\n",
    "original_arr"
   ]
  },
  {
   "cell_type": "code",
   "execution_count": 36,
   "id": "132b2bd8",
   "metadata": {},
   "outputs": [
    {
     "data": {
      "text/plain": [
       "array([[0.34619569, 0.74212644],\n",
       "       [0.04413086, 0.24608469],\n",
       "       [0.74955336, 0.64492357]])"
      ]
     },
     "execution_count": 36,
     "metadata": {},
     "output_type": "execute_result"
    }
   ],
   "source": [
    "reshaped_arr = original_arr.reshape(3, 2)\n",
    "reshaped_arr"
   ]
  },
  {
   "cell_type": "code",
   "execution_count": 38,
   "id": "2007b7a6",
   "metadata": {},
   "outputs": [
    {
     "data": {
      "text/plain": [
       "array([0.81079911, 0.1977597 , 0.33065469, 0.45603379, 0.68704434,\n",
       "       0.38449556, 0.35054268, 0.90396904, 0.00164412, 0.57066652])"
      ]
     },
     "execution_count": 38,
     "metadata": {},
     "output_type": "execute_result"
    }
   ],
   "source": [
    "another_arr = np.random.rand(10)\n",
    "another_arr"
   ]
  },
  {
   "cell_type": "code",
   "execution_count": 39,
   "id": "1b6ceb60",
   "metadata": {},
   "outputs": [
    {
     "data": {
      "text/plain": [
       "array([[0.81079911, 0.1977597 , 0.33065469, 0.45603379, 0.68704434],\n",
       "       [0.38449556, 0.35054268, 0.90396904, 0.00164412, 0.57066652]])"
      ]
     },
     "execution_count": 39,
     "metadata": {},
     "output_type": "execute_result"
    }
   ],
   "source": [
    "another_arr.reshape(2, 5)"
   ]
  },
  {
   "cell_type": "code",
   "execution_count": 42,
   "id": "a122db59",
   "metadata": {},
   "outputs": [
    {
     "data": {
      "text/plain": [
       "np.float64(0.5706665213740681)"
      ]
     },
     "execution_count": 42,
     "metadata": {},
     "output_type": "execute_result"
    }
   ],
   "source": [
    "# indexing of an array\n",
    "another_arr[-1]"
   ]
  },
  {
   "cell_type": "code",
   "execution_count": 46,
   "id": "c01677e2",
   "metadata": {},
   "outputs": [
    {
     "data": {
      "text/plain": [
       "array([[0.06173413, 0.06706529, 0.9187231 , 0.70421718],\n",
       "       [0.65470838, 0.44444684, 0.56858904, 0.57623849],\n",
       "       [0.70329741, 0.31454687, 0.53883783, 0.91828393]])"
      ]
     },
     "execution_count": 46,
     "metadata": {},
     "output_type": "execute_result"
    }
   ],
   "source": [
    "two_d_arr = np.random.rand(3, 4)\n",
    "two_d_arr"
   ]
  },
  {
   "cell_type": "code",
   "execution_count": 54,
   "id": "d18f3af4",
   "metadata": {},
   "outputs": [
    {
     "name": "stdout",
     "output_type": "stream",
     "text": [
      "[0.65470838 0.44444684]\n",
      "[[0.06706529 0.9187231  0.70421718]\n",
      " [0.44444684 0.56858904 0.57623849]\n",
      " [0.31454687 0.53883783 0.91828393]]\n"
     ]
    }
   ],
   "source": [
    "print(two_d_arr[1][0:2])\n",
    "print(two_d_arr[:,1:])"
   ]
  },
  {
   "cell_type": "code",
   "execution_count": 63,
   "id": "9214ccd5",
   "metadata": {},
   "outputs": [
    {
     "data": {
      "text/plain": [
       "array([[0.06173413, 0.06706529, 0.9187231 , 0.70421718],\n",
       "       [0.70329741, 0.31454687, 0.53883783, 0.91828393]])"
      ]
     },
     "execution_count": 63,
     "metadata": {},
     "output_type": "execute_result"
    }
   ],
   "source": [
    "two_d_arr[0::2,:]"
   ]
  },
  {
   "cell_type": "code",
   "execution_count": 69,
   "id": "19b53c7a",
   "metadata": {},
   "outputs": [
    {
     "name": "stdout",
     "output_type": "stream",
     "text": [
      "[False  True  True False False  True]\n"
     ]
    }
   ],
   "source": [
    "# Comparision operator\n",
    "\n",
    "age = np.array([13, 45, 22, 6, 14, 25])\n",
    "\n",
    "print(age>18)"
   ]
  },
  {
   "cell_type": "code",
   "execution_count": 75,
   "id": "331e8177",
   "metadata": {},
   "outputs": [
    {
     "name": "stdout",
     "output_type": "stream",
     "text": [
      "[[1 2 3]\n",
      " [4 5 6]]\n",
      "[[5 6 7]\n",
      " [8 9 0]]\n"
     ]
    }
   ],
   "source": [
    "m1 = np.array([[1, 2, 3], [4, 5, 6]])\n",
    "m2 = np.array([[5, 6, 7], [8, 9, 0]])\n",
    "print(m1)\n",
    "print(m2)"
   ]
  },
  {
   "cell_type": "code",
   "execution_count": 76,
   "id": "56f1a632",
   "metadata": {},
   "outputs": [
    {
     "data": {
      "text/plain": [
       "array([[ 6,  8, 10],\n",
       "       [12, 14,  6]])"
      ]
     },
     "execution_count": 76,
     "metadata": {},
     "output_type": "execute_result"
    }
   ],
   "source": [
    "m1 + m2"
   ]
  },
  {
   "cell_type": "code",
   "execution_count": 77,
   "id": "2f7eeae9",
   "metadata": {},
   "outputs": [
    {
     "data": {
      "text/plain": [
       "array([[ 5, 12, 21],\n",
       "       [32, 45,  0]])"
      ]
     },
     "execution_count": 77,
     "metadata": {},
     "output_type": "execute_result"
    }
   ],
   "source": [
    "m1 * m2"
   ]
  },
  {
   "cell_type": "code",
   "execution_count": 78,
   "id": "2acbd444",
   "metadata": {},
   "outputs": [
    {
     "data": {
      "text/plain": [
       "array([[ 2,  4,  6],\n",
       "       [ 8, 10, 12]])"
      ]
     },
     "execution_count": 78,
     "metadata": {},
     "output_type": "execute_result"
    }
   ],
   "source": [
    "m1 * 2"
   ]
  },
  {
   "cell_type": "code",
   "execution_count": 79,
   "id": "7a7b0f24",
   "metadata": {},
   "outputs": [
    {
     "data": {
      "text/plain": [
       "array([[1, 2, 3],\n",
       "       [4, 5, 6]])"
      ]
     },
     "execution_count": 79,
     "metadata": {},
     "output_type": "execute_result"
    }
   ],
   "source": [
    "m1"
   ]
  },
  {
   "cell_type": "code",
   "execution_count": 95,
   "id": "cfe87a47",
   "metadata": {},
   "outputs": [
    {
     "name": "stdout",
     "output_type": "stream",
     "text": [
      "[[1 2 3]\n",
      " [4 5 6]]\n",
      "[[1 2 3]\n",
      " [4 5 6]\n",
      " [7 8 9]]\n"
     ]
    }
   ],
   "source": [
    "# using dot product\n",
    "\n",
    "m2 = np.array([[1, 2, 3], [4, 5, 6], [7, 8, 9]])\n",
    "print(m1)\n",
    "print(m2)"
   ]
  },
  {
   "cell_type": "code",
   "execution_count": 96,
   "id": "e16b75ea",
   "metadata": {},
   "outputs": [
    {
     "data": {
      "text/plain": [
       "array([[30, 36, 42],\n",
       "       [66, 81, 96]])"
      ]
     },
     "execution_count": 96,
     "metadata": {},
     "output_type": "execute_result"
    }
   ],
   "source": [
    "m1.dot(m2)"
   ]
  },
  {
   "cell_type": "code",
   "execution_count": 97,
   "id": "6f559086",
   "metadata": {},
   "outputs": [
    {
     "data": {
      "text/plain": [
       "array([[ 1,  4,  9],\n",
       "       [16, 25, 36]])"
      ]
     },
     "execution_count": 97,
     "metadata": {},
     "output_type": "execute_result"
    }
   ],
   "source": [
    "# Arithmetic functions on array\n",
    "np.power(m1, 2)"
   ]
  },
  {
   "cell_type": "code",
   "execution_count": 98,
   "id": "6834784a",
   "metadata": {},
   "outputs": [
    {
     "data": {
      "text/plain": [
       "array([[1, 2, 3],\n",
       "       [4, 5, 6]])"
      ]
     },
     "execution_count": 98,
     "metadata": {},
     "output_type": "execute_result"
    }
   ],
   "source": [
    "m1"
   ]
  },
  {
   "cell_type": "code",
   "execution_count": 99,
   "id": "9079eb53",
   "metadata": {},
   "outputs": [
    {
     "data": {
      "text/plain": [
       "np.int64(1)"
      ]
     },
     "execution_count": 99,
     "metadata": {},
     "output_type": "execute_result"
    }
   ],
   "source": [
    "m1.min()"
   ]
  },
  {
   "cell_type": "code",
   "execution_count": 100,
   "id": "8743513e",
   "metadata": {},
   "outputs": [
    {
     "data": {
      "text/plain": [
       "np.int64(6)"
      ]
     },
     "execution_count": 100,
     "metadata": {},
     "output_type": "execute_result"
    }
   ],
   "source": [
    "m1.max()"
   ]
  },
  {
   "cell_type": "code",
   "execution_count": 101,
   "id": "7b8097fd",
   "metadata": {},
   "outputs": [
    {
     "data": {
      "text/plain": [
       "np.int64(21)"
      ]
     },
     "execution_count": 101,
     "metadata": {},
     "output_type": "execute_result"
    }
   ],
   "source": [
    "m1.sum()"
   ]
  },
  {
   "cell_type": "code",
   "execution_count": 102,
   "id": "58045704",
   "metadata": {},
   "outputs": [
    {
     "data": {
      "text/plain": [
       "array([[1, 2, 3],\n",
       "       [4, 5, 6],\n",
       "       [1, 2, 3],\n",
       "       [4, 5, 6],\n",
       "       [7, 8, 9]])"
      ]
     },
     "execution_count": 102,
     "metadata": {},
     "output_type": "execute_result"
    }
   ],
   "source": [
    "\n",
    "np.concatenate([m1, m2])"
   ]
  },
  {
   "cell_type": "code",
   "execution_count": 4,
   "id": "1a9a72af",
   "metadata": {},
   "outputs": [
    {
     "name": "stdout",
     "output_type": "stream",
     "text": [
      "1 \n",
      "1 2 \n",
      "1 2 3 \n",
      "1 2 3 4 \n",
      "1 2 3 4 5 \n"
     ]
    }
   ],
   "source": [
    "# piramid\n",
    "\n",
    "n = 6\n",
    "for i in range(1, n):\n",
    "  for j in range(1, i+1):\n",
    "    print(j, end=\" \")\n",
    "  print()"
   ]
  },
  {
   "cell_type": "code",
   "execution_count": 5,
   "id": "4823d00b",
   "metadata": {},
   "outputs": [
    {
     "name": "stdout",
     "output_type": "stream",
     "text": [
      "1 2 3 4 5 \n",
      "1 2 3 4 \n",
      "1 2 3 \n",
      "1 2 \n",
      "1 \n"
     ]
    }
   ],
   "source": [
    "# reverse print the above problem\n",
    "\n",
    "n = 6\n",
    "for i in range(6, 1, -1):\n",
    "  for j in range(1, i):\n",
    "    print(j, end=\" \")\n",
    "  print()"
   ]
  },
  {
   "cell_type": "code",
   "execution_count": 17,
   "id": "9a0d3daf",
   "metadata": {},
   "outputs": [
    {
     "name": "stdout",
     "output_type": "stream",
     "text": [
      "2 3 5 7 11 13 17 19 "
     ]
    }
   ],
   "source": [
    "# print if the number is prime or not\n",
    "# 2 3 5 7 (start from 2)\n",
    "\n",
    "def is_prime_num(n):\n",
    "  i = 2\n",
    "  while i <= n//2:\n",
    "    if n % i == 0:\n",
    "      return False\n",
    "    i += 1\n",
    "  else:\n",
    "    return True\n",
    "\n",
    "n = 20\n",
    "for i in range(2, n+1):\n",
    "  if is_prime_num(i):\n",
    "    print(i, end=\" \")\n",
    "\n",
    "# is_prime_num(4)\n"
   ]
  },
  {
   "cell_type": "code",
   "execution_count": 1,
   "id": "cc28c128",
   "metadata": {},
   "outputs": [
    {
     "data": {
      "text/plain": [
       "'321'"
      ]
     },
     "execution_count": 1,
     "metadata": {},
     "output_type": "execute_result"
    }
   ],
   "source": [
    "# 45. Reverse a number using a while loop.\n",
    "a = \"123\"\n",
    "res = \"\"\n",
    "i = len(a)\n",
    "while(i > 0):\n",
    "    res = res + a[i-1]\n",
    "    i= i -1\n",
    "res"
   ]
  },
  {
   "cell_type": "markdown",
   "id": "98aac543",
   "metadata": {},
   "source": [
    "# 23 May 2025"
   ]
  },
  {
   "cell_type": "code",
   "execution_count": null,
   "id": "72b044a1",
   "metadata": {},
   "outputs": [
    {
     "data": {
      "text/plain": [
       "True"
      ]
     },
     "execution_count": 4,
     "metadata": {},
     "output_type": "execute_result"
    }
   ],
   "source": [
    "a = 10\n",
    "type(a) == int # not 'int'"
   ]
  },
  {
   "cell_type": "code",
   "execution_count": 8,
   "id": "c5e250d6",
   "metadata": {},
   "outputs": [
    {
     "data": {
      "text/plain": [
       "complex"
      ]
     },
     "execution_count": 8,
     "metadata": {},
     "output_type": "execute_result"
    }
   ],
   "source": [
    "a = 1.3+4j # anything but ends with 'j'\n",
    "type(a)"
   ]
  },
  {
   "cell_type": "code",
   "execution_count": 27,
   "id": "72585889",
   "metadata": {},
   "outputs": [
    {
     "name": "stdout",
     "output_type": "stream",
     "text": [
      "N\n",
      "a\n",
      "g\n",
      "e\n",
      "s\n",
      "h\n",
      "a\n"
     ]
    },
    {
     "data": {
      "text/plain": [
       "'tim'"
      ]
     },
     "execution_count": 27,
     "metadata": {},
     "output_type": "execute_result"
    }
   ],
   "source": [
    "a = 'Nagesha'\n",
    "type(a) == str\n",
    "\n",
    "for i in a:\n",
    "  print(i)\n",
    "\n",
    "a[::-1]\n",
    "# a[-12]\n",
    "\n",
    "a[:3]\n",
    "a[:]\n",
    "a[-1:]\n",
    "a = 'Sumit'\n",
    "a[4:-5]\n",
    "\n",
    "a[-1:4:2]\n",
    "a[0::2]\n",
    "a[1:-4:-1]\n",
    "a[2:1:1]\n",
    "a[2::-1]\n",
    "a[2::1]\n",
    "a[-2: -4: -1]\n",
    "a[-1:-1:-1]\n",
    "a[1::-1]\n",
    "a[1:2:-1]\n",
    "a[1::-1]\n",
    "a = 'Sumit'\n",
    "a[:1:-1]"
   ]
  },
  {
   "cell_type": "code",
   "execution_count": 38,
   "id": "307857eb",
   "metadata": {},
   "outputs": [
    {
     "data": {
      "text/plain": [
       "float"
      ]
     },
     "execution_count": 38,
     "metadata": {},
     "output_type": "execute_result"
    }
   ],
   "source": [
    "type(4 / 2)"
   ]
  },
  {
   "cell_type": "code",
   "execution_count": 45,
   "id": "7144f9fc",
   "metadata": {},
   "outputs": [
    {
     "data": {
      "text/plain": [
       "True"
      ]
     },
     "execution_count": 45,
     "metadata": {},
     "output_type": "execute_result"
    }
   ],
   "source": [
    "4 // 2 == 2.0 # we can compare int value with float with .0"
   ]
  },
  {
   "cell_type": "code",
   "execution_count": 46,
   "id": "a98b1b93",
   "metadata": {},
   "outputs": [
    {
     "data": {
      "text/plain": [
       "'agesh'"
      ]
     },
     "execution_count": 46,
     "metadata": {},
     "output_type": "execute_result"
    }
   ],
   "source": [
    "a = input()\n",
    "a[1:]"
   ]
  },
  {
   "cell_type": "code",
   "execution_count": 51,
   "id": "bf62f28e",
   "metadata": {},
   "outputs": [
    {
     "name": "stdout",
     "output_type": "stream",
     "text": [
      "[1, 12, 3, 4, 5]\n"
     ]
    },
    {
     "data": {
      "text/plain": [
       "[1, 3, 4, 5, 12]"
      ]
     },
     "execution_count": 51,
     "metadata": {},
     "output_type": "execute_result"
    }
   ],
   "source": [
    "ml = [1, 12, 3, 4, 5]\n",
    "print(ml)\n",
    "len(ml)\n",
    "ml.sort()\n",
    "ml"
   ]
  },
  {
   "cell_type": "code",
   "execution_count": 52,
   "id": "3421d0a4",
   "metadata": {},
   "outputs": [
    {
     "data": {
      "text/plain": [
       "[12, 5, 4, 3, 1]"
      ]
     },
     "execution_count": 52,
     "metadata": {},
     "output_type": "execute_result"
    }
   ],
   "source": [
    "ml[::-1]"
   ]
  },
  {
   "cell_type": "code",
   "execution_count": 55,
   "id": "ff0f167f",
   "metadata": {},
   "outputs": [],
   "source": [
    "l2 = sorted(ml, reverse=True)"
   ]
  },
  {
   "cell_type": "code",
   "execution_count": 56,
   "id": "43deee92",
   "metadata": {},
   "outputs": [
    {
     "data": {
      "text/plain": [
       "[12, 5, 4, 3, 1]"
      ]
     },
     "execution_count": 56,
     "metadata": {},
     "output_type": "execute_result"
    }
   ],
   "source": [
    "l2"
   ]
  },
  {
   "cell_type": "code",
   "execution_count": 59,
   "id": "4a15a690",
   "metadata": {},
   "outputs": [],
   "source": [
    "l2.sort(reverse=True)"
   ]
  },
  {
   "cell_type": "code",
   "execution_count": 60,
   "id": "e68a775d",
   "metadata": {},
   "outputs": [
    {
     "data": {
      "text/plain": [
       "[12, 5, 4, 3, 1]"
      ]
     },
     "execution_count": 60,
     "metadata": {},
     "output_type": "execute_result"
    }
   ],
   "source": [
    "l2"
   ]
  },
  {
   "cell_type": "code",
   "execution_count": 64,
   "id": "087583fd",
   "metadata": {},
   "outputs": [
    {
     "data": {
      "text/plain": [
       "0"
      ]
     },
     "execution_count": 64,
     "metadata": {},
     "output_type": "execute_result"
    }
   ],
   "source": [
    "l2.index(12)"
   ]
  },
  {
   "cell_type": "code",
   "execution_count": 66,
   "id": "8089b95d",
   "metadata": {},
   "outputs": [
    {
     "ename": "ValueError",
     "evalue": "list.remove(x): x not in list",
     "output_type": "error",
     "traceback": [
      "\u001b[31m---------------------------------------------------------------------------\u001b[39m",
      "\u001b[31mValueError\u001b[39m                                Traceback (most recent call last)",
      "\u001b[36mCell\u001b[39m\u001b[36m \u001b[39m\u001b[32mIn[66]\u001b[39m\u001b[32m, line 1\u001b[39m\n\u001b[32m----> \u001b[39m\u001b[32m1\u001b[39m \u001b[43ml2\u001b[49m\u001b[43m.\u001b[49m\u001b[43mremove\u001b[49m\u001b[43m(\u001b[49m\u001b[32;43m0\u001b[39;49m\u001b[43m)\u001b[49m\n",
      "\u001b[31mValueError\u001b[39m: list.remove(x): x not in list"
     ]
    }
   ],
   "source": [
    "l2.remove(0)"
   ]
  },
  {
   "cell_type": "code",
   "execution_count": 67,
   "id": "f7884925",
   "metadata": {},
   "outputs": [
    {
     "data": {
      "text/plain": [
       "'N a g e s h'"
      ]
     },
     "execution_count": 67,
     "metadata": {},
     "output_type": "execute_result"
    }
   ],
   "source": [
    "a = \"Nagesh\"\n",
    "' '.join(a)\n"
   ]
  },
  {
   "cell_type": "code",
   "execution_count": 68,
   "id": "5458426e",
   "metadata": {},
   "outputs": [],
   "source": [
    "a = [1, 2, 3, 4, 5, 6]"
   ]
  },
  {
   "cell_type": "code",
   "execution_count": 77,
   "id": "eeaa26cf",
   "metadata": {},
   "outputs": [],
   "source": [
    "b = list(map(str, a))"
   ]
  },
  {
   "cell_type": "code",
   "execution_count": 78,
   "id": "0bdc627f",
   "metadata": {},
   "outputs": [
    {
     "data": {
      "text/plain": [
       "['1', '2', '3', '4', '5', '6']"
      ]
     },
     "execution_count": 78,
     "metadata": {},
     "output_type": "execute_result"
    }
   ],
   "source": [
    "b"
   ]
  },
  {
   "cell_type": "code",
   "execution_count": 79,
   "id": "4e13f11b",
   "metadata": {},
   "outputs": [
    {
     "data": {
      "text/plain": [
       "'1+2+3+4+5+6'"
      ]
     },
     "execution_count": 79,
     "metadata": {},
     "output_type": "execute_result"
    }
   ],
   "source": [
    "'+'.join(b)"
   ]
  },
  {
   "cell_type": "code",
   "execution_count": 80,
   "id": "c446d85a",
   "metadata": {},
   "outputs": [
    {
     "data": {
      "text/plain": [
       "[1, 2, 3, 4, 5, 6]"
      ]
     },
     "execution_count": 80,
     "metadata": {},
     "output_type": "execute_result"
    }
   ],
   "source": [
    "a"
   ]
  },
  {
   "cell_type": "code",
   "execution_count": 81,
   "id": "2cb71719",
   "metadata": {},
   "outputs": [
    {
     "data": {
      "text/plain": [
       "[0, 1, 1, 2, 2, 3]"
      ]
     },
     "execution_count": 81,
     "metadata": {},
     "output_type": "execute_result"
    }
   ],
   "source": [
    "list(map(lambda x: x // 2, a))"
   ]
  },
  {
   "cell_type": "code",
   "execution_count": 86,
   "id": "1eac9c02",
   "metadata": {},
   "outputs": [],
   "source": [
    "def print_num(x):\n",
    "  return \"Hello\" + str(x)"
   ]
  },
  {
   "cell_type": "code",
   "execution_count": 87,
   "id": "37cdaf70",
   "metadata": {},
   "outputs": [
    {
     "data": {
      "text/plain": [
       "['Hello1', 'Hello2', 'Hello3', 'Hello4', 'Hello5', 'Hello6']"
      ]
     },
     "execution_count": 87,
     "metadata": {},
     "output_type": "execute_result"
    }
   ],
   "source": [
    "c = list(map(print_num, a))\n",
    "c"
   ]
  },
  {
   "cell_type": "code",
   "execution_count": 90,
   "id": "b1259f39",
   "metadata": {},
   "outputs": [],
   "source": [
    "my_dict = {\n",
    "  'a': 10,\n",
    "  'b': 20,\n",
    "  'c': 40\n",
    "}"
   ]
  },
  {
   "cell_type": "code",
   "execution_count": 91,
   "id": "ae13759d",
   "metadata": {},
   "outputs": [
    {
     "data": {
      "text/plain": [
       "{'a': 10, 'b': 20, 'c': 40}"
      ]
     },
     "execution_count": 91,
     "metadata": {},
     "output_type": "execute_result"
    }
   ],
   "source": [
    "my_dict"
   ]
  },
  {
   "cell_type": "code",
   "execution_count": 92,
   "id": "c89e01ae",
   "metadata": {},
   "outputs": [
    {
     "name": "stdout",
     "output_type": "stream",
     "text": [
      "a\n",
      "b\n",
      "c\n"
     ]
    },
    {
     "data": {
      "text/plain": [
       "[None, None, None]"
      ]
     },
     "execution_count": 92,
     "metadata": {},
     "output_type": "execute_result"
    }
   ],
   "source": [
    "list(map(print, my_dict))"
   ]
  },
  {
   "cell_type": "code",
   "execution_count": 102,
   "id": "8b91eb1e",
   "metadata": {},
   "outputs": [
    {
     "name": "stdout",
     "output_type": "stream",
     "text": [
      "a 10\n",
      "b 20\n",
      "c 40\n"
     ]
    },
    {
     "data": {
      "text/plain": [
       "[None, None, None]"
      ]
     },
     "execution_count": 102,
     "metadata": {},
     "output_type": "execute_result"
    }
   ],
   "source": [
    "list(map(lambda x: print(x, my_dict[x]), my_dict))"
   ]
  },
  {
   "cell_type": "code",
   "execution_count": 100,
   "id": "eb9a11dc",
   "metadata": {},
   "outputs": [
    {
     "name": "stdout",
     "output_type": "stream",
     "text": [
      "a 10\n",
      "b 20\n",
      "c 40\n"
     ]
    }
   ],
   "source": [
    "for k, v in my_dict.items():\n",
    "  print(k, v)"
   ]
  },
  {
   "cell_type": "code",
   "execution_count": 105,
   "id": "73db24a3",
   "metadata": {},
   "outputs": [
    {
     "name": "stdout",
     "output_type": "stream",
     "text": [
      "a 10\n",
      "b 20\n",
      "c 40\n"
     ]
    }
   ],
   "source": [
    "for k in my_dict:\n",
    "  print(k, my_dict[k])"
   ]
  },
  {
   "cell_type": "code",
   "execution_count": 106,
   "id": "f6a794af",
   "metadata": {},
   "outputs": [],
   "source": [
    "a = list()"
   ]
  },
  {
   "cell_type": "code",
   "execution_count": 107,
   "id": "a4eff85d",
   "metadata": {},
   "outputs": [
    {
     "data": {
      "text/plain": [
       "list"
      ]
     },
     "execution_count": 107,
     "metadata": {},
     "output_type": "execute_result"
    }
   ],
   "source": [
    "type(a)"
   ]
  },
  {
   "cell_type": "code",
   "execution_count": 108,
   "id": "f3d8394f",
   "metadata": {},
   "outputs": [
    {
     "data": {
      "text/plain": [
       "True"
      ]
     },
     "execution_count": 108,
     "metadata": {},
     "output_type": "execute_result"
    }
   ],
   "source": [
    "isinstance(a, list)"
   ]
  },
  {
   "cell_type": "code",
   "execution_count": 110,
   "id": "160f7bf7",
   "metadata": {},
   "outputs": [],
   "source": [
    "a = [1, 2, 3, 4]"
   ]
  },
  {
   "cell_type": "code",
   "execution_count": 111,
   "id": "792407a0",
   "metadata": {},
   "outputs": [],
   "source": [
    "my_dict = dict()"
   ]
  },
  {
   "cell_type": "code",
   "execution_count": 112,
   "id": "fd0e6375",
   "metadata": {},
   "outputs": [],
   "source": [
    "my_dict['a'] = 10"
   ]
  },
  {
   "cell_type": "code",
   "execution_count": 113,
   "id": "5c16cc63",
   "metadata": {},
   "outputs": [
    {
     "data": {
      "text/plain": [
       "{'a': 10}"
      ]
     },
     "execution_count": 113,
     "metadata": {},
     "output_type": "execute_result"
    }
   ],
   "source": [
    "my_dict"
   ]
  },
  {
   "cell_type": "code",
   "execution_count": 114,
   "id": "ac4b8044",
   "metadata": {},
   "outputs": [
    {
     "data": {
      "text/plain": [
       "dict"
      ]
     },
     "execution_count": 114,
     "metadata": {},
     "output_type": "execute_result"
    }
   ],
   "source": [
    "type(my_dict)"
   ]
  },
  {
   "cell_type": "code",
   "execution_count": 117,
   "id": "8594884d",
   "metadata": {},
   "outputs": [
    {
     "data": {
      "text/plain": [
       "2"
      ]
     },
     "execution_count": 117,
     "metadata": {},
     "output_type": "execute_result"
    }
   ],
   "source": [
    "len(my_dict)"
   ]
  },
  {
   "cell_type": "code",
   "execution_count": 116,
   "id": "de29d77b",
   "metadata": {},
   "outputs": [],
   "source": [
    "my_dict['a1'] = 10"
   ]
  },
  {
   "cell_type": "code",
   "execution_count": 118,
   "id": "a0667b88",
   "metadata": {},
   "outputs": [
    {
     "data": {
      "text/plain": [
       "dict_keys(['a', 'a1'])"
      ]
     },
     "execution_count": 118,
     "metadata": {},
     "output_type": "execute_result"
    }
   ],
   "source": [
    "my_dict.keys()"
   ]
  },
  {
   "cell_type": "code",
   "execution_count": 119,
   "id": "7986500f",
   "metadata": {},
   "outputs": [
    {
     "data": {
      "text/plain": [
       "dict"
      ]
     },
     "execution_count": 119,
     "metadata": {},
     "output_type": "execute_result"
    }
   ],
   "source": [
    "my_dict = {}\n",
    "type(my_dict)"
   ]
  },
  {
   "cell_type": "code",
   "execution_count": 120,
   "id": "6c3225fb",
   "metadata": {},
   "outputs": [
    {
     "data": {
      "text/plain": [
       "{1, 2, 3, 4}"
      ]
     },
     "execution_count": 120,
     "metadata": {},
     "output_type": "execute_result"
    }
   ],
   "source": [
    "my_set = {1, 2, 3, 4}\n",
    "my_set"
   ]
  },
  {
   "cell_type": "code",
   "execution_count": 122,
   "id": "fbdfae10",
   "metadata": {},
   "outputs": [
    {
     "ename": "TypeError",
     "evalue": "'set' object is not subscriptable",
     "output_type": "error",
     "traceback": [
      "\u001b[31m---------------------------------------------------------------------------\u001b[39m",
      "\u001b[31mTypeError\u001b[39m                                 Traceback (most recent call last)",
      "\u001b[36mCell\u001b[39m\u001b[36m \u001b[39m\u001b[32mIn[122]\u001b[39m\u001b[32m, line 1\u001b[39m\n\u001b[32m----> \u001b[39m\u001b[32m1\u001b[39m \u001b[43mmy_set\u001b[49m\u001b[43m[\u001b[49m\u001b[32;43m4\u001b[39;49m\u001b[43m]\u001b[49m \u001b[38;5;66;03m# TypeError: 'set' object is not subscriptable\u001b[39;00m\n",
      "\u001b[31mTypeError\u001b[39m: 'set' object is not subscriptable"
     ]
    }
   ],
   "source": [
    "my_set[4] # TypeError: 'set' object is not subscriptable"
   ]
  },
  {
   "cell_type": "code",
   "execution_count": 123,
   "id": "4449a395",
   "metadata": {},
   "outputs": [],
   "source": [
    "a = [10, 23, 33, 45]\n",
    "b = a"
   ]
  },
  {
   "cell_type": "code",
   "execution_count": 124,
   "id": "3a7c9b98",
   "metadata": {},
   "outputs": [
    {
     "data": {
      "text/plain": [
       "[10, 23, 33, 45]"
      ]
     },
     "execution_count": 124,
     "metadata": {},
     "output_type": "execute_result"
    }
   ],
   "source": [
    "a"
   ]
  },
  {
   "cell_type": "code",
   "execution_count": 125,
   "id": "ab510bd1",
   "metadata": {},
   "outputs": [
    {
     "data": {
      "text/plain": [
       "[10, 23, 33, 45]"
      ]
     },
     "execution_count": 125,
     "metadata": {},
     "output_type": "execute_result"
    }
   ],
   "source": [
    "b"
   ]
  },
  {
   "cell_type": "code",
   "execution_count": 127,
   "id": "9ec665a9",
   "metadata": {},
   "outputs": [
    {
     "data": {
      "text/plain": [
       "[10, 23, 33, 45, 10, 23, 33, 45]"
      ]
     },
     "execution_count": 127,
     "metadata": {},
     "output_type": "execute_result"
    }
   ],
   "source": [
    "a + b # concate 2 list"
   ]
  },
  {
   "cell_type": "code",
   "execution_count": 128,
   "id": "8338fe9e",
   "metadata": {},
   "outputs": [
    {
     "data": {
      "text/plain": [
       "[10, 23, 33, 45, 10, 23, 33, 45, 10, 23, 33, 45]"
      ]
     },
     "execution_count": 128,
     "metadata": {},
     "output_type": "execute_result"
    }
   ],
   "source": [
    "a * 3"
   ]
  },
  {
   "cell_type": "code",
   "execution_count": 133,
   "id": "3660906e",
   "metadata": {},
   "outputs": [
    {
     "data": {
      "text/plain": [
       "'NNageshaNageshgNagesheNageshsNageshh'"
      ]
     },
     "execution_count": 133,
     "metadata": {},
     "output_type": "execute_result"
    }
   ],
   "source": [
    "\"Nagesh\".join(\"Nagesh\")"
   ]
  },
  {
   "cell_type": "code",
   "execution_count": 139,
   "id": "9df4d964",
   "metadata": {},
   "outputs": [
    {
     "data": {
      "text/plain": [
       "-10"
      ]
     },
     "execution_count": 139,
     "metadata": {},
     "output_type": "execute_result"
    }
   ],
   "source": [
    "min([101, -10, 10])"
   ]
  },
  {
   "cell_type": "code",
   "execution_count": null,
   "id": "b1c13fcb",
   "metadata": {},
   "outputs": [
    {
     "data": {
      "text/plain": [
       "0"
      ]
     },
     "execution_count": 145,
     "metadata": {},
     "output_type": "execute_result"
    }
   ],
   "source": [
    "1344 // 10 # get the last digit"
   ]
  },
  {
   "cell_type": "code",
   "execution_count": 157,
   "id": "bc4b380b",
   "metadata": {},
   "outputs": [
    {
     "name": "stdout",
     "output_type": "stream",
     "text": [
      "4\n"
     ]
    }
   ],
   "source": [
    "def sum_of_digits(n, tot_sum=0):\n",
    "  if n == 0:\n",
    "    return tot_sum\n",
    "  last_num = n % 10\n",
    "  tot_sum += last_num\n",
    "  n = n // 10\n",
    "  return sum_of_digits(n, tot_sum)\n",
    "\n",
    "print(sum_of_digits(1111))\n"
   ]
  },
  {
   "cell_type": "code",
   "execution_count": null,
   "id": "e43de9b0",
   "metadata": {},
   "outputs": [
    {
     "data": {
      "text/plain": [
       "120"
      ]
     },
     "execution_count": 159,
     "metadata": {},
     "output_type": "execute_result"
    }
   ],
   "source": [
    "#(n+1)!/n+1\n",
    "def fact_n(n):\n",
    "  if n == 0 or n == 1:\n",
    "    return 1\n",
    "  return n * fact_n(n - 1)\n",
    "\n",
    "fact_n(5)"
   ]
  },
  {
   "cell_type": "code",
   "execution_count": 160,
   "id": "8daf68d5",
   "metadata": {},
   "outputs": [
    {
     "data": {
      "text/plain": [
       "6"
      ]
     },
     "execution_count": 160,
     "metadata": {},
     "output_type": "execute_result"
    }
   ],
   "source": [
    "int(25**0.5) + 1"
   ]
  },
  {
   "cell_type": "code",
   "execution_count": 161,
   "id": "e11dafd8",
   "metadata": {},
   "outputs": [
    {
     "data": {
      "text/plain": [
       "12"
      ]
     },
     "execution_count": 161,
     "metadata": {},
     "output_type": "execute_result"
    }
   ],
   "source": [
    "25//2"
   ]
  },
  {
   "cell_type": "code",
   "execution_count": 162,
   "id": "c50c3aed",
   "metadata": {},
   "outputs": [
    {
     "data": {
      "text/plain": [
       "5.0"
      ]
     },
     "execution_count": 162,
     "metadata": {},
     "output_type": "execute_result"
    }
   ],
   "source": [
    "25**0.5"
   ]
  },
  {
   "cell_type": "code",
   "execution_count": 166,
   "id": "969d1266",
   "metadata": {},
   "outputs": [
    {
     "data": {
      "text/plain": [
       "True"
      ]
     },
     "execution_count": 166,
     "metadata": {},
     "output_type": "execute_result"
    }
   ],
   "source": [
    "is_palindrom = lambda x: True if x == x[::-1] else False\n",
    "is_palindrom('NaN')"
   ]
  },
  {
   "cell_type": "code",
   "execution_count": 167,
   "id": "e2c64eae",
   "metadata": {},
   "outputs": [
    {
     "data": {
      "text/plain": [
       "'Hello Sss'"
      ]
     },
     "execution_count": 167,
     "metadata": {},
     "output_type": "execute_result"
    }
   ],
   "source": [
    "\"Hello sss\".title()"
   ]
  },
  {
   "cell_type": "code",
   "execution_count": null,
   "id": "dc96026c",
   "metadata": {},
   "outputs": [],
   "source": []
  }
 ],
 "metadata": {
  "kernelspec": {
   "display_name": "Python 3",
   "language": "python",
   "name": "python3"
  },
  "language_info": {
   "codemirror_mode": {
    "name": "ipython",
    "version": 3
   },
   "file_extension": ".py",
   "mimetype": "text/x-python",
   "name": "python",
   "nbconvert_exporter": "python",
   "pygments_lexer": "ipython3",
   "version": "3.11.11"
  }
 },
 "nbformat": 4,
 "nbformat_minor": 5
}

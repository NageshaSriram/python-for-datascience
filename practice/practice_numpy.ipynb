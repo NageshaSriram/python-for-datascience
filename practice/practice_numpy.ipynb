{
 "cells": [
  {
   "cell_type": "markdown",
   "id": "b56788b3",
   "metadata": {},
   "source": [
    "# Practice Numpy"
   ]
  },
  {
   "cell_type": "code",
   "execution_count": 3,
   "id": "8442f026",
   "metadata": {},
   "outputs": [
    {
     "name": "stdout",
     "output_type": "stream",
     "text": [
      "Requirement already satisfied: numpy in /Volumes/Technology/pesu/sem_one/python/git/python-for-datascience/.conda/lib/python3.11/site-packages (2.2.5)\n"
     ]
    }
   ],
   "source": [
    "# install numpy array\n",
    "!pip install numpy"
   ]
  },
  {
   "cell_type": "code",
   "execution_count": 4,
   "id": "dad476bf",
   "metadata": {},
   "outputs": [],
   "source": [
    "# import numpy array\n",
    "\n",
    "import numpy as np"
   ]
  },
  {
   "cell_type": "code",
   "execution_count": 5,
   "id": "deb956c6",
   "metadata": {},
   "outputs": [
    {
     "name": "stdout",
     "output_type": "stream",
     "text": [
      "Array: [1, 2, 3, 4, 5]\n",
      "Output:  <class 'list'>\n"
     ]
    },
    {
     "data": {
      "text/plain": [
       "list"
      ]
     },
     "execution_count": 5,
     "metadata": {},
     "output_type": "execute_result"
    }
   ],
   "source": [
    "# Create list and check it's type\n",
    "list1 = [1, 2, 3, 4, 5]\n",
    "print('Array:', list1)\n",
    "print(\"Output: \", type(list1))\n",
    "type(list1)"
   ]
  },
  {
   "cell_type": "code",
   "execution_count": 6,
   "id": "a9c1255d",
   "metadata": {},
   "outputs": [
    {
     "name": "stdout",
     "output_type": "stream",
     "text": [
      "Output:\n",
      "Array: [1 2 3 4 5]\n",
      "Type: <class 'numpy.ndarray'>\n"
     ]
    },
    {
     "data": {
      "text/plain": [
       "numpy.ndarray"
      ]
     },
     "execution_count": 6,
     "metadata": {},
     "output_type": "execute_result"
    }
   ],
   "source": [
    "# Use `array()` function to create numpy array from a list\n",
    "\n",
    "arr1 = np.array(list1)\n",
    "\n",
    "print('Output:')\n",
    "print('Array:', arr1)\n",
    "print('Type:', type(arr1))\n",
    "type(arr1)\n",
    "str(type(arr1)) == 'numpy.ndarray'\n",
    "type(arr1)"
   ]
  },
  {
   "cell_type": "code",
   "execution_count": 7,
   "id": "c861b710",
   "metadata": {},
   "outputs": [
    {
     "name": "stdout",
     "output_type": "stream",
     "text": [
      "arr1 is instance of numpy.ndarray\n"
     ]
    }
   ],
   "source": [
    "# Check instance (checking type)\n",
    "if isinstance(arr1, np.ndarray):\n",
    "  print(\"arr1 is instance of numpy.ndarray\")\n",
    "else:\n",
    "  print(\"It is not instance of ndarray\")"
   ]
  },
  {
   "cell_type": "code",
   "execution_count": 8,
   "id": "e82939ab",
   "metadata": {},
   "outputs": [
    {
     "name": "stdout",
     "output_type": "stream",
     "text": [
      "True\n",
      "True\n",
      "True\n",
      "True\n",
      "True\n",
      "True\n",
      "True\n",
      "True\n"
     ]
    }
   ],
   "source": [
    "# Checking other instance types\n",
    "a = 10\n",
    "print(isinstance(a, int))\n",
    "\n",
    "print(isinstance('My Name', str))\n",
    "\n",
    "print(isinstance(False, bool))\n",
    "\n",
    "print(isinstance({}, dict)) # empty flower brackets treats as dict\n",
    "\n",
    "# if you want to create empty set use `set()`\n",
    "\n",
    "print(isinstance((1, 2, 3), tuple))\n",
    "\n",
    "print(isinstance({\n",
    "  'A': 'a'\n",
    "}, dict))\n",
    "print(isinstance('Hello', object))\n",
    "print(isinstance(10, object))\n",
    "\n"
   ]
  },
  {
   "cell_type": "code",
   "execution_count": 9,
   "id": "14c53322",
   "metadata": {},
   "outputs": [
    {
     "data": {
      "text/plain": [
       "set"
      ]
     },
     "execution_count": 9,
     "metadata": {},
     "output_type": "execute_result"
    }
   ],
   "source": [
    "type({1, 2, 3, 4})"
   ]
  },
  {
   "cell_type": "code",
   "execution_count": 10,
   "id": "fbd9ab87",
   "metadata": {},
   "outputs": [
    {
     "data": {
      "text/plain": [
       "True"
      ]
     },
     "execution_count": 10,
     "metadata": {},
     "output_type": "execute_result"
    }
   ],
   "source": [
    "type({\n",
    "  'A': 'a'\n",
    "}) == dict"
   ]
  },
  {
   "cell_type": "code",
   "execution_count": 11,
   "id": "d5983c72",
   "metadata": {},
   "outputs": [
    {
     "data": {
      "text/plain": [
       "True"
      ]
     },
     "execution_count": 11,
     "metadata": {},
     "output_type": "execute_result"
    }
   ],
   "source": [
    "isinstance(set(), object)"
   ]
  },
  {
   "cell_type": "code",
   "execution_count": 12,
   "id": "3487f905",
   "metadata": {},
   "outputs": [],
   "source": [
    "# creating empty set\n",
    "empty_set = set()"
   ]
  },
  {
   "cell_type": "code",
   "execution_count": 13,
   "id": "8576d03f",
   "metadata": {},
   "outputs": [
    {
     "name": "stdout",
     "output_type": "stream",
     "text": [
      "True\n",
      "True\n",
      "True\n",
      "True\n",
      "True\n",
      "True\n",
      "True\n",
      "True\n"
     ]
    }
   ],
   "source": [
    "# in Python everything is an object\n",
    "print(isinstance(10, object)) # int\n",
    "print(isinstance('Str', object)) # str\n",
    "print(isinstance(set(), object)) # set\n",
    "print(isinstance({}, object)) # dict\n",
    "print(isinstance(12.34, object)) # float\n",
    "print(isinstance(True, object)) # bool\n",
    "print(isinstance([], list)) # list\n",
    "print(isinstance((), object)) # tuple"
   ]
  },
  {
   "cell_type": "code",
   "execution_count": 14,
   "id": "a2d4c7c2",
   "metadata": {},
   "outputs": [
    {
     "name": "stdout",
     "output_type": "stream",
     "text": [
      "True\n",
      "True\n",
      "True\n",
      "True\n",
      "True\n",
      "True\n",
      "True\n",
      "True\n"
     ]
    }
   ],
   "source": [
    "# checking individual types using type() function\n",
    "print(type('str') == str)\n",
    "print(type(10) == int)\n",
    "print(type([]) == list)\n",
    "print(type({}) == dict)\n",
    "print(type(set()) == set)\n",
    "print(type(()) == tuple)\n",
    "print(type(False) == bool)\n",
    "print(type(12.34) == float)"
   ]
  },
  {
   "cell_type": "code",
   "execution_count": 15,
   "id": "05aef4e5",
   "metadata": {},
   "outputs": [
    {
     "name": "stdout",
     "output_type": "stream",
     "text": [
      "True\n"
     ]
    }
   ],
   "source": [
    "# checking type using isinstance\n",
    "\n",
    "print(isinstance('my', str))"
   ]
  },
  {
   "cell_type": "code",
   "execution_count": 16,
   "id": "006dba5e",
   "metadata": {},
   "outputs": [
    {
     "name": "stdout",
     "output_type": "stream",
     "text": [
      "Output [1 2 3 4 5]\n",
      "Type <class 'numpy.ndarray'>\n",
      "Check type True\n",
      "Check type using isinstance True\n"
     ]
    }
   ],
   "source": [
    "# Check type of ndarray\n",
    "\n",
    "arr1 = np.array(list1)\n",
    "\n",
    "print('Output', arr1)\n",
    "print('Type', type(arr1))\n",
    "print('Check type', type(arr1) == np.ndarray)\n",
    "print('Check type using isinstance', isinstance(arr1, np.ndarray))"
   ]
  },
  {
   "cell_type": "code",
   "execution_count": 17,
   "id": "ff6367ca",
   "metadata": {},
   "outputs": [
    {
     "name": "stdout",
     "output_type": "stream",
     "text": [
      "[0. 0. 0. 0. 0.]\n"
     ]
    }
   ],
   "source": [
    "# Creating array of zeros, shape param is manadaroty\n",
    "zeros_arr = np.zeros(shape=5)\n",
    "print(zeros_arr)"
   ]
  },
  {
   "cell_type": "code",
   "execution_count": 18,
   "id": "88c44f80",
   "metadata": {},
   "outputs": [
    {
     "name": "stdout",
     "output_type": "stream",
     "text": [
      "[1. 1. 1. 1. 1.]\n"
     ]
    }
   ],
   "source": [
    "# Creating array of once using ones function\n",
    "ones_arr = np.ones(shape=5) # shape is mandatory\n",
    "print(ones_arr)"
   ]
  },
  {
   "cell_type": "code",
   "execution_count": 19,
   "id": "185a4c6e",
   "metadata": {},
   "outputs": [
    {
     "name": "stdout",
     "output_type": "stream",
     "text": [
      "0.7101052463983328\n"
     ]
    }
   ],
   "source": [
    "# Creating Numpy array of random numbers\n",
    "rand_arr1 = np.random.random()\n",
    "print(rand_arr1) # Prints only one number"
   ]
  },
  {
   "cell_type": "code",
   "execution_count": 35,
   "id": "7d4f2460",
   "metadata": {},
   "outputs": [
    {
     "name": "stdout",
     "output_type": "stream",
     "text": [
      "[0.06075113 0.86918296 0.26289736 0.30997343 0.40097717 0.98327898\n",
      " 0.45209895 0.9327436  0.25736277 0.18855136 0.1440566  0.60023195\n",
      " 0.91489725 0.2175271  0.08777518 0.53574123 0.36699787 0.06799507\n",
      " 0.62680079 0.23901808 0.84458617 0.43420391 0.6585792  0.69627885\n",
      " 0.86381148 0.99450832 0.47453483 0.58703589 0.1988254  0.36141752]\n"
     ]
    }
   ],
   "source": [
    "rand_arr1 = np.random.random(size=30) # Print 10 random numbers distributed evening between 0.0 to 1.0\n",
    "print(rand_arr1)"
   ]
  },
  {
   "cell_type": "code",
   "execution_count": 21,
   "id": "b252b009",
   "metadata": {},
   "outputs": [
    {
     "name": "stdout",
     "output_type": "stream",
     "text": [
      "0.9493300023192748\n"
     ]
    }
   ],
   "source": [
    "# using rand() function\n",
    "rand_arr1 = np.random.rand()\n",
    "print(rand_arr1)"
   ]
  },
  {
   "cell_type": "code",
   "execution_count": 30,
   "id": "f8c234ab",
   "metadata": {},
   "outputs": [
    {
     "name": "stdout",
     "output_type": "stream",
     "text": [
      "[[0.19492369 0.4882422  0.84767863]\n",
      " [0.7606789  0.63786632 0.65850044]]\n"
     ]
    }
   ],
   "source": [
    "# Generate multiple randome numbers\n",
    "rand_arr1 = np.random.rand(2, 3) # 2 rows and 3 columns\n",
    "print(rand_arr1)"
   ]
  },
  {
   "cell_type": "code",
   "execution_count": 37,
   "id": "88108c79",
   "metadata": {},
   "outputs": [
    {
     "data": {
      "text/plain": [
       "array([-0.16501799,  0.39433416, -0.47279355, -0.81113643, -0.55942293,\n",
       "        0.65369038,  0.11868368,  1.66098447, -0.31787008, -2.17747183])"
      ]
     },
     "execution_count": 37,
     "metadata": {},
     "output_type": "execute_result"
    }
   ],
   "source": [
    "# Standard normal distribution\n",
    "arr_1 = np.random.randn(10)\n",
    "arr_1"
   ]
  },
  {
   "cell_type": "code",
   "execution_count": 52,
   "id": "fcbd5668",
   "metadata": {},
   "outputs": [
    {
     "data": {
      "text/plain": [
       "array([5, 6])"
      ]
     },
     "execution_count": 52,
     "metadata": {},
     "output_type": "execute_result"
    }
   ],
   "source": [
    "# randint returns random integerers from low (inclusive) to high(exclusive)\n",
    "np.random.randint(5, 7, 2) # (start, end, size)"
   ]
  },
  {
   "cell_type": "code",
   "execution_count": 66,
   "id": "f7dcfe23",
   "metadata": {},
   "outputs": [
    {
     "name": "stdout",
     "output_type": "stream",
     "text": [
      "[0 0 0 0 0 0 0 0 0 0]\n",
      "[1. 3. 5. 7. 9.]\n"
     ]
    }
   ],
   "source": [
    "# Prints all 0 \n",
    "print(np.arange(0, 1, 0.1, int))\n",
    "\n",
    "# prints 1 to 9\n",
    "print(np.arange(1, 10, 2, float)) # start, stop(exclusive), step, dtype"
   ]
  },
  {
   "cell_type": "markdown",
   "id": "314ea8a9",
   "metadata": {},
   "source": [
    "### Attributes of Array\n",
    "\n",
    "- size\n",
    "- itemsize\n",
    "- shape\n",
    "- ndim\n",
    "- dtype"
   ]
  },
  {
   "cell_type": "code",
   "execution_count": 90,
   "id": "50469b0e",
   "metadata": {},
   "outputs": [
    {
     "name": "stdout",
     "output_type": "stream",
     "text": [
      "[[4 3 2]\n",
      " [7 5 6]]\n",
      "6\n",
      "8\n",
      "(2, 3)\n",
      "2\n",
      "int64\n"
     ]
    }
   ],
   "source": [
    "# array1 = np.array([1, 2, 3, 4, 5])\n",
    "# array1 = np.random.rand(2, 2, 2)\n",
    "# array1 = np.random.randint(1, 20, 20)\n",
    "# array1 = np.array([(4, 3, 2), (7, 5, 6)])\n",
    "array1 = np.array([[4, 3, 2], [7, 5, 6]])\n",
    "print(array1)\n",
    "print(array1.size)\n",
    "print(array1.itemsize)\n",
    "print(array1.shape)\n",
    "print(array1.ndim)\n",
    "print(array1.dtype)"
   ]
  },
  {
   "cell_type": "code",
   "execution_count": null,
   "id": "4fc3c2b9",
   "metadata": {},
   "outputs": [],
   "source": []
  }
 ],
 "metadata": {
  "kernelspec": {
   "display_name": "Python 3",
   "language": "python",
   "name": "python3"
  },
  "language_info": {
   "codemirror_mode": {
    "name": "ipython",
    "version": 3
   },
   "file_extension": ".py",
   "mimetype": "text/x-python",
   "name": "python",
   "nbconvert_exporter": "python",
   "pygments_lexer": "ipython3",
   "version": "3.11.11"
  }
 },
 "nbformat": 4,
 "nbformat_minor": 5
}

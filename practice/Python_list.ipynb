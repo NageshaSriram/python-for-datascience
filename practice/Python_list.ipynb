{
 "cells": [
  {
   "cell_type": "markdown",
   "id": "354cc431",
   "metadata": {},
   "source": [
    "## List common methods\n",
    "\n",
    "\n",
    "| Method    | Description                     |\n",
    "| --------- | ------------------------------- |\n",
    "| append()  | Add one item at the end         |\n",
    "| extend()  | Add multiple items              |\n",
    "| insert()  | Insert at a specific index      |\n",
    "| remove()  | Remove a value                  |\n",
    "| pop()     | Remove by index (default: last) |\n",
    "| index()   | Find index of a value           |\n",
    "| count()   | Count occurrences of a value    |\n",
    "| sort()    | Sort the list                   |\n",
    "| reverse() | Reverse the list                |\n",
    "| copy()    | Create a shallow copy           |\n",
    "| clear()   | Remove all elements             |\n"
   ]
  },
  {
   "cell_type": "code",
   "execution_count": 8,
   "id": "66b690d4",
   "metadata": {},
   "outputs": [
    {
     "data": {
      "text/plain": [
       "'apple'"
      ]
     },
     "execution_count": 8,
     "metadata": {},
     "output_type": "execute_result"
    }
   ],
   "source": [
    "fruits = [\"apple\", \"banana\", \"mango\", \"cherry\"]\n",
    "max(fruits) # based on sorting\n",
    "min(fruits) # based on sorting"
   ]
  },
  {
   "cell_type": "code",
   "execution_count": 2,
   "id": "9004b69b",
   "metadata": {},
   "outputs": [
    {
     "data": {
      "text/plain": [
       "3"
      ]
     },
     "execution_count": 2,
     "metadata": {},
     "output_type": "execute_result"
    }
   ],
   "source": [
    "len(fruits)"
   ]
  },
  {
   "cell_type": "code",
   "execution_count": 4,
   "id": "754a7c8b",
   "metadata": {},
   "outputs": [
    {
     "data": {
      "text/plain": [
       "2"
      ]
     },
     "execution_count": 4,
     "metadata": {},
     "output_type": "execute_result"
    }
   ],
   "source": [
    "numbers = [10, 2, 14]\n",
    "max(numbers)\n",
    "min(numbers)"
   ]
  },
  {
   "cell_type": "code",
   "execution_count": 9,
   "id": "58126d06",
   "metadata": {},
   "outputs": [
    {
     "data": {
      "text/plain": [
       "26"
      ]
     },
     "execution_count": 9,
     "metadata": {},
     "output_type": "execute_result"
    }
   ],
   "source": [
    "sum(numbers)"
   ]
  },
  {
   "cell_type": "code",
   "execution_count": 10,
   "id": "554b27ad",
   "metadata": {},
   "outputs": [
    {
     "data": {
      "text/plain": [
       "[2, 10, 14]"
      ]
     },
     "execution_count": 10,
     "metadata": {},
     "output_type": "execute_result"
    }
   ],
   "source": [
    "sorted(numbers)"
   ]
  },
  {
   "cell_type": "code",
   "execution_count": 11,
   "id": "d8fe122c",
   "metadata": {},
   "outputs": [
    {
     "data": {
      "text/plain": [
       "['H', 'e', 'l', 'l', 'o']"
      ]
     },
     "execution_count": 11,
     "metadata": {},
     "output_type": "execute_result"
    }
   ],
   "source": [
    "list(\"Hello\")"
   ]
  },
  {
   "cell_type": "code",
   "execution_count": 12,
   "id": "80b00ba9",
   "metadata": {},
   "outputs": [
    {
     "data": {
      "text/plain": [
       "[10, 2, 14]"
      ]
     },
     "execution_count": 12,
     "metadata": {},
     "output_type": "execute_result"
    }
   ],
   "source": [
    "numbers"
   ]
  },
  {
   "cell_type": "code",
   "execution_count": 13,
   "id": "48b8b72e",
   "metadata": {},
   "outputs": [],
   "source": [
    "numbers.append(13)"
   ]
  },
  {
   "cell_type": "markdown",
   "id": "6ec1126f",
   "metadata": {},
   "source": [
    "# Inserting an element"
   ]
  },
  {
   "cell_type": "code",
   "execution_count": 15,
   "id": "5fc212bf",
   "metadata": {},
   "outputs": [
    {
     "name": "stdout",
     "output_type": "stream",
     "text": [
      "[10, 2, 30, 14, 13]\n",
      "[10, 2, 30, 30, 14, 13]\n"
     ]
    }
   ],
   "source": [
    "print(numbers)\n",
    "numbers.insert(2, 30) #inserts at specific position\n",
    "print(numbers)"
   ]
  },
  {
   "cell_type": "code",
   "execution_count": 16,
   "id": "a0d8a804",
   "metadata": {},
   "outputs": [
    {
     "data": {
      "text/plain": [
       "['apple', 'banana', 'mango', 'cherry']"
      ]
     },
     "execution_count": 16,
     "metadata": {},
     "output_type": "execute_result"
    }
   ],
   "source": [
    "fruits"
   ]
  },
  {
   "cell_type": "code",
   "execution_count": 17,
   "id": "19e63537",
   "metadata": {},
   "outputs": [
    {
     "data": {
      "text/plain": [
       "1"
      ]
     },
     "execution_count": 17,
     "metadata": {},
     "output_type": "execute_result"
    }
   ],
   "source": [
    "fruits.index('banana')"
   ]
  },
  {
   "cell_type": "code",
   "execution_count": 18,
   "id": "376de281",
   "metadata": {},
   "outputs": [],
   "source": [
    "fruits.extend([\"Cherry\", \"Orange\"])"
   ]
  },
  {
   "cell_type": "code",
   "execution_count": 19,
   "id": "c758342f",
   "metadata": {},
   "outputs": [
    {
     "data": {
      "text/plain": [
       "['apple', 'banana', 'mango', 'cherry', 'Cherry', 'Orange']"
      ]
     },
     "execution_count": 19,
     "metadata": {},
     "output_type": "execute_result"
    }
   ],
   "source": [
    "fruits"
   ]
  },
  {
   "cell_type": "code",
   "execution_count": 22,
   "id": "0bea7824",
   "metadata": {},
   "outputs": [],
   "source": [
    "fruits.extend(\"Coco\") # appends every char as an new element"
   ]
  },
  {
   "cell_type": "code",
   "execution_count": 23,
   "id": "d3793b9b",
   "metadata": {},
   "outputs": [
    {
     "data": {
      "text/plain": [
       "['apple',\n",
       " 'banana',\n",
       " 'mango',\n",
       " 'cherry',\n",
       " 'Cherry',\n",
       " 'Orange',\n",
       " 'C',\n",
       " 'o',\n",
       " 'c',\n",
       " 'o',\n",
       " 'C',\n",
       " 'o',\n",
       " 'c',\n",
       " 'o']"
      ]
     },
     "execution_count": 23,
     "metadata": {},
     "output_type": "execute_result"
    }
   ],
   "source": [
    "fruits"
   ]
  },
  {
   "cell_type": "code",
   "execution_count": 25,
   "id": "cf88006d",
   "metadata": {},
   "outputs": [],
   "source": [
    "# remove element\n",
    "fruits.remove('C')"
   ]
  },
  {
   "cell_type": "code",
   "execution_count": 26,
   "id": "e11a9933",
   "metadata": {},
   "outputs": [
    {
     "data": {
      "text/plain": [
       "['apple',\n",
       " 'banana',\n",
       " 'mango',\n",
       " 'cherry',\n",
       " 'Cherry',\n",
       " 'Orange',\n",
       " 'o',\n",
       " 'c',\n",
       " 'o',\n",
       " 'C',\n",
       " 'o',\n",
       " 'c',\n",
       " 'o']"
      ]
     },
     "execution_count": 26,
     "metadata": {},
     "output_type": "execute_result"
    }
   ],
   "source": [
    "fruits"
   ]
  },
  {
   "cell_type": "code",
   "execution_count": 29,
   "id": "d841abcf",
   "metadata": {},
   "outputs": [
    {
     "data": {
      "text/plain": [
       "'c'"
      ]
     },
     "execution_count": 29,
     "metadata": {},
     "output_type": "execute_result"
    }
   ],
   "source": [
    "fruits.pop() # removes last element"
   ]
  },
  {
   "cell_type": "code",
   "execution_count": 30,
   "id": "f340af22",
   "metadata": {},
   "outputs": [
    {
     "data": {
      "text/plain": [
       "['apple',\n",
       " 'banana',\n",
       " 'mango',\n",
       " 'cherry',\n",
       " 'Cherry',\n",
       " 'Orange',\n",
       " 'o',\n",
       " 'c',\n",
       " 'o',\n",
       " 'C',\n",
       " 'o']"
      ]
     },
     "execution_count": 30,
     "metadata": {},
     "output_type": "execute_result"
    }
   ],
   "source": [
    "fruits"
   ]
  },
  {
   "cell_type": "code",
   "execution_count": 31,
   "id": "6345a157",
   "metadata": {},
   "outputs": [
    {
     "data": {
      "text/plain": [
       "'C'"
      ]
     },
     "execution_count": 31,
     "metadata": {},
     "output_type": "execute_result"
    }
   ],
   "source": [
    "fruits.pop(len(fruits)-2)"
   ]
  },
  {
   "cell_type": "code",
   "execution_count": 35,
   "id": "c8c8557f",
   "metadata": {},
   "outputs": [
    {
     "data": {
      "text/plain": [
       "1"
      ]
     },
     "execution_count": 35,
     "metadata": {},
     "output_type": "execute_result"
    }
   ],
   "source": [
    "fruits.index('banana')"
   ]
  },
  {
   "cell_type": "code",
   "execution_count": 37,
   "id": "11c71269",
   "metadata": {},
   "outputs": [
    {
     "data": {
      "text/plain": [
       "1"
      ]
     },
     "execution_count": 37,
     "metadata": {},
     "output_type": "execute_result"
    }
   ],
   "source": [
    "fruits.count('banana')"
   ]
  },
  {
   "cell_type": "code",
   "execution_count": 38,
   "id": "22b0469a",
   "metadata": {},
   "outputs": [
    {
     "data": {
      "text/plain": [
       "['apple', 'banana', 'mango', 'cherry', 'Cherry', 'Orange', 'o', 'c', 'o', 'o']"
      ]
     },
     "execution_count": 38,
     "metadata": {},
     "output_type": "execute_result"
    }
   ],
   "source": [
    "fruits"
   ]
  },
  {
   "cell_type": "code",
   "execution_count": 43,
   "id": "b0b96f92",
   "metadata": {},
   "outputs": [],
   "source": [
    "fruits.reverse() # reverse the list in-place"
   ]
  },
  {
   "cell_type": "code",
   "execution_count": 44,
   "id": "c6fdf673",
   "metadata": {},
   "outputs": [
    {
     "data": {
      "text/plain": [
       "['o', 'o', 'o', 'mango', 'cherry', 'c', 'banana', 'apple', 'Orange', 'Cherry']"
      ]
     },
     "execution_count": 44,
     "metadata": {},
     "output_type": "execute_result"
    }
   ],
   "source": [
    "fruits"
   ]
  },
  {
   "cell_type": "code",
   "execution_count": 45,
   "id": "7963abe2",
   "metadata": {},
   "outputs": [],
   "source": [
    "fruits.sort() # sort the list in-place"
   ]
  },
  {
   "cell_type": "code",
   "execution_count": 46,
   "id": "65b54516",
   "metadata": {},
   "outputs": [
    {
     "data": {
      "text/plain": [
       "['Cherry', 'Orange', 'apple', 'banana', 'c', 'cherry', 'mango', 'o', 'o', 'o']"
      ]
     },
     "execution_count": 46,
     "metadata": {},
     "output_type": "execute_result"
    }
   ],
   "source": [
    "fruits"
   ]
  },
  {
   "cell_type": "code",
   "execution_count": 47,
   "id": "43066947",
   "metadata": {},
   "outputs": [],
   "source": [
    "fruits.sort(reverse=True)"
   ]
  },
  {
   "cell_type": "code",
   "execution_count": 48,
   "id": "b324d1b1",
   "metadata": {},
   "outputs": [
    {
     "data": {
      "text/plain": [
       "['o', 'o', 'o', 'mango', 'cherry', 'c', 'banana', 'apple', 'Orange', 'Cherry']"
      ]
     },
     "execution_count": 48,
     "metadata": {},
     "output_type": "execute_result"
    }
   ],
   "source": [
    "fruits"
   ]
  },
  {
   "cell_type": "code",
   "execution_count": 50,
   "id": "96fe2cc0",
   "metadata": {},
   "outputs": [],
   "source": [
    "a = [20, 3, 35, 3]\n",
    "b = a"
   ]
  },
  {
   "cell_type": "code",
   "execution_count": 51,
   "id": "6491c82b",
   "metadata": {},
   "outputs": [
    {
     "data": {
      "text/plain": [
       "[20, 3, 35, 3]"
      ]
     },
     "execution_count": 51,
     "metadata": {},
     "output_type": "execute_result"
    }
   ],
   "source": [
    "a"
   ]
  },
  {
   "cell_type": "code",
   "execution_count": 52,
   "id": "110c5b94",
   "metadata": {},
   "outputs": [
    {
     "data": {
      "text/plain": [
       "[20, 3, 35, 3]"
      ]
     },
     "execution_count": 52,
     "metadata": {},
     "output_type": "execute_result"
    }
   ],
   "source": [
    "b"
   ]
  },
  {
   "cell_type": "code",
   "execution_count": 53,
   "id": "d0c32f94",
   "metadata": {},
   "outputs": [
    {
     "data": {
      "text/plain": [
       "True"
      ]
     },
     "execution_count": 53,
     "metadata": {},
     "output_type": "execute_result"
    }
   ],
   "source": [
    "a == b"
   ]
  },
  {
   "cell_type": "code",
   "execution_count": 54,
   "id": "9ed42cda",
   "metadata": {},
   "outputs": [],
   "source": [
    "a[1] = 100"
   ]
  },
  {
   "cell_type": "code",
   "execution_count": 55,
   "id": "a3333508",
   "metadata": {},
   "outputs": [
    {
     "data": {
      "text/plain": [
       "[20, 100, 35, 3]"
      ]
     },
     "execution_count": 55,
     "metadata": {},
     "output_type": "execute_result"
    }
   ],
   "source": [
    "a"
   ]
  },
  {
   "cell_type": "code",
   "execution_count": 56,
   "id": "75e0082f",
   "metadata": {},
   "outputs": [
    {
     "data": {
      "text/plain": [
       "[20, 100, 35, 3]"
      ]
     },
     "execution_count": 56,
     "metadata": {},
     "output_type": "execute_result"
    }
   ],
   "source": [
    "b"
   ]
  },
  {
   "cell_type": "code",
   "execution_count": 57,
   "id": "e1971e16",
   "metadata": {},
   "outputs": [
    {
     "data": {
      "text/plain": [
       "3"
      ]
     },
     "execution_count": 57,
     "metadata": {},
     "output_type": "execute_result"
    }
   ],
   "source": [
    "b.pop()"
   ]
  },
  {
   "cell_type": "code",
   "execution_count": 58,
   "id": "4a69c7e0",
   "metadata": {},
   "outputs": [
    {
     "data": {
      "text/plain": [
       "[20, 100, 35]"
      ]
     },
     "execution_count": 58,
     "metadata": {},
     "output_type": "execute_result"
    }
   ],
   "source": [
    "a"
   ]
  },
  {
   "cell_type": "code",
   "execution_count": 59,
   "id": "bd3691a1",
   "metadata": {},
   "outputs": [
    {
     "data": {
      "text/plain": [
       "[20, 100, 35]"
      ]
     },
     "execution_count": 59,
     "metadata": {},
     "output_type": "execute_result"
    }
   ],
   "source": [
    "b"
   ]
  },
  {
   "cell_type": "code",
   "execution_count": 60,
   "id": "c34cb1da",
   "metadata": {},
   "outputs": [],
   "source": [
    "a = [20, 3, 35, 3]\n",
    "b = a.copy()\n"
   ]
  },
  {
   "cell_type": "code",
   "execution_count": 61,
   "id": "7b82e6dc",
   "metadata": {},
   "outputs": [
    {
     "data": {
      "text/plain": [
       "[20, 3, 35, 3]"
      ]
     },
     "execution_count": 61,
     "metadata": {},
     "output_type": "execute_result"
    }
   ],
   "source": [
    "a"
   ]
  },
  {
   "cell_type": "code",
   "execution_count": 62,
   "id": "00584363",
   "metadata": {},
   "outputs": [
    {
     "data": {
      "text/plain": [
       "[20, 3, 35, 3]"
      ]
     },
     "execution_count": 62,
     "metadata": {},
     "output_type": "execute_result"
    }
   ],
   "source": [
    "b"
   ]
  },
  {
   "cell_type": "code",
   "execution_count": 63,
   "id": "5720b08d",
   "metadata": {},
   "outputs": [
    {
     "data": {
      "text/plain": [
       "3"
      ]
     },
     "execution_count": 63,
     "metadata": {},
     "output_type": "execute_result"
    }
   ],
   "source": [
    "a.pop()"
   ]
  },
  {
   "cell_type": "code",
   "execution_count": 64,
   "id": "64133377",
   "metadata": {},
   "outputs": [
    {
     "data": {
      "text/plain": [
       "[20, 3, 35]"
      ]
     },
     "execution_count": 64,
     "metadata": {},
     "output_type": "execute_result"
    }
   ],
   "source": [
    "a"
   ]
  },
  {
   "cell_type": "code",
   "execution_count": 65,
   "id": "01bdf137",
   "metadata": {},
   "outputs": [
    {
     "data": {
      "text/plain": [
       "[20, 3, 35, 3]"
      ]
     },
     "execution_count": 65,
     "metadata": {},
     "output_type": "execute_result"
    }
   ],
   "source": [
    "b"
   ]
  },
  {
   "cell_type": "code",
   "execution_count": 68,
   "id": "ff11abb2",
   "metadata": {},
   "outputs": [],
   "source": [
    "a.clear() # reemove all the element"
   ]
  },
  {
   "cell_type": "code",
   "execution_count": 69,
   "id": "5514d649",
   "metadata": {},
   "outputs": [
    {
     "data": {
      "text/plain": [
       "[]"
      ]
     },
     "execution_count": 69,
     "metadata": {},
     "output_type": "execute_result"
    }
   ],
   "source": [
    "a"
   ]
  },
  {
   "cell_type": "code",
   "execution_count": 70,
   "id": "d5dbb0a6",
   "metadata": {},
   "outputs": [],
   "source": [
    "def addOrEven(x):\n",
    "  if x % 2 == 0:\n",
    "    print(\"Even\")\n",
    "  else:\n",
    "    print(\"Odd\")"
   ]
  },
  {
   "cell_type": "code",
   "execution_count": 71,
   "id": "16fa7b13",
   "metadata": {},
   "outputs": [
    {
     "name": "stdout",
     "output_type": "stream",
     "text": [
      "Even\n"
     ]
    }
   ],
   "source": [
    "addOrEven(10)"
   ]
  },
  {
   "cell_type": "code",
   "execution_count": null,
   "id": "9878d9f2",
   "metadata": {},
   "outputs": [],
   "source": []
  }
 ],
 "metadata": {
  "kernelspec": {
   "display_name": "Python 3",
   "language": "python",
   "name": "python3"
  },
  "language_info": {
   "codemirror_mode": {
    "name": "ipython",
    "version": 3
   },
   "file_extension": ".py",
   "mimetype": "text/x-python",
   "name": "python",
   "nbconvert_exporter": "python",
   "pygments_lexer": "ipython3",
   "version": "3.11.11"
  }
 },
 "nbformat": 4,
 "nbformat_minor": 5
}

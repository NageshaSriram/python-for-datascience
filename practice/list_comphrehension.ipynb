{
 "cells": [
  {
   "cell_type": "markdown",
   "id": "222eee0d",
   "metadata": {},
   "source": [
    "# List Comphrehension Problems"
   ]
  },
  {
   "cell_type": "code",
   "execution_count": 3,
   "id": "c974105d",
   "metadata": {},
   "outputs": [
    {
     "name": "stdout",
     "output_type": "stream",
     "text": [
      "[1, 4, 9, 16, 25, 36, 49, 64, 81, 100]\n"
     ]
    }
   ],
   "source": [
    "# 1. Generate a list of squares for numbers 1 to 10.\n",
    "squares = [x**2 for x in range(1, 11)]\n",
    "print(squares)"
   ]
  },
  {
   "cell_type": "code",
   "execution_count": 4,
   "id": "ca166ee3",
   "metadata": {},
   "outputs": [
    {
     "name": "stdout",
     "output_type": "stream",
     "text": [
      "[2, 4, 6, 8]\n"
     ]
    }
   ],
   "source": [
    "# 2. From a given list, return only even numbers.\n",
    "\n",
    "numbers = list(range(1, 10))\n",
    "even_numbers = [x for x in numbers if x % 2 == 0]\n",
    "print(even_numbers)"
   ]
  },
  {
   "cell_type": "code",
   "execution_count": 5,
   "id": "b868ae0e",
   "metadata": {},
   "outputs": [
    {
     "name": "stdout",
     "output_type": "stream",
     "text": [
      "['NAGESH', 'TEJU', 'VIRAT']\n"
     ]
    }
   ],
   "source": [
    "# 3. Convert a list of lowercase strings to uppercase.\n",
    "\n",
    "low_strings = ['nagesh', 'teju', 'virat']\n",
    "upper_strings = [s.upper() for s in low_strings]\n",
    "print(upper_strings)"
   ]
  },
  {
   "cell_type": "code",
   "execution_count": 6,
   "id": "84ebd571",
   "metadata": {},
   "outputs": [
    {
     "name": "stdout",
     "output_type": "stream",
     "text": [
      "[5, 4, 7]\n"
     ]
    }
   ],
   "source": [
    "# 4. Given a list of words, return a list of their lengths.\n",
    "words = ['Hello', 'good', 'morning']\n",
    "words_len = [len(w) for w in words]\n",
    "print(words_len)"
   ]
  },
  {
   "cell_type": "code",
   "execution_count": 7,
   "id": "cf61538c",
   "metadata": {},
   "outputs": [
    {
     "name": "stdout",
     "output_type": "stream",
     "text": [
      "[4, 16, 36, 64, 100, 144, 196, 256, 324]\n"
     ]
    }
   ],
   "source": [
    "# 5. From a list of numbers, return the square of only even numbers.\n",
    "numbers = list(range(1, 20))\n",
    "even_squares = [n**2 for n in numbers if n % 2 == 0]\n",
    "print(even_squares)"
   ]
  },
  {
   "cell_type": "code",
   "execution_count": 14,
   "id": "7d5913d7",
   "metadata": {},
   "outputs": [
    {
     "name": "stdout",
     "output_type": "stream",
     "text": [
      "[1, 2, 3, 4, 5, 6]\n"
     ]
    }
   ],
   "source": [
    "# 6. Given a string \"abc123xyz456\", extract digits as integers: [1, 2, 3, 4, 5, 6].\n",
    "s = \"abc123xyz456\"\n",
    "numbers = [int(i) for i in s if i.lower() in '123456789']\n",
    "print(numbers)"
   ]
  },
  {
   "cell_type": "code",
   "execution_count": 16,
   "id": "4c67c869",
   "metadata": {},
   "outputs": [
    {
     "name": "stdout",
     "output_type": "stream",
     "text": [
      "[1, 2, 3, 4, 5, 6]\n"
     ]
    }
   ],
   "source": [
    "# 7. Flatten a 2D list like [[1, 2], [3, 4], [5, 6]] to [1, 2, 3, 4, 5, 6].\n",
    "list_2d = [[1, 2], [3, 4], [5, 6]]\n",
    "flat_list = [y for x in list_2d for y in x]\n",
    "print(flat_list)"
   ]
  },
  {
   "cell_type": "code",
   "execution_count": 24,
   "id": "4bc8993b",
   "metadata": {},
   "outputs": [
    {
     "name": "stdout",
     "output_type": "stream",
     "text": [
      "[3, 4, 5]\n"
     ]
    }
   ],
   "source": [
    "# 8. Given two lists, return the list of common elements using list comprehension.\n",
    "list_1 = [1, 2, 3, 4, 5]\n",
    "list_2 = [3, 4, 5, 6, 7, 8]\n",
    "# list(set(list_1).intersection(set(list_2)))\n",
    "\n",
    "# to minize the itertaion\n",
    "min_length_list = list_1 if len(list_1) < len(list(list_2)) else list_2\n",
    "max_lenth_list = list_2 if len(list_1) < len(list(list_2)) else list_1\n",
    "inter_list = [x for x in min_length_list if x in max_lenth_list]\n",
    "print(inter_list)"
   ]
  },
  {
   "cell_type": "code",
   "execution_count": null,
   "id": "945f5b12",
   "metadata": {},
   "outputs": [
    {
     "name": "stdout",
     "output_type": "stream",
     "text": [
      "[[1, 4], [2, 5], [3, 6]]\n"
     ]
    }
   ],
   "source": [
    "# Given a matrix [[1,2,3],[4,5,6]], return its transpose using list comprehension:\n",
    "# Output: [[1,4],[2,5],[3,6]]\n",
    "matrix = [[1,2,3],\n",
    "          [4,5,6]]\n",
    "\n",
    "matrix[:1:2]\n",
    "# Given a matrix [[1,2,3],[4,5,6]], return its transpose using list comprehension:\n",
    "# Output: [[1,4],[2,5],[3,6]]\n",
    "matrix = [[1,2,3],\n",
    "          [4,5,6]]\n",
    "\n",
    "transpose = [[row[i] for row in matrix] for i in range(len(matrix[0]))]\n",
    "print(transpose)\n",
    "\n",
    "# res = []\n",
    "# for x in range(0, len(matrix[0])):\n",
    "#   list2 = []\n",
    "#   for i in matrix:\n",
    "#     list2.append(i[x])\n",
    "#   res.append(list2)\n",
    "# print(res)"
   ]
  },
  {
   "cell_type": "code",
   "execution_count": 85,
   "id": "87949be3",
   "metadata": {},
   "outputs": [
    {
     "name": "stdout",
     "output_type": "stream",
     "text": [
      "[2, 3, 5, 7, 11, 13, 17, 19, 23, 29, 31, 37, 41, 43, 47]\n"
     ]
    }
   ],
   "source": [
    "# 10. Generate all prime numbers between 1 and 50 using list comprehension.\n",
    "\n",
    "res = [x for x in range(2, 51) for n in range(1, x//2) if x%n == 0 ]\n",
    "res\n",
    "\n",
    "# Using list comprehension to generate all prime numbers between 2 and 50\n",
    "primes = [i for i in range(2, 51) if all(i % j != 0 for j in range(2, int(i ** 0.5) + 1))]\n",
    "print(primes)"
   ]
  },
  {
   "cell_type": "code",
   "execution_count": 79,
   "id": "6dc1231e",
   "metadata": {},
   "outputs": [
    {
     "name": "stdout",
     "output_type": "stream",
     "text": [
      "['odd', 4, 'odd', 16, 'odd', 36]\n"
     ]
    }
   ],
   "source": [
    "# 11. Conditional replacement\n",
    "# From a list [1, 2, 3, 4, 5, 6], return a new list where:\n",
    "# Even numbers are squared.\n",
    "# Odd numbers are replaced with \"odd\".\n",
    "# Output: [\"odd\", 4, \"odd\", 16, \"odd\", 36]\n",
    "numbers = [1, 2, 3, 4, 5, 6]\n",
    "res = [x ** 2 if x % 2 == 0 else 'odd' for x in numbers]\n",
    "print(res)"
   ]
  }
 ],
 "metadata": {
  "kernelspec": {
   "display_name": "Python 3",
   "language": "python",
   "name": "python3"
  },
  "language_info": {
   "codemirror_mode": {
    "name": "ipython",
    "version": 3
   },
   "file_extension": ".py",
   "mimetype": "text/x-python",
   "name": "python",
   "nbconvert_exporter": "python",
   "pygments_lexer": "ipython3",
   "version": "3.11.11"
  }
 },
 "nbformat": 4,
 "nbformat_minor": 5
}

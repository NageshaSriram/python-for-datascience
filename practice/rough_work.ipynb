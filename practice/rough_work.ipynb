{
 "cells": [
  {
   "cell_type": "code",
   "execution_count": 8,
   "id": "7f931b1a",
   "metadata": {},
   "outputs": [
    {
     "name": "stdout",
     "output_type": "stream",
     "text": [
      "* * * * * \n",
      "* * * * \n",
      "* * * \n",
      "* * \n",
      "* \n",
      "\n"
     ]
    }
   ],
   "source": [
    "for i in range(5, -1, -1):\n",
    "  for j in range(1, i+1):\n",
    "    print('*', end=\" \")\n",
    "  print()\n"
   ]
  },
  {
   "cell_type": "code",
   "execution_count": 22,
   "id": "7a20fbf7",
   "metadata": {},
   "outputs": [
    {
     "name": "stdout",
     "output_type": "stream",
     "text": [
      "             *  \n",
      "           *   *  \n",
      "         *   *   *  \n",
      "       *   *   *   *  \n",
      "     *   *   *   *   *  \n",
      "   *   *   *   *   *   *  \n"
     ]
    }
   ],
   "source": [
    "row = 7\n",
    "for i in range(1, row):\n",
    "  print(\"  \"*(row-i), end=\"\")\n",
    "  print(\" *  \"*i)\n"
   ]
  },
  {
   "cell_type": "code",
   "execution_count": 23,
   "id": "1d88ec8e",
   "metadata": {},
   "outputs": [
    {
     "name": "stdout",
     "output_type": "stream",
     "text": [
      "30\n"
     ]
    }
   ],
   "source": [
    "def add(a, b):\n",
    "  return a + b\n",
    "\n",
    "print(add(10, 20))"
   ]
  },
  {
   "cell_type": "code",
   "execution_count": 31,
   "id": "2fcc31d8",
   "metadata": {},
   "outputs": [
    {
     "name": "stdout",
     "output_type": "stream",
     "text": [
      "{1: 1, 2: 4, 3: 4, 4: 1, 45: 1, 5: 2}\n",
      "4\n",
      "[2, 3]\n"
     ]
    }
   ],
   "source": [
    "user_list = [1,2,2,2,2, 3,3,3, 4,45, 5,5, 3]\n",
    "\n",
    "res_dict = {}\n",
    "def find_mod(arr=[]):\n",
    "  for i in arr:\n",
    "    if i not in res_dict:\n",
    "      res_dict[i] = arr.count(i)\n",
    "\n",
    "find_mod(user_list)\n",
    "print(res_dict)\n",
    "m = max(res_dict.values())\n",
    "print(m)\n",
    "\n",
    "res = [k for k, v in res_dict.items() if v == m]\n",
    "print(res)\n"
   ]
  },
  {
   "cell_type": "code",
   "execution_count": null,
   "id": "c305a1e3",
   "metadata": {},
   "outputs": [],
   "source": []
  }
 ],
 "metadata": {
  "kernelspec": {
   "display_name": "Python 3",
   "language": "python",
   "name": "python3"
  },
  "language_info": {
   "codemirror_mode": {
    "name": "ipython",
    "version": 3
   },
   "file_extension": ".py",
   "mimetype": "text/x-python",
   "name": "python",
   "nbconvert_exporter": "python",
   "pygments_lexer": "ipython3",
   "version": "3.11.11"
  }
 },
 "nbformat": 4,
 "nbformat_minor": 5
}

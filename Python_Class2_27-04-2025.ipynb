{
 "cells": [
  {
   "cell_type": "markdown",
   "id": "fa618a13-8a27-467f-97a8-0692710499cf",
   "metadata": {},
   "source": [
    "### Write a code to print the last digit of the given number"
   ]
  },
  {
   "cell_type": "code",
   "execution_count": 12,
   "id": "27811099-1daf-483a-9f21-ea12477f87ee",
   "metadata": {},
   "outputs": [
    {
     "name": "stdout",
     "output_type": "stream",
     "text": [
      "Enter any number:  23\n"
     ]
    },
    {
     "name": "stdout",
     "output_type": "stream",
     "text": [
      "Last digit of  23  is  3\n"
     ]
    }
   ],
   "source": [
    "user_input = int(input(\"Enter any number: \"))\n",
    "print(\"Last digit of \", user_input, \"is \", user_input % 10)"
   ]
  },
  {
   "cell_type": "markdown",
   "id": "2a12bd83-cb96-4cfb-9382-28a06d351d63",
   "metadata": {},
   "source": [
    "### Write a code to check whether the number given by user is of length 3 or more"
   ]
  },
  {
   "cell_type": "code",
   "execution_count": 13,
   "id": "0de53c30-951b-4bf4-9060-37212a9c3aa8",
   "metadata": {},
   "outputs": [
    {
     "name": "stdout",
     "output_type": "stream",
     "text": [
      "Enter any number:  234\n"
     ]
    },
    {
     "name": "stdout",
     "output_type": "stream",
     "text": [
      "Given number  234 's length is grater than 3 or more\n"
     ]
    }
   ],
   "source": [
    "user_input = input(\"Enter any number: \")\n",
    "if (len(user_input) >= 3):\n",
    "    print(\"Given number \", user_input, \"'s length is grater than 3 or more\")\n",
    "else:\n",
    "    print(\"Given number \", user_input, \"'s length is not grater than 3 or more\")"
   ]
  },
  {
   "cell_type": "markdown",
   "id": "f72bea79-b650-4428-a64c-6ccd67bfd436",
   "metadata": {},
   "source": [
    "### Write a code to check whether the number is divisible by 2 and 3"
   ]
  },
  {
   "cell_type": "code",
   "execution_count": 16,
   "id": "b25d6acd-eb74-4fa4-a03d-5eb85b9da1d9",
   "metadata": {},
   "outputs": [
    {
     "name": "stdout",
     "output_type": "stream",
     "text": [
      "Enter any number (to check if it is divisible by 2 and 3):  15\n"
     ]
    },
    {
     "name": "stdout",
     "output_type": "stream",
     "text": [
      "15 is not divicible by 2 and 3\n"
     ]
    }
   ],
   "source": [
    "user_input = int(input(\"Enter any number (to check if it is divisible by 2 and 3): \"))\n",
    "if ((user_input % 2 == 0) and (user_input % 3 == 0)):\n",
    "    print(user_input, \"is divisible by 2 and 3\")\n",
    "else:\n",
    "    print(user_input, \"is not divicible by 2 and 3\")"
   ]
  },
  {
   "cell_type": "markdown",
   "id": "b00c767c-d85d-43e3-8d95-8d86e74202be",
   "metadata": {},
   "source": [
    "### Write a code to calculate the electricity bill\n",
    "- 0 - 100      -> Rs 0\n",
    "- 100 - 200    -> Rs 3\n",
    "- 200 - 400    -> Rs 5\n",
    "- `>400`        -> Rs 10"
   ]
  },
  {
   "cell_type": "code",
   "execution_count": 26,
   "id": "5e0d7ff9-e23f-4c51-bcc8-d74ae14674b3",
   "metadata": {},
   "outputs": [
    {
     "name": "stdout",
     "output_type": "stream",
     "text": [
      "Enter the units:  250\n"
     ]
    },
    {
     "name": "stdout",
     "output_type": "stream",
     "text": [
      "Your electricity bill is : 550\n"
     ]
    }
   ],
   "source": [
    "# Using if else condition\n",
    "units = int(input(\"Enter the units: \"))\n",
    "bill = 0\n",
    "if (units <= 100):\n",
    "    bill = 0\n",
    "elif units > 100 and units <= 200:\n",
    "    bill = (units - 100) * 3\n",
    "elif units > 200 and units <= 400:\n",
    "    bill = 100 * 3 + (units - 200) * 5\n",
    "elif units > 400:\n",
    "    bill = 100 * 3 + 200 * 5 + (units - 400) * 10\n",
    "\n",
    "print(\"Your electricity bill is :\", bill)"
   ]
  },
  {
   "cell_type": "code",
   "execution_count": 27,
   "id": "b8d666b4-d17b-42dd-8bea-2aa9307ce6d7",
   "metadata": {},
   "outputs": [
    {
     "name": "stdout",
     "output_type": "stream",
     "text": [
      "User input:  12\n"
     ]
    }
   ],
   "source": [
    "# Using dict (Do it later)\n",
    "units = int(input(\"User input: \"))\n",
    "bill_range = {\n",
    "    0: range(0, 101),\n",
    "    3: range(100, 201),\n",
    "    5: range(200, 401),\n",
    "}"
   ]
  },
  {
   "cell_type": "markdown",
   "id": "d1f3db57-7482-4fab-9021-470d5d37c3a0",
   "metadata": {},
   "source": [
    "### Calculate income tax\n",
    "\n",
    "New Tax Regime\n",
    "\n",
    "- 0 - 3 -> 0 %\n",
    "- 7 - 10 -> 10 %\n",
    "- 10 - 12 -> 15 %\n",
    "- 12 - 15 -> 20 %\n",
    "- above 15 -> 30%\n",
    " - `>12lac` then the above slab will be applicable\n",
    "\n",
    "Old Tax Regime\n",
    "- 0 - 2.5 lac - 0 %\n",
    "- 2.5 - 5 lac - 5 %\n",
    "- 5 - 10lac - 20 %\n",
    "- above 10 lac - 30%\n",
    "\n",
    "standard deduction of 8lac\n",
    "\n"
   ]
  },
  {
   "cell_type": "code",
   "execution_count": 45,
   "id": "b9949b82-7adf-4883-af95-4f154a029294",
   "metadata": {},
   "outputs": [
    {
     "name": "stdout",
     "output_type": "stream",
     "text": [
      "Total income:  2000000\n"
     ]
    },
    {
     "name": "stdout",
     "output_type": "stream",
     "text": [
      "Total tax is:  290000.0\n"
     ]
    }
   ],
   "source": [
    "income = int(input(\"Total income: \"))\n",
    "if income <= 1200000:\n",
    "    tax = 0\n",
    "elif (income > 300000 and income <= 700000):\n",
    "    tax = (income - 300000) * (5/100)\n",
    "elif (income > 700000 and income <= 1000000):\n",
    "    tax = 400000 * (5/100) + (income - 700000) * (10/100)\n",
    "elif (income > 1000000 and income <= 1200000):\n",
    "    tax = 400000 * (5/100) + 300000 * (10/100) + (income - 1000000) * (15/100)\n",
    "elif (income > 1200000 and income <= 1500000):\n",
    "    tax = 400000 * (5/100) + 300000 * (10/100) + 200000 * (15/100) + (income - 1200000) * (20/100)\n",
    "elif income > 1500000:\n",
    "    tax = 400000 * (5/100) + 300000 * (10/100) + 200000 * (15/100) + 300000 * (20/100) + (income - 1500000) * (30/100)\n",
    "\n",
    "print(\"Total tax is: \", tax)\n",
    "\n",
    "# Optimized\n",
    "\n",
    "# first_slab = 400000 * (5/100)\n",
    "# second_slab\n",
    "# income = int(input(\"Total income: \"))\n",
    "# if income <= 1200000:\n",
    "#     tax = 0\n",
    "# elif (income > 300000 and income <= 700000):\n",
    "#     tax = (income - 300000) * (5/100)\n",
    "# elif (income > 700000 and income <= 1000000):\n",
    "#     tax = 400000 * (5/100) + (income - 700000) * (10/100)\n",
    "# elif (income > 1000000 and income <= 1200000):\n",
    "#     tax = 400000 * (5/100) + 300000 * (10/100) + (income - 1000000) * (15/100)\n",
    "# elif (income > 1200000 and income <= 1500000):\n",
    "#     tax = 400000 * (5/100) + 300000 * (10/100) + 200000 * (15/100) + (income - 1200000) * (20/100)\n",
    "# elif income > 1500000:\n",
    "#     tax = 400000 * (5/100) + 300000 * (10/100) + 200000 * (15/100) + 300000 * (20/100) + (income - 1500000) * (30/100)\n",
    "\n",
    "# print(\"Total tax is: \", tax)\n",
    "    \n",
    "    "
   ]
  },
  {
   "cell_type": "code",
   "execution_count": 48,
   "id": "1b801d5a-fba7-4d21-bbc6-add05d06509c",
   "metadata": {},
   "outputs": [
    {
     "name": "stdout",
     "output_type": "stream",
     "text": [
      " 2000000\n"
     ]
    },
    {
     "name": "stdout",
     "output_type": "stream",
     "text": [
      "290000.0\n"
     ]
    }
   ],
   "source": [
    "a = int(input())\n",
    "a = a / 100000\n",
    "if a <= 12:\n",
    "    b = 0\n",
    "elif (a > 12) & (a<=15):\n",
    "    b = 0.8+(a-12)*0.2\n",
    "else:\n",
    "    b = 1.4 + (a - 15) *0.3\n",
    "b = b * 100000\n",
    "print(b)\n",
    "    "
   ]
  },
  {
   "cell_type": "code",
   "execution_count": 9,
   "id": "f58c9e18-c332-4a95-bc69-994031e36680",
   "metadata": {},
   "outputs": [
    {
     "name": "stdout",
     "output_type": "stream",
     "text": [
      "New Regime total tax is:  290000.0\n",
      "Old Regime total tax is:  172500.0\n",
      "In old tax regime you save : 117500.0\n"
     ]
    }
   ],
   "source": [
    "# Compare new and old regime\n",
    "income = int(input(\"Total income: \"))\n",
    "#New Regime\n",
    "new_regime_tax = 0\n",
    "if income <= 1200000:\n",
    "    new_regime_tax = 0\n",
    "elif (income > 300000 and income <= 700000):\n",
    "    new_regime_tax = (income - 300000) * (5/100)\n",
    "elif (income > 700000 and income <= 1000000):\n",
    "    new_regime_tax = 400000 * (5/100) + (income - 700000) * (10/100)\n",
    "elif (income > 1000000 and income <= 1200000):\n",
    "    new_regime_tax = 400000 * (5/100) + 300000 * (10/100) + (income - 1000000) * (15/100)\n",
    "elif (income > 1200000 and income <= 1500000):\n",
    "    new_regime_tax = 400000 * (5/100) + 300000 * (10/100) + 200000 * (15/100) + (income - 1200000) * (20/100)\n",
    "elif income > 1500000:\n",
    "    new_regime_tax = 400000 * (5/100) + 300000 * (10/100) + 200000 * (15/100) + 300000 * (20/100) + (income - 1500000) * (30/100)\n",
    "\n",
    "print(\"New Regime total tax is: \", new_regime_tax)\n",
    "\n",
    "#Old Regime\n",
    "old_regime_tax = 0\n",
    "taxable_income = max(0, income - 800000)  # Ensure taxable_income is non-negative\n",
    "if taxable_income > 250000 and taxable_income <= 500000:\n",
    "    old_regime_tax = (taxable_income - 250000) * 5 / 100\n",
    "elif taxable_income > 500000 and taxable_income <= 1000000:\n",
    "    old_regime_tax = (250000 * 5 / 100) + (taxable_income - 500000) * 20 / 100\n",
    "elif taxable_income > 1000000:\n",
    "    old_regime_tax = (250000 * 5 / 100) + (500000 * 20 / 100) + (taxable_income - 1000000) * 30 / 100\n",
    "\n",
    "print(\"Old Regime total tax is: \", old_regime_tax)\n",
    "\n",
    "if (new_regime_tax == old_regime_tax):\n",
    "    print(\"Both Regime taxex are same, you can chose anyone of them\")\n",
    "elif (new_regime_tax < old_regime_tax):\n",
    "    print(\"In new tax regime you save :\", old_regime_tax - new_regime_tax)\n",
    "else:\n",
    "    print(\"In old tax regime you save :\", new_regime_tax - old_regime_tax)"
   ]
  },
  {
   "cell_type": "markdown",
   "id": "a9a4abaf-d642-4308-aaaf-65ae9201f7d9",
   "metadata": {},
   "source": [
    "# Looping"
   ]
  },
  {
   "cell_type": "markdown",
   "id": "7c7b1d15-d438-4195-8f13-ca801f3219df",
   "metadata": {},
   "source": [
    "### Find factorial of a given number"
   ]
  },
  {
   "cell_type": "code",
   "execution_count": 2,
   "id": "467f25c3-e3ec-40e2-9b79-1749511519f9",
   "metadata": {},
   "outputs": [
    {
     "name": "stdout",
     "output_type": "stream",
     "text": [
      "Factorial of 1 is 1\n"
     ]
    }
   ],
   "source": [
    "user_input = int(input('Enter any number: '))\n",
    "\n",
    "factorial = 1\n",
    "for i in range(1, user_input + 1):\n",
    "    factorial = factorial * i\n",
    "print(\"Factorial of\", user_input, \"is\", factorial)"
   ]
  },
  {
   "cell_type": "code",
   "execution_count": 61,
   "id": "28525029-8e66-466a-bda1-9fa573fd71f0",
   "metadata": {},
   "outputs": [
    {
     "name": "stdout",
     "output_type": "stream",
     "text": [
      "Input:  5\n"
     ]
    },
    {
     "name": "stdout",
     "output_type": "stream",
     "text": [
      "Output: 1,2,3,4,5,"
     ]
    }
   ],
   "source": [
    "# print the numbers from 1 to user inputed number\n",
    "user_number = int(input(\"Input: \"))\n",
    "print(\"Output:\", end=\" \")\n",
    "for i in range(1, user_number + 1):\n",
    "    print(i, end=\",\")"
   ]
  },
  {
   "cell_type": "markdown",
   "id": "718716dd-485b-4733-af5b-6450b458a6cc",
   "metadata": {},
   "source": [
    "### Print event even numbers till the user given number"
   ]
  },
  {
   "cell_type": "code",
   "execution_count": 65,
   "id": "150f6037-90e8-4dc4-87ac-f9de055f3284",
   "metadata": {},
   "outputs": [
    {
     "name": "stdout",
     "output_type": "stream",
     "text": [
      "Enter any number: 10\n"
     ]
    },
    {
     "name": "stdout",
     "output_type": "stream",
     "text": [
      "Even numbers:  [2, 4, 6, 8, 10]\n",
      "Odd numbersL  [1, 3, 5, 7, 9]\n"
     ]
    }
   ],
   "source": [
    "user_input = int(input(\"Enter any number:\"))\n",
    "even_numbers = []\n",
    "odd_numbers = []\n",
    "for i in range(1, user_input + 1):\n",
    "    if i % 2 == 0:\n",
    "        even_numbers.append(i)\n",
    "    if i % 2 == 1:\n",
    "        odd_numbers.append(i)\n",
    "print(\"Even numbers: \", even_numbers)\n",
    "print(\"Odd numbersL \", odd_numbers)"
   ]
  },
  {
   "cell_type": "markdown",
   "id": "d457e8b0-3ec6-4124-9e15-90ef22311563",
   "metadata": {},
   "source": [
    "### Factor of a given number\n",
    "- `factor` - the numbers "
   ]
  },
  {
   "cell_type": "code",
   "execution_count": 5,
   "id": "29ac3e5e-0dcd-47bc-8160-c16f11b205c0",
   "metadata": {},
   "outputs": [
    {
     "name": "stdout",
     "output_type": "stream",
     "text": [
      "Factor of  10 is [1, 2, 5, 10]\n",
      "[1, 2, 5, 10]\n"
     ]
    }
   ],
   "source": [
    "user_input = int(input(\"Enter number: \"))\n",
    "factors = []\n",
    "for i in range(1, user_input+1):\n",
    "    if (user_input % i == 0):\n",
    "        factors.append(i)\n",
    "print(\"Factor of \", user_input, \"is\",factors)\n",
    "#factors.reverse()\n",
    "print(factors)\n",
    "    "
   ]
  },
  {
   "cell_type": "markdown",
   "id": "b84bf07b-89fe-4808-9b97-8ccc863d0d11",
   "metadata": {},
   "source": [
    "### Find the prime numbers"
   ]
  },
  {
   "cell_type": "code",
   "execution_count": 3,
   "id": "b81bace3-349a-46e0-8221-beba13e4034d",
   "metadata": {},
   "outputs": [
    {
     "name": "stdout",
     "output_type": "stream",
     "text": [
      "[1, 2, 3, 4, 5, 7, 11, 13, 17, 19, 23, 29, 31, 37, 41, 43, 47, 53, 59, 61, 67, 71, 73, 79, 83, 89, 97, 101]\n"
     ]
    }
   ],
   "source": [
    "user_input = int(input(\"Enter number: \"))\n",
    "prime_numbers = []\n",
    "for i in range(1, user_input + 1):\n",
    "    is_dived = True\n",
    "    for j in range(2, i//2):\n",
    "        if i % j == 0:\n",
    "            is_dived = False\n",
    "            break\n",
    "    if is_dived:\n",
    "        prime_numbers.append(i)\n",
    "\n",
    "print(prime_numbers)"
   ]
  },
  {
   "cell_type": "code",
   "execution_count": 8,
   "id": "6af608b1-cf7d-4888-8f23-b753f3c38935",
   "metadata": {},
   "outputs": [
    {
     "name": "stdout",
     "output_type": "stream",
     "text": [
      "True\n",
      "Prime numbers up to 100 are: [2, 3, 4, 5, 7, 11, 13, 17, 19, 23, 29, 31, 37, 41, 43, 47, 53, 59, 61, 67, 71, 73, 79, 83, 89, 97]\n"
     ]
    }
   ],
   "source": [
    "# print prime number or not\n",
    "\n",
    "n = user_input = int(input(\"Enter number: \"))\n",
    "is_prime = True\n",
    "for i in range(2, (n//2)):\n",
    "    if (n % i == 0):\n",
    "        is_prime = False\n",
    "print(is_prime)# Find all prime numbers up to a given number\n",
    "\n",
    "n = int(input(\"Enter the upper limit: \"))\n",
    "prime_numbers = []\n",
    "\n",
    "for num in range(2, n+1):\n",
    "    is_prime = True\n",
    "    for i in range(2, num // 2):\n",
    "        if num % i == 0:\n",
    "            is_prime = False\n",
    "            break\n",
    "    if is_prime:\n",
    "        prime_numbers.append(num)\n",
    "\n",
    "print(\"Prime numbers up to\", n, \"are:\", prime_numbers)\n",
    "    "
   ]
  },
  {
   "cell_type": "code",
   "execution_count": 121,
   "id": "d9598f2e-34f8-44b4-bf82-b0fdccde2bdd",
   "metadata": {},
   "outputs": [
    {
     "name": "stdout",
     "output_type": "stream",
     "text": [
      "A:  50\n",
      "B 45\n"
     ]
    },
    {
     "name": "stdout",
     "output_type": "stream",
     "text": [
      "A Factors: [1, 2, 5, 10, 25, 50]\n",
      "B Factors: [1, 3, 5, 9, 15, 45]\n",
      "{1, 2, 5, 10, 50, 25} {1, 3, 5, 9, 45, 15}\n",
      "{1, 5}\n",
      "HCM 5\n"
     ]
    }
   ],
   "source": [
    "# HCM (Highest Comman factor) of two numbers)\n",
    "\n",
    "a = int(input(\"A: \"))\n",
    "b = int(input(\"B\"))\n",
    "a_factors = []\n",
    "b_factors = []\n",
    "for i in range(1, a+1):\n",
    "    if (a % i == 0):\n",
    "        a_factors.append(i)\n",
    "print(\"A Factors:\",a_factors)\n",
    "\n",
    "for j in range(1, b+1):\n",
    "    if (b % j == 0):\n",
    "        b_factors.append(j)\n",
    "\n",
    "print(\"B Factors:\",b_factors)\n",
    "\n",
    "a_set = set(a_factors)\n",
    "b_set = set(b_factors)\n",
    "print(a_set, b_set)\n",
    "print(a_set.intersection(b_set))\n",
    "print(\"HCM\", max(list(a_set.intersection(b_set))))"
   ]
  },
  {
   "cell_type": "code",
   "execution_count": 10,
   "id": "d2a62383-6691-44d5-b9ec-549f0ad78216",
   "metadata": {},
   "outputs": [
    {
     "name": "stdout",
     "output_type": "stream",
     "text": [
      "HCM : 0\n"
     ]
    }
   ],
   "source": [
    "# HCM (Highest Comman factor) of two numbers)\n",
    "\n",
    "a = int(input(\"A: \"))\n",
    "b = int(input(\"B\"))\n",
    "result = 0\n",
    "c = a \n",
    "if (a > b): # finding lower value\n",
    "    c = b\n",
    "for i in range(c, 1, -1):\n",
    "    if (a % i == 0 and b % i == 0):\n",
    "            result = i\n",
    "            break\n",
    "print(\"HCM :\",result)"
   ]
  },
  {
   "cell_type": "markdown",
   "id": "c58ea373-2183-4390-8e64-48b3ee6d1c24",
   "metadata": {},
   "source": [
    "### Print the number range from reverse order"
   ]
  },
  {
   "cell_type": "code",
   "execution_count": 125,
   "id": "bcfcef83-3e42-4bc1-b460-7200bf62eb36",
   "metadata": {},
   "outputs": [
    {
     "name": "stdout",
     "output_type": "stream",
     "text": [
      "Enter number 10\n"
     ]
    },
    {
     "name": "stdout",
     "output_type": "stream",
     "text": [
      "10\n",
      "9\n",
      "8\n",
      "7\n",
      "6\n",
      "5\n",
      "4\n",
      "3\n",
      "2\n",
      "1\n"
     ]
    }
   ],
   "source": [
    "n = int(input(\"Enter number\"))\n",
    "for i in range(n, 0, -1):\n",
    "    print(i)"
   ]
  },
  {
   "cell_type": "code",
   "execution_count": 1,
   "id": "113e18a6-76f5-4dea-9000-d1f9e25ec541",
   "metadata": {},
   "outputs": [
    {
     "name": "stdout",
     "output_type": "stream",
     "text": [
      "10\n",
      "9\n",
      "8\n",
      "7\n",
      "6\n",
      "5\n",
      "4\n",
      "3\n",
      "2\n",
      "1\n"
     ]
    }
   ],
   "source": [
    "n = int(input(\"Enter number\"))\n",
    "for i in range(1, n+1):\n",
    "    print((n+1) - i)"
   ]
  },
  {
   "cell_type": "code",
   "execution_count": 2,
   "id": "cd2cbbbd",
   "metadata": {},
   "outputs": [
    {
     "name": "stdout",
     "output_type": "stream",
     "text": [
      "10 9 8 7 6 5 4 3 2 1 "
     ]
    }
   ],
   "source": [
    "# print numbers in reverse order\n",
    "n = 10\n",
    "for i in range(n, 0, -1):\n",
    "  print(i, end = \" \")"
   ]
  },
  {
   "cell_type": "code",
   "execution_count": 2,
   "id": "92fbf89d-e560-4c32-bdbb-ca65cef2a9e5",
   "metadata": {},
   "outputs": [
    {
     "name": "stdout",
     "output_type": "stream",
     "text": [
      "[40, 39, 38, 37, 36, 35, 34, 33, 32, 31, 30, 29, 28, 27, 26, 25, 24, 23, 22, 21, 20, 19, 18, 17, 16, 15, 14, 13, 12, 11, 10, 9, 8, 7, 6, 5, 4, 3, 2, 1]\n"
     ]
    }
   ],
   "source": [
    "n = int(input(\"Enter number\"))\n",
    "my_list = list(range(1, n+1))\n",
    "print(my_list[::-1])"
   ]
  },
  {
   "cell_type": "markdown",
   "id": "1872e67b",
   "metadata": {},
   "source": [
    "### Continue and Break"
   ]
  },
  {
   "cell_type": "code",
   "execution_count": null,
   "id": "c884f882",
   "metadata": {},
   "outputs": [
    {
     "name": "stdout",
     "output_type": "stream",
     "text": [
      "1\n",
      "2\n",
      "3\n",
      "4\n"
     ]
    }
   ],
   "source": [
    "# Break\n",
    "for i in range(1, 10):\n",
    "  if (i == 5):\n",
    "    break\n",
    "  print(i)"
   ]
  },
  {
   "cell_type": "code",
   "execution_count": 11,
   "id": "b5f13ea4",
   "metadata": {},
   "outputs": [
    {
     "name": "stdout",
     "output_type": "stream",
     "text": [
      "1\n",
      "2\n",
      "3\n",
      "4\n",
      "6\n",
      "7\n",
      "8\n",
      "9\n"
     ]
    }
   ],
   "source": [
    "#Continue\n",
    "for i in range(1, 10):\n",
    "  if i == 5:\n",
    "    continue\n",
    "  print(i)"
   ]
  },
  {
   "cell_type": "code",
   "execution_count": 14,
   "id": "3b4cee7b",
   "metadata": {},
   "outputs": [
    {
     "name": "stdout",
     "output_type": "stream",
     "text": [
      "0\n",
      "1\n",
      "2\n",
      "3\n",
      "4\n"
     ]
    }
   ],
   "source": [
    "# While\n",
    "\n",
    "i = 0\n",
    "while i < 5:\n",
    "  print(i)\n",
    "  i += 1"
   ]
  },
  {
   "cell_type": "markdown",
   "id": "a55e981a",
   "metadata": {},
   "source": [
    "### Factorials using while loop"
   ]
  },
  {
   "cell_type": "code",
   "execution_count": 43,
   "id": "5767662b",
   "metadata": {},
   "outputs": [
    {
     "name": "stdout",
     "output_type": "stream",
     "text": [
      "120\n"
     ]
    }
   ],
   "source": [
    "# n = int(input(\"Factorial: \"))\n",
    "\n",
    "def findfactorial(n):\n",
    "  fact = 1\n",
    "  while n > 0:\n",
    "    fact *= n\n",
    "    n = n - 1\n",
    "  print(fact)\n",
    "\n",
    "findfactorial(5)"
   ]
  },
  {
   "cell_type": "code",
   "execution_count": 44,
   "id": "a200d084",
   "metadata": {},
   "outputs": [
    {
     "name": "stdout",
     "output_type": "stream",
     "text": [
      "Even Numbers: \n",
      "2\n",
      "4\n",
      "6\n",
      "8\n",
      "10\n",
      "Print Odd number: \n",
      "1\n",
      "3\n",
      "5\n",
      "7\n",
      "9\n"
     ]
    }
   ],
   "source": [
    "# Print odd or even number\n",
    "\n",
    "# n = int(input(\"Enter number: \"))\n",
    "\n",
    "def print_odd_and_even_numbers(n):\n",
    "  i = 1\n",
    "  print(\"Even Numbers: \")\n",
    "  while i <= n:\n",
    "    if i % 2 == 0:\n",
    "      print(i)\n",
    "    i += 1\n",
    "\n",
    "  print(\"Print Odd number: \")\n",
    "  i = 1\n",
    "  while i < n:\n",
    "    if i % 2 != 0:\n",
    "      print(i)\n",
    "    i += 1\n",
    "\n",
    "print_odd_and_even_numbers(10)"
   ]
  },
  {
   "cell_type": "markdown",
   "id": "845498f4",
   "metadata": {},
   "source": [
    "# check whether the numbe is Prime number using while loop"
   ]
  },
  {
   "cell_type": "code",
   "execution_count": 51,
   "id": "b16cd0f5",
   "metadata": {},
   "outputs": [
    {
     "name": "stdout",
     "output_type": "stream",
     "text": [
      "10 is not a prime number\n"
     ]
    }
   ],
   "source": [
    "# n = int(input(\"\"))\n",
    "\n",
    "def is_number_prime(n):\n",
    "  i = 2\n",
    "  is_prime = True\n",
    "  while i < n//2:\n",
    "    if (n % i == 2):\n",
    "      is_prime = False\n",
    "      break\n",
    "    i += 1\n",
    "\n",
    "  if is_prime:\n",
    "    print(n, \"is a prime number\")\n",
    "  else:\n",
    "    print(n, \"is not a prime number\")\n",
    "\n",
    "is_number_prime(10)"
   ]
  },
  {
   "cell_type": "code",
   "execution_count": null,
   "id": "eff87f80",
   "metadata": {},
   "outputs": [],
   "source": []
  }
 ],
 "metadata": {
  "kernelspec": {
   "display_name": "Python 3",
   "language": "python",
   "name": "python3"
  },
  "language_info": {
   "codemirror_mode": {
    "name": "ipython",
    "version": 3
   },
   "file_extension": ".py",
   "mimetype": "text/x-python",
   "name": "python",
   "nbconvert_exporter": "python",
   "pygments_lexer": "ipython3",
   "version": "3.11.11"
  }
 },
 "nbformat": 4,
 "nbformat_minor": 5
}

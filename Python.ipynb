{
 "cells": [
  {
   "cell_type": "markdown",
   "id": "fa3cea68-c80f-4b2f-893e-d0df03e82aa0",
   "metadata": {
    "scrolled": true
   },
   "source": [
    "# Atomic\n",
    "\n",
    "Everything as a single element\n",
    "\n",
    "- int\n",
    "- str\n",
    "- float\n",
    "- complex\n",
    "- Boolean"
   ]
  },
  {
   "cell_type": "code",
   "execution_count": 3,
   "id": "f5097a3a-34f6-43b6-977d-f97818828c4f",
   "metadata": {},
   "outputs": [],
   "source": [
    "a = 10\n",
    "b = 5\n",
    "c = a + b\n",
    "d = c - a"
   ]
  },
  {
   "cell_type": "code",
   "execution_count": 4,
   "id": "97a0e441-bb10-446d-ae24-e3b800d92fb8",
   "metadata": {},
   "outputs": [
    {
     "name": "stdout",
     "output_type": "stream",
     "text": [
      "5\n"
     ]
    }
   ],
   "source": [
    "print(d)"
   ]
  },
  {
   "cell_type": "code",
   "execution_count": 5,
   "id": "e8d80c65-974b-4f86-9129-9aa7cfcf848f",
   "metadata": {},
   "outputs": [
    {
     "name": "stdout",
     "output_type": "stream",
     "text": [
      "<class 'int'>\n"
     ]
    }
   ],
   "source": [
    "# Type checking\n",
    "\n",
    "a = 5\n",
    "print(type(a))"
   ]
  },
  {
   "cell_type": "code",
   "execution_count": 6,
   "id": "2c00b08d-35fd-44d0-bed1-8e2e94650a8c",
   "metadata": {},
   "outputs": [
    {
     "data": {
      "text/plain": [
       "float"
      ]
     },
     "execution_count": 6,
     "metadata": {},
     "output_type": "execute_result"
    }
   ],
   "source": [
    "type(23.33)"
   ]
  },
  {
   "cell_type": "code",
   "execution_count": 7,
   "id": "e4d7c237-588a-463e-8a1e-07005ce85056",
   "metadata": {},
   "outputs": [
    {
     "data": {
      "text/plain": [
       "complex"
      ]
     },
     "execution_count": 7,
     "metadata": {},
     "output_type": "execute_result"
    }
   ],
   "source": [
    "a = 3+4j\n",
    "type(a)"
   ]
  },
  {
   "cell_type": "code",
   "execution_count": 8,
   "id": "65a46934",
   "metadata": {},
   "outputs": [
    {
     "data": {
      "text/plain": [
       "bool"
      ]
     },
     "execution_count": 8,
     "metadata": {},
     "output_type": "execute_result"
    }
   ],
   "source": [
    "a = True # Should be always capital 'T', another value is False\n",
    "type(a)"
   ]
  },
  {
   "cell_type": "code",
   "execution_count": 9,
   "id": "d5284275",
   "metadata": {},
   "outputs": [
    {
     "data": {
      "text/plain": [
       "'N'"
      ]
     },
     "execution_count": 9,
     "metadata": {},
     "output_type": "execute_result"
    }
   ],
   "source": [
    "a = 'Nagesha'\n",
    "a[0] # Left to right indexing"
   ]
  },
  {
   "cell_type": "code",
   "execution_count": 10,
   "id": "3bba96f3-78b3-418e-b255-b4cf6ee4faca",
   "metadata": {},
   "outputs": [
    {
     "data": {
      "text/plain": [
       "'a'"
      ]
     },
     "execution_count": 10,
     "metadata": {},
     "output_type": "execute_result"
    }
   ],
   "source": [
    "a[-1] # Right to left indexing"
   ]
  },
  {
   "cell_type": "code",
   "execution_count": 11,
   "id": "9469eadf-9a0c-4df3-9fa3-86020ebc6422",
   "metadata": {
    "scrolled": true
   },
   "outputs": [
    {
     "ename": "IndexError",
     "evalue": "string index out of range",
     "output_type": "error",
     "traceback": [
      "\u001b[0;31m---------------------------------------------------------------------------\u001b[0m",
      "\u001b[0;31mIndexError\u001b[0m                                Traceback (most recent call last)",
      "Cell \u001b[0;32mIn[11], line 1\u001b[0m\n\u001b[0;32m----> 1\u001b[0m a[\u001b[38;5;241m-\u001b[39m\u001b[38;5;241m10\u001b[39m]\n",
      "\u001b[0;31mIndexError\u001b[0m: string index out of range"
     ]
    }
   ],
   "source": [
    "a[-10] # IndexError: string index out of range"
   ]
  },
  {
   "cell_type": "markdown",
   "id": "0e1455f1-0052-40b8-a3e6-4c2476a1c3da",
   "metadata": {},
   "source": [
    "# Subsetting\n",
    " a[x:y:z]\n",
    "- x - Start index\n",
    "- y - End index + 1\n",
    "- z - direction"
   ]
  },
  {
   "cell_type": "code",
   "execution_count": 17,
   "id": "2ed334cb-93eb-4915-90d6-bcd60af7ac29",
   "metadata": {},
   "outputs": [
    {
     "name": "stdout",
     "output_type": "stream",
     "text": [
      "Nag\n",
      "Nag\n"
     ]
    }
   ],
   "source": [
    "# Print 'Nag' from varaible a, using subset\n",
    "print(a[0:3])\n",
    "print(a[:3]) # if not mentioned it start fro zero"
   ]
  },
  {
   "cell_type": "code",
   "execution_count": 14,
   "id": "ca702372-effe-474a-80bc-c96b4914845d",
   "metadata": {},
   "outputs": [
    {
     "name": "stdout",
     "output_type": "stream",
     "text": [
      "Nagesha\n"
     ]
    }
   ],
   "source": [
    "# Pring full name\n",
    "print(a[:])"
   ]
  },
  {
   "cell_type": "code",
   "execution_count": 18,
   "id": "b81764fa-ca2e-44c6-9252-7cdab4674c57",
   "metadata": {},
   "outputs": [
    {
     "data": {
      "text/plain": [
       "'a'"
      ]
     },
     "execution_count": 18,
     "metadata": {},
     "output_type": "execute_result"
    }
   ],
   "source": [
    "a[-1:]"
   ]
  },
  {
   "cell_type": "code",
   "execution_count": 19,
   "id": "33c264c4-523f-45dd-9421-e70b6ee54bf4",
   "metadata": {},
   "outputs": [
    {
     "data": {
      "text/plain": [
       "'ahsegaN'"
      ]
     },
     "execution_count": 19,
     "metadata": {},
     "output_type": "execute_result"
    }
   ],
   "source": [
    "a[::-1]"
   ]
  },
  {
   "cell_type": "code",
   "execution_count": 25,
   "id": "aa9d4526-b9a2-41df-aae2-e64f43fcef32",
   "metadata": {},
   "outputs": [
    {
     "data": {
      "text/plain": [
       "''"
      ]
     },
     "execution_count": 25,
     "metadata": {},
     "output_type": "execute_result"
    }
   ],
   "source": [
    "a = 'Sumit'\n",
    "a[4:-5]"
   ]
  },
  {
   "cell_type": "code",
   "execution_count": 30,
   "id": "25b8cdc8-9253-4941-b0fb-131fa387fe46",
   "metadata": {},
   "outputs": [
    {
     "data": {
      "text/plain": [
       "''"
      ]
     },
     "execution_count": 30,
     "metadata": {},
     "output_type": "execute_result"
    }
   ],
   "source": [
    "a[-1:4:2]"
   ]
  },
  {
   "cell_type": "code",
   "execution_count": 22,
   "id": "1cc43b91-595a-4380-be00-fecbdbbd8f2e",
   "metadata": {},
   "outputs": [
    {
     "data": {
      "text/plain": [
       "'Smt'"
      ]
     },
     "execution_count": 22,
     "metadata": {},
     "output_type": "execute_result"
    }
   ],
   "source": [
    "a[0::2]"
   ]
  },
  {
   "cell_type": "code",
   "execution_count": 32,
   "id": "c43454f5-49b5-4d47-974c-41511fcdfe79",
   "metadata": {},
   "outputs": [
    {
     "data": {
      "text/plain": [
       "''"
      ]
     },
     "execution_count": 32,
     "metadata": {},
     "output_type": "execute_result"
    }
   ],
   "source": [
    "a[1:-4:-1] # If the start and end index is same char , it always returns empty '' char"
   ]
  },
  {
   "cell_type": "code",
   "execution_count": 34,
   "id": "10d0d1fb-3276-4d76-b7dd-bef264f4855a",
   "metadata": {},
   "outputs": [
    {
     "data": {
      "text/plain": [
       "''"
      ]
     },
     "execution_count": 34,
     "metadata": {},
     "output_type": "execute_result"
    }
   ],
   "source": [
    "a[2:1:1]"
   ]
  },
  {
   "cell_type": "markdown",
   "id": "577a1315-22f6-4547-a3bd-9e75fdd5d811",
   "metadata": {},
   "source": [
    "- `+` is Left to Right Direction (Anything 1 or more than that)\n",
    "- `-` is Right to Left Direction (Anything 1 or more than that)"
   ]
  },
  {
   "cell_type": "code",
   "execution_count": 39,
   "id": "1e5544eb-2adf-493a-9d02-1924c136d8ed",
   "metadata": {},
   "outputs": [
    {
     "data": {
      "text/plain": [
       "'timuS'"
      ]
     },
     "execution_count": 39,
     "metadata": {},
     "output_type": "execute_result"
    }
   ],
   "source": [
    "a[::-1] # If you don't specify any start and end index, it starts from depending on direction"
   ]
  },
  {
   "cell_type": "code",
   "execution_count": 42,
   "id": "2e276897-b11b-4a68-99d1-83c5d83c24cd",
   "metadata": {},
   "outputs": [
    {
     "data": {
      "text/plain": [
       "'uS'"
      ]
     },
     "execution_count": 42,
     "metadata": {},
     "output_type": "execute_result"
    }
   ],
   "source": [
    "a[1::-1] # Sumit"
   ]
  },
  {
   "cell_type": "code",
   "execution_count": 43,
   "id": "63f7c087-5133-4971-b29c-94af588af519",
   "metadata": {},
   "outputs": [
    {
     "data": {
      "text/plain": [
       "'timuS'"
      ]
     },
     "execution_count": 43,
     "metadata": {},
     "output_type": "execute_result"
    }
   ],
   "source": [
    "a[::-1]"
   ]
  },
  {
   "cell_type": "code",
   "execution_count": 44,
   "id": "fa743c6c-fd19-4279-8ba8-dd21e369b9a0",
   "metadata": {},
   "outputs": [
    {
     "data": {
      "text/plain": [
       "'muS'"
      ]
     },
     "execution_count": 44,
     "metadata": {},
     "output_type": "execute_result"
    }
   ],
   "source": [
    "a[2::-1]"
   ]
  },
  {
   "cell_type": "code",
   "execution_count": 45,
   "id": "c53df293-55e5-4686-9a6d-560219f9df7b",
   "metadata": {},
   "outputs": [
    {
     "data": {
      "text/plain": [
       "'mit'"
      ]
     },
     "execution_count": 45,
     "metadata": {},
     "output_type": "execute_result"
    }
   ],
   "source": [
    "a[2::1]"
   ]
  },
  {
   "cell_type": "code",
   "execution_count": 46,
   "id": "03c88055-1dee-4ee0-8e69-36e29e1dad76",
   "metadata": {},
   "outputs": [
    {
     "data": {
      "text/plain": [
       "'im'"
      ]
     },
     "execution_count": 46,
     "metadata": {},
     "output_type": "execute_result"
    }
   ],
   "source": [
    "a[-2: -4: -1]"
   ]
  },
  {
   "cell_type": "code",
   "execution_count": 47,
   "id": "adddd2ee-193c-447e-8199-e2595de35bda",
   "metadata": {},
   "outputs": [
    {
     "data": {
      "text/plain": [
       "''"
      ]
     },
     "execution_count": 47,
     "metadata": {},
     "output_type": "execute_result"
    }
   ],
   "source": [
    "a[-1:-1:-1]"
   ]
  },
  {
   "cell_type": "code",
   "execution_count": 55,
   "id": "931a6493-220a-4656-b063-b78102ec1573",
   "metadata": {},
   "outputs": [
    {
     "data": {
      "text/plain": [
       "'uS'"
      ]
     },
     "execution_count": 55,
     "metadata": {},
     "output_type": "execute_result"
    }
   ],
   "source": [
    "a[1::-1]\n",
    "# 'uS'"
   ]
  },
  {
   "cell_type": "code",
   "execution_count": 56,
   "id": "150e752b-c0d2-4a96-955b-da8b2e6e87bd",
   "metadata": {},
   "outputs": [
    {
     "data": {
      "text/plain": [
       "''"
      ]
     },
     "execution_count": 56,
     "metadata": {},
     "output_type": "execute_result"
    }
   ],
   "source": [
    "a[1:2:-1]"
   ]
  },
  {
   "cell_type": "code",
   "execution_count": 57,
   "id": "9ca5ded9-ed18-4a8f-a7d9-60484242c45b",
   "metadata": {},
   "outputs": [
    {
     "data": {
      "text/plain": [
       "'uS'"
      ]
     },
     "execution_count": 57,
     "metadata": {},
     "output_type": "execute_result"
    }
   ],
   "source": [
    "a[1::-1] # Sumit"
   ]
  },
  {
   "cell_type": "code",
   "execution_count": 58,
   "id": "a4ef9f45-ee55-47f0-a90b-4b3234980ac9",
   "metadata": {},
   "outputs": [
    {
     "data": {
      "text/plain": [
       "'tim'"
      ]
     },
     "execution_count": 58,
     "metadata": {},
     "output_type": "execute_result"
    }
   ],
   "source": [
    "a[:1:-1]"
   ]
  },
  {
   "cell_type": "markdown",
   "id": "6fe9e67e",
   "metadata": {},
   "source": [
    "## Taking inputs from User"
   ]
  },
  {
   "cell_type": "code",
   "execution_count": 17,
   "id": "2e8d86fc-ab42-4adc-ab4b-663cce45166d",
   "metadata": {},
   "outputs": [
    {
     "name": "stdout",
     "output_type": "stream",
     "text": [
      "Sume is:  32\n"
     ]
    }
   ],
   "source": [
    "a = int(input(\"Enter value for a:\"))\n",
    "b = int(input(\"Enter value for b:\"))\n",
    "print(\"Sume is: \",a + b)"
   ]
  },
  {
   "cell_type": "markdown",
   "id": "2a4c5739",
   "metadata": {},
   "source": [
    "## Arithmetics Operator\n",
    "\n",
    "- `//` - Floor division\n",
    "- `**` - Power"
   ]
  },
  {
   "cell_type": "markdown",
   "id": "395718a9",
   "metadata": {},
   "source": [
    "## Logical Operators\n",
    "\n",
    "- `>`\n",
    "- `<`\n",
    "- `==`\n",
    "- `!=`\n"
   ]
  },
  {
   "cell_type": "code",
   "execution_count": 60,
   "id": "5751d5fe-7055-48d7-8a78-331d10d4fca9",
   "metadata": {},
   "outputs": [
    {
     "name": "stdout",
     "output_type": "stream",
     "text": [
      "Enter the number 134\n"
     ]
    },
    {
     "data": {
      "text/plain": [
       "False"
      ]
     },
     "execution_count": 60,
     "metadata": {},
     "output_type": "execute_result"
    }
   ],
   "source": [
    "# Take user input using `input` method\n",
    "\n",
    "user_input = input(\"Enter the number\")\n",
    "user_input == user_input[::-1]"
   ]
  },
  {
   "cell_type": "code",
   "execution_count": 63,
   "id": "ec2d096a-17f9-46d0-9e64-b41ca8da2476",
   "metadata": {},
   "outputs": [
    {
     "ename": "TypeError",
     "evalue": "'int' object is not subscriptable",
     "output_type": "error",
     "traceback": [
      "\u001b[0;31m---------------------------------------------------------------------------\u001b[0m",
      "\u001b[0;31mTypeError\u001b[0m                                 Traceback (most recent call last)",
      "Cell \u001b[0;32mIn[63], line 2\u001b[0m\n\u001b[1;32m      1\u001b[0m a \u001b[38;5;241m=\u001b[39m \u001b[38;5;241m121\u001b[39m\n\u001b[0;32m----> 2\u001b[0m \u001b[38;5;28mprint\u001b[39m(a[::\u001b[38;5;241m-\u001b[39m\u001b[38;5;241m1\u001b[39m])\n",
      "\u001b[0;31mTypeError\u001b[0m: 'int' object is not subscriptable"
     ]
    }
   ],
   "source": [
    "a = 121\n",
    "print(a[::-1]) # TypeError: 'int' object is not subscriptable\n",
    "# we need to first convert number to string using str() method"
   ]
  },
  {
   "cell_type": "code",
   "execution_count": 77,
   "id": "bb40cdf5-82a8-4c75-8fa4-beeb47ac0ad1",
   "metadata": {},
   "outputs": [
    {
     "name": "stdout",
     "output_type": "stream",
     "text": [
      "Enter number 11\n"
     ]
    },
    {
     "name": "stdout",
     "output_type": "stream",
     "text": [
      "True\n"
     ]
    }
   ],
   "source": [
    "a = int(input(\"Enter number\"))\n",
    "str_a = str(a) # Convert it into string using str()\n",
    "reversed_str_a = str_a[::-1] # reverse string using subset\n",
    "reversed_a = int(reversed_str_a) # do type conversion to int\n",
    "print(a == reversed_a) # result of comparision"
   ]
  },
  {
   "cell_type": "code",
   "execution_count": 82,
   "id": "64f60baa-cfd0-4259-8449-17fc79e393b8",
   "metadata": {},
   "outputs": [
    {
     "name": "stdout",
     "output_type": "stream",
     "text": [
      "Enter number(Even: True, Odd: False): 23\n"
     ]
    },
    {
     "data": {
      "text/plain": [
       "False"
      ]
     },
     "execution_count": 82,
     "metadata": {},
     "output_type": "execute_result"
    }
   ],
   "source": [
    "# Take user input and convert it into int\n",
    "# user % operator to find if the number is Odd/Even by comparing the result with 0 using == operator\n",
    "user_input = int(input(\"Enter number(Even: True, Odd: False):\"))\n",
    "user_input % 2 == 0"
   ]
  },
  {
   "cell_type": "code",
   "execution_count": 85,
   "id": "1eda095e-a7c2-446a-a1f5-26c6f914df86",
   "metadata": {},
   "outputs": [
    {
     "name": "stdout",
     "output_type": "stream",
     "text": [
      "Enter your name: Nagesha\n"
     ]
    },
    {
     "data": {
      "text/plain": [
       "'agesha'"
      ]
     },
     "execution_count": 85,
     "metadata": {},
     "output_type": "execute_result"
    }
   ],
   "source": [
    "# Take user name and print excluding first character\n",
    "user_name = input(\"Enter your name:\")\n",
    "user_name[1:]"
   ]
  },
  {
   "cell_type": "markdown",
   "id": "4514f5a7-c8b4-4855-afbb-6ab7fd6c768b",
   "metadata": {},
   "source": [
    "# List\n",
    "\n",
    "- a = [] # list initialization\n",
    "- collection of elments\n",
    "- This element can be different data types\n",
    "- List are mutable\n",
    "- Get the length of the list using `len()`\n",
    "\n",
    "Example:\n",
    "my_list = [1, 23, 4, \"Nagesh\", 23.3]"
   ]
  },
  {
   "cell_type": "code",
   "execution_count": 86,
   "id": "54972610-f14b-4c20-bbdc-b63d97008b1c",
   "metadata": {},
   "outputs": [
    {
     "data": {
      "text/plain": [
       "[1, 23, 4, 'Nagesh', 23.3]"
      ]
     },
     "execution_count": 86,
     "metadata": {},
     "output_type": "execute_result"
    }
   ],
   "source": [
    "my_list = [1, 23, 4, \"Nagesh\", 23.3]\n",
    "my_list"
   ]
  },
  {
   "cell_type": "code",
   "execution_count": 88,
   "id": "742bf767-829c-4ebe-be91-af791569e0c4",
   "metadata": {},
   "outputs": [
    {
     "data": {
      "text/plain": [
       "[1, 23, 4, 'Nagesh', 23.3, 10, 10]"
      ]
     },
     "execution_count": 88,
     "metadata": {},
     "output_type": "execute_result"
    }
   ],
   "source": [
    "# Add element to the list and print the list\n",
    "my_list.append(10)\n",
    "my_list"
   ]
  },
  {
   "cell_type": "code",
   "execution_count": 90,
   "id": "26ed8d86-7afc-4f35-a9cf-1b88cdf6a95f",
   "metadata": {},
   "outputs": [
    {
     "ename": "ValueError",
     "evalue": "list.remove(x): x not in list",
     "output_type": "error",
     "traceback": [
      "\u001b[0;31m---------------------------------------------------------------------------\u001b[0m",
      "\u001b[0;31mValueError\u001b[0m                                Traceback (most recent call last)",
      "Cell \u001b[0;32mIn[90], line 2\u001b[0m\n\u001b[1;32m      1\u001b[0m \u001b[38;5;66;03m# Remove element from the list\u001b[39;00m\n\u001b[0;32m----> 2\u001b[0m my_list\u001b[38;5;241m.\u001b[39mremove(\u001b[38;5;241m0\u001b[39m)\n",
      "\u001b[0;31mValueError\u001b[0m: list.remove(x): x not in list"
     ]
    }
   ],
   "source": [
    "# Remove element from the list\n",
    "my_list.remove(0) # if element is not present, we will get this error ValueError: list.remove(x): x not in list"
   ]
  },
  {
   "cell_type": "code",
   "execution_count": 91,
   "id": "f0cefb5e-13d4-4d3a-a479-67f53e253c15",
   "metadata": {},
   "outputs": [
    {
     "data": {
      "text/plain": [
       "[1, 4, 'Nagesh', 23.3, 10, 10]"
      ]
     },
     "execution_count": 91,
     "metadata": {},
     "output_type": "execute_result"
    }
   ],
   "source": [
    "my_list.remove(23)\n",
    "my_list"
   ]
  },
  {
   "cell_type": "code",
   "execution_count": 92,
   "id": "ef7b1d74-b53c-4ca6-91aa-bf94d744698f",
   "metadata": {},
   "outputs": [
    {
     "data": {
      "text/plain": [
       "6"
      ]
     },
     "execution_count": 92,
     "metadata": {},
     "output_type": "execute_result"
    }
   ],
   "source": [
    "# Print the length of the list\n",
    "len(my_list)"
   ]
  },
  {
   "cell_type": "code",
   "execution_count": 93,
   "id": "aae48017-e562-4f89-8a5a-47bbbc13bfcd",
   "metadata": {},
   "outputs": [
    {
     "data": {
      "text/plain": [
       "[10, 10, 23.3, 'Nagesh', 4, 1]"
      ]
     },
     "execution_count": 93,
     "metadata": {},
     "output_type": "execute_result"
    }
   ],
   "source": [
    "# Reverse the List\n",
    "my_list[::-1] # it won't modify the list"
   ]
  },
  {
   "cell_type": "code",
   "execution_count": 94,
   "id": "7042d236-594c-4308-907c-61c0f23a0d93",
   "metadata": {},
   "outputs": [
    {
     "data": {
      "text/plain": [
       "[1, 4, 'Nagesh', 23.3, 10, 10]"
      ]
     },
     "execution_count": 94,
     "metadata": {},
     "output_type": "execute_result"
    }
   ],
   "source": [
    "my_list"
   ]
  },
  {
   "cell_type": "code",
   "execution_count": 102,
   "id": "b470fc0d-259e-4295-b016-12afe35f43e9",
   "metadata": {},
   "outputs": [
    {
     "name": "stdout",
     "output_type": "stream",
     "text": [
      "Enter you name:  Nagesha\n",
      "Enter number of times you should print your name:  13\n"
     ]
    },
    {
     "data": {
      "text/plain": [
       "'Nagesha Nagesha Nagesha Nagesha Nagesha Nagesha Nagesha Nagesha Nagesha Nagesha Nagesha Nagesha Nagesha '"
      ]
     },
     "execution_count": 102,
     "metadata": {},
     "output_type": "execute_result"
    }
   ],
   "source": [
    "# Take user name using `input()` and take number from user and print user name in those many times\n",
    "user_name = input(\"Enter you name: \") + \" \"\n",
    "number_of_times = int(input(\"Enter number of times you should print your name: \"))\n",
    "# user_name * number_of_times # (user_name + ' ')*3"
   ]
  },
  {
   "cell_type": "code",
   "execution_count": 105,
   "id": "f931b032-d880-491b-b304-568d528e23a5",
   "metadata": {},
   "outputs": [
    {
     "name": "stdout",
     "output_type": "stream",
     "text": [
      "Enter list of element seperated by comma(,):  1,2,3,4,5,6,7,8,9,10\n"
     ]
    },
    {
     "data": {
      "text/plain": [
       "['1', '2', '3', '4', '5']"
      ]
     },
     "execution_count": 105,
     "metadata": {},
     "output_type": "execute_result"
    }
   ],
   "source": [
    "# Take user input with listof elements seperated by comma(,)\n",
    "# Convert user input to list using `split` operator\n",
    "# and print only 5 elements from the list\n",
    "\n",
    "\n",
    "user_input = input(\"Enter list of element seperated by comma(,): \")\n",
    "user_list = user_input.split(\",\")\n",
    "user_list[0:5]"
   ]
  },
  {
   "cell_type": "markdown",
   "id": "d8380f2f-c542-4b4a-bf1f-d33ccb5a31fc",
   "metadata": {},
   "source": [
    "# Tuples\n",
    "\n",
    "- a = () # Initialization\n",
    "- find the length using `len()`\n",
    "- It is immutable that means we can't append and remove elements"
   ]
  },
  {
   "cell_type": "code",
   "execution_count": 115,
   "id": "6f02cb34-d13c-43e7-a880-29c81542b15b",
   "metadata": {},
   "outputs": [],
   "source": [
    "my_tuple = (1,2,3,5)"
   ]
  },
  {
   "cell_type": "code",
   "execution_count": 116,
   "id": "20a05285-8890-4321-871a-cf53ed54a7d7",
   "metadata": {},
   "outputs": [
    {
     "data": {
      "text/plain": [
       "4"
      ]
     },
     "execution_count": 116,
     "metadata": {},
     "output_type": "execute_result"
    }
   ],
   "source": [
    "len(my_tuple)"
   ]
  },
  {
   "cell_type": "code",
   "execution_count": 117,
   "id": "244eeaf6-7da0-442b-811e-a0c8d66b2b71",
   "metadata": {},
   "outputs": [
    {
     "data": {
      "text/plain": [
       "(5, 3, 2, 1)"
      ]
     },
     "execution_count": 117,
     "metadata": {},
     "output_type": "execute_result"
    }
   ],
   "source": [
    "my_tuple[::-1]"
   ]
  },
  {
   "cell_type": "code",
   "execution_count": 121,
   "id": "1ce05e7b-9f5f-490b-bf90-7963e8b2d284",
   "metadata": {},
   "outputs": [
    {
     "name": "stdout",
     "output_type": "stream",
     "text": [
      "Enter list:  1 2 3 4 5\n"
     ]
    },
    {
     "name": "stdout",
     "output_type": "stream",
     "text": [
      "Last element is :  5\n",
      "Last element is :  5\n"
     ]
    }
   ],
   "source": [
    "# Print last element\n",
    "\n",
    "user_list_input = input(\"Enter list: \")\n",
    "user_list = user_list_input.split(\" \")\n",
    "\n",
    "print(\"Last element is : \", user_list[-1])\n",
    "print(\"Last element is : \", user_list[len(user_list) - 1])\n"
   ]
  },
  {
   "cell_type": "code",
   "execution_count": 248,
   "id": "1ff41d07-1156-4f6e-ae08-c927b8b5e65f",
   "metadata": {},
   "outputs": [
    {
     "name": "stdout",
     "output_type": "stream",
     "text": [
      "Enter list seperated by space:  1 2 3 4 5\n"
     ]
    },
    {
     "name": "stdout",
     "output_type": "stream",
     "text": [
      "Int converted list:  [1, 2, 3, 4, 5]\n",
      "Maximum:  5\n",
      "Average:  3.0\n"
     ]
    }
   ],
   "source": [
    "# Print the average of the list\n",
    "# user_input = [1, 2, 3, 4]\n",
    "# sum(user_input) / len(user_input)\n",
    "\n",
    "user_input = input('Enter list seperated by space: ')\n",
    "user_list = user_input.split(\" \")\n",
    "#int_list = [ int(x) for x in user_list ]\n",
    "\n",
    "int_list = list(map(int, user_list))\n",
    "\n",
    "print(\"Int converted list: \", int_list)\n",
    "print(\"Maximum: \", max(int_list))\n",
    "print(\"Average: \", sum(int_list) / len(int_list))"
   ]
  },
  {
   "cell_type": "markdown",
   "id": "4ed28344-48fb-4f26-b184-cace62b8259b",
   "metadata": {},
   "source": [
    "# Dict\n",
    "- define our own value\n",
    "- a = {} initialization\n"
   ]
  },
  {
   "cell_type": "code",
   "execution_count": 143,
   "id": "6f88a285-6f0f-4c55-824d-fae5b15f85b1",
   "metadata": {},
   "outputs": [],
   "source": [
    "user_data = {\n",
    "    \"Nagesha\" : [ 29, \"Bangalore\", \"Male\" ],\n",
    "    \"Tej\": [24, \"Kolar\", \"Male\"],\n",
    "    \"Mustafa\": [23, \"Kadri\", \"Male\"],\n",
    "    \"Kohli\": [35, \"Munbai\", \"Male\"]\n",
    "}"
   ]
  },
  {
   "cell_type": "code",
   "execution_count": 144,
   "id": "b8ec4efc-cdf4-49de-8b26-a6da1ec1c910",
   "metadata": {},
   "outputs": [
    {
     "data": {
      "text/plain": [
       "{'Nagesha': [29, 'Bangalore', 'Male'],\n",
       " 'Tej': [24, 'Kolar', 'Male'],\n",
       " 'Mustafa': [23, 'Kadri', 'Male'],\n",
       " 'Kohli': [35, 'Munbai', 'Male']}"
      ]
     },
     "execution_count": 144,
     "metadata": {},
     "output_type": "execute_result"
    }
   ],
   "source": [
    "user_data"
   ]
  },
  {
   "cell_type": "code",
   "execution_count": 145,
   "id": "35f4175a-e8c2-4768-a68d-6cfa9bb4ca5d",
   "metadata": {},
   "outputs": [
    {
     "data": {
      "text/plain": [
       "[29, 'Bangalore', 'Male']"
      ]
     },
     "execution_count": 145,
     "metadata": {},
     "output_type": "execute_result"
    }
   ],
   "source": [
    "user_data[\"Nagesha\"]"
   ]
  },
  {
   "cell_type": "code",
   "execution_count": 161,
   "id": "f4f0e244-cd47-4a8f-9777-ac4ab3e019b6",
   "metadata": {},
   "outputs": [
    {
     "data": {
      "text/plain": [
       "['Nagesha', 'Tej', 'Mustafa', 'Kohli']"
      ]
     },
     "execution_count": 161,
     "metadata": {},
     "output_type": "execute_result"
    }
   ],
   "source": [
    "# Convert dict eys to list\n",
    "list(user_data.keys())"
   ]
  },
  {
   "cell_type": "code",
   "execution_count": 165,
   "id": "81662141-59c4-4efe-8dd0-27005e0f3ee9",
   "metadata": {},
   "outputs": [
    {
     "data": {
      "text/plain": [
       "[[29, 'Bangalore', 'Male'],\n",
       " [24, 'Chennai', 'Male'],\n",
       " [23, 'Kadri', 'Male'],\n",
       " [35, 'Munbai', 'Male']]"
      ]
     },
     "execution_count": 165,
     "metadata": {},
     "output_type": "execute_result"
    }
   ],
   "source": [
    "# Print all the dict values as list\n",
    "list(user_data.values())"
   ]
  },
  {
   "cell_type": "code",
   "execution_count": 155,
   "id": "8d4e159f-ea2e-43c2-b070-8528cf1857af",
   "metadata": {},
   "outputs": [
    {
     "data": {
      "text/plain": [
       "'Kolar'"
      ]
     },
     "execution_count": 155,
     "metadata": {},
     "output_type": "execute_result"
    }
   ],
   "source": [
    "# Extract Kolar from user_data\n",
    "user_data[\"Tej\"][1]"
   ]
  },
  {
   "cell_type": "code",
   "execution_count": 160,
   "id": "29680e6c-d5a5-4b15-8fc5-f0b6f504f9ff",
   "metadata": {},
   "outputs": [],
   "source": [
    "# update dictionary\n",
    "user_data[\"Tej\"][1] = \"Chennai\""
   ]
  },
  {
   "cell_type": "code",
   "execution_count": 159,
   "id": "0129ea7d-eda1-4115-9914-093ca7eef8f5",
   "metadata": {},
   "outputs": [
    {
     "data": {
      "text/plain": [
       "{'Nagesha': [29, 'Bangalore', 'Male'],\n",
       " 'Tej': [24, 'Chennai', 'Male'],\n",
       " 'Mustafa': [23, 'Kadri', 'Male'],\n",
       " 'Kohli': [35, 'Munbai', 'Male']}"
      ]
     },
     "execution_count": 159,
     "metadata": {},
     "output_type": "execute_result"
    }
   ],
   "source": [
    "user_data"
   ]
  },
  {
   "cell_type": "code",
   "execution_count": 174,
   "id": "edf61198-67b3-4335-a72a-cc4830f1dd40",
   "metadata": {},
   "outputs": [],
   "source": [
    "# Add new element to dict list\n",
    "user_data[\"Nagesha\"].append(1000)"
   ]
  },
  {
   "cell_type": "code",
   "execution_count": 173,
   "id": "5d0c1650-ff38-4541-b88c-99721dc7dbb1",
   "metadata": {},
   "outputs": [
    {
     "data": {
      "text/plain": [
       "{'Nagesha': [29, 'Bangalore', 'Male', 100, 1000],\n",
       " 'Tej': [24, 'Chennai', 'Male'],\n",
       " 'Mustafa': [23, 'Kadri', 'Male'],\n",
       " 'Kohli': [35, 'Munbai', 'Male']}"
      ]
     },
     "execution_count": 173,
     "metadata": {},
     "output_type": "execute_result"
    }
   ],
   "source": [
    "user_data"
   ]
  },
  {
   "cell_type": "code",
   "execution_count": 175,
   "id": "d78dbfd3-a993-4c08-b7e2-b496011e4a17",
   "metadata": {},
   "outputs": [],
   "source": [
    "user_data[\"Nagesha\"] = user_data[\"Nagesha\"][::-1]"
   ]
  },
  {
   "cell_type": "code",
   "execution_count": 176,
   "id": "65c9540e-a677-4598-abc0-09e2c0dd4144",
   "metadata": {},
   "outputs": [
    {
     "data": {
      "text/plain": [
       "{'Nagesha': [1000, 1000, 100, 'Male', 'Bangalore', 29],\n",
       " 'Tej': [24, 'Chennai', 'Male'],\n",
       " 'Mustafa': [23, 'Kadri', 'Male'],\n",
       " 'Kohli': [35, 'Munbai', 'Male']}"
      ]
     },
     "execution_count": 176,
     "metadata": {},
     "output_type": "execute_result"
    }
   ],
   "source": [
    "user_data"
   ]
  },
  {
   "cell_type": "code",
   "execution_count": 178,
   "id": "e50931ff-2b2f-4a18-84d4-9c877f4e60b8",
   "metadata": {},
   "outputs": [
    {
     "data": {
      "text/plain": [
       "5"
      ]
     },
     "execution_count": 178,
     "metadata": {},
     "output_type": "execute_result"
    }
   ],
   "source": [
    "# extract 5 from below list\n",
    "a = [1, 2, [4, 5], 5]\n",
    "a[2][1]"
   ]
  },
  {
   "cell_type": "markdown",
   "id": "0f57664d-c126-4c03-a0b2-1e669593518c",
   "metadata": {},
   "source": [
    "# Set\n",
    "\n",
    "- a = {} #initialization\n",
    "- Contains unique value\n",
    "- Order don't persist\n",
    "- `len()` to find the length of the set\n",
    "- indexing won't work"
   ]
  },
  {
   "cell_type": "code",
   "execution_count": 187,
   "id": "fdc848ce-185d-4795-a585-1b6331673a93",
   "metadata": {},
   "outputs": [
    {
     "name": "stdout",
     "output_type": "stream",
     "text": [
      "{'Sumit', 'Virat', 'Rahul'}\n"
     ]
    }
   ],
   "source": [
    "# Print Unique values from the below list\n",
    "a = [\"Sumit\", \"Sumit\", \"Rahul\", \"Virat\"]\n",
    "a_set = set(a) # Convert it into set\n",
    "print(a_set)"
   ]
  },
  {
   "cell_type": "code",
   "execution_count": 188,
   "id": "1a60110f-f714-4e64-a450-ad9bbe8f4c5f",
   "metadata": {},
   "outputs": [
    {
     "data": {
      "text/plain": [
       "3"
      ]
     },
     "execution_count": 188,
     "metadata": {},
     "output_type": "execute_result"
    }
   ],
   "source": [
    "len(a_set)"
   ]
  },
  {
   "cell_type": "code",
   "execution_count": 189,
   "id": "f9d2e599-6c79-42d4-9978-e082be626d4e",
   "metadata": {},
   "outputs": [
    {
     "data": {
      "text/plain": [
       "['Sumit', 'Sumit', 'Rahul', 'Virat']"
      ]
     },
     "execution_count": 189,
     "metadata": {},
     "output_type": "execute_result"
    }
   ],
   "source": [
    "a"
   ]
  },
  {
   "cell_type": "code",
   "execution_count": 190,
   "id": "ab1b6217-7edf-45b5-b4f0-034c420bbd4e",
   "metadata": {},
   "outputs": [
    {
     "data": {
      "text/plain": [
       "{'Rahul', 'Sumit', 'Virat'}"
      ]
     },
     "execution_count": 190,
     "metadata": {},
     "output_type": "execute_result"
    }
   ],
   "source": [
    "a_set"
   ]
  },
  {
   "cell_type": "markdown",
   "id": "95ceaa39-313d-4551-968e-7337bde7aa62",
   "metadata": {},
   "source": [
    "# Conditional Statement"
   ]
  },
  {
   "cell_type": "code",
   "execution_count": 192,
   "id": "d2f7ae3f-e5e4-474d-b639-5a458a2a81df",
   "metadata": {},
   "outputs": [
    {
     "name": "stdout",
     "output_type": "stream",
     "text": [
      "Enter a:  12\n",
      "Enter b:  34\n"
     ]
    },
    {
     "name": "stdout",
     "output_type": "stream",
     "text": [
      "a is smaller\n"
     ]
    }
   ],
   "source": [
    "a = int(input('Enter a: '))\n",
    "b = int(input('Enter b: '))\n",
    "if a > b:\n",
    "    print('a is greater than b.')\n",
    "elif a == b:\n",
    "    print('a is equal to b')\n",
    "else:\n",
    "    print('a is smaller')"
   ]
  },
  {
   "cell_type": "code",
   "execution_count": 205,
   "id": "3fd33eb0-1033-4f4c-9415-a1a0753ca283",
   "metadata": {},
   "outputs": [
    {
     "name": "stdout",
     "output_type": "stream",
     "text": [
      "Enter year 2024\n"
     ]
    },
    {
     "name": "stdout",
     "output_type": "stream",
     "text": [
      "Leaf Year\n"
     ]
    }
   ],
   "source": [
    "year = int(input(\"Enter year\"))\n",
    "if ((year % 4 == 0) and year % 100 != 0) or (year % 400 == 0):\n",
    "    print(\"Leaf Year\")\n",
    "else:\n",
    "    print(\"Not leaf Year\")"
   ]
  },
  {
   "cell_type": "code",
   "execution_count": 206,
   "id": "3a944693-6efc-491a-b016-6341944e359a",
   "metadata": {},
   "outputs": [
    {
     "name": "stdout",
     "output_type": "stream",
     "text": [
      "Enter a:  4\n",
      "Enter b:  5\n",
      "Enter c:  23\n"
     ]
    },
    {
     "name": "stdout",
     "output_type": "stream",
     "text": [
      "C is greatest number\n"
     ]
    }
   ],
   "source": [
    "# Find greatest number from\n",
    "a = int(input('Enter a: '))\n",
    "b = int(input('Enter b: '))\n",
    "c = int(input('Enter c: '))\n",
    "if a > b > c:\n",
    "    print(\"A is greatest number\")\n",
    "elif b > a > c:\n",
    "    print(\"B is greatest number\")\n",
    "else:\n",
    "    print(\"C is greatest number\")"
   ]
  },
  {
   "cell_type": "markdown",
   "id": "a4b816f4-c7bb-43c6-a3e9-d6b59d678a39",
   "metadata": {},
   "source": [
    "# Assignment\n",
    "\n",
    "1. Leaf Year\n",
    "2. Take 3 numbers and print highest number\n",
    "3. Pallindrome\n",
    "4. even or odd number"
   ]
  },
  {
   "cell_type": "code",
   "execution_count": 212,
   "id": "4a4e2749-bfc0-4fb0-9d6a-666f8e036f1b",
   "metadata": {},
   "outputs": [
    {
     "name": "stdout",
     "output_type": "stream",
     "text": [
      "Enter year 2024\n"
     ]
    },
    {
     "name": "stdout",
     "output_type": "stream",
     "text": [
      "Leaf Year\n"
     ]
    }
   ],
   "source": [
    "# Assigment 1: Leaf Year\n",
    "\n",
    "year = int(input(\"Enter year\"))\n",
    "if ((year % 4 == 0) and year % 100 != 0) or (year % 400 == 0):\n",
    "    print(\"Leaf Year\")\n",
    "else:\n",
    "    print(\"Not leaf Year\")"
   ]
  },
  {
   "cell_type": "code",
   "execution_count": 234,
   "id": "8a15bd1d-8dbc-46f2-9c57-29a921fd7a09",
   "metadata": {},
   "outputs": [
    {
     "name": "stdout",
     "output_type": "stream",
     "text": [
      "Enter a:  4\n",
      "Enter b:  4\n",
      "Enter c:  2\n"
     ]
    },
    {
     "name": "stdout",
     "output_type": "stream",
     "text": [
      "A and B are equal and greater than c\n"
     ]
    }
   ],
   "source": [
    "# Assigment 2: Take 3 numbers and print highest number\n",
    "a = int(input('Enter a: '))\n",
    "b = int(input('Enter b: '))\n",
    "c = int(input('Enter c: '))\n",
    "if (a == b) and b > c: # Where a and b are equal\n",
    "    print(\"A and B are equal and greater than c\")\n",
    "elif (b == c) and c > a: # Where b and c are equal\n",
    "    print(\"B and C are equal and greater than a\")\n",
    "elif a == b == c: # all are equal\n",
    "    print(\"All are equal\")\n",
    "elif a > b > c:\n",
    "    print(\"A is greatest number\")\n",
    "elif b > a > c:\n",
    "    print(\"B is greatest number\")\n",
    "else:\n",
    "    print(\"C is greatest number\")"
   ]
  },
  {
   "cell_type": "code",
   "execution_count": 224,
   "id": "13d766d0-d095-4d7e-b2a6-0cca7c483e0e",
   "metadata": {},
   "outputs": [
    {
     "name": "stdout",
     "output_type": "stream",
     "text": [
      "Ener any name:  Nagesh\n"
     ]
    },
    {
     "name": "stdout",
     "output_type": "stream",
     "text": [
      "Given name is not Palindrome\n"
     ]
    },
    {
     "name": "stdout",
     "output_type": "stream",
     "text": [
      "Enter number:  121\n"
     ]
    },
    {
     "name": "stdout",
     "output_type": "stream",
     "text": [
      "Given number is Palindrome\n"
     ]
    }
   ],
   "source": [
    "# Assigement 3: Pallindrome\n",
    "# String\n",
    "user_input = input(\"Ener any name: \")\n",
    "reversed_name = user_input[::-1]\n",
    "if (user_input == reversed_name):\n",
    "    print(\"Given name is Palindrome\")\n",
    "else:\n",
    "    print(\"Given name is not Palindrome\")\n",
    "\n",
    "# Number\n",
    "user_number = int(input(\"Enter number: \"))\n",
    "user_input_str = str(user_number)\n",
    "final_reversed_number = int(user_input_str[::-1])\n",
    "if (user_number == final_reversed_number):\n",
    "    print(\"Given number is Palindrome\")\n",
    "else:\n",
    "    print(\"Given number is not Palindrome\")"
   ]
  },
  {
   "cell_type": "code",
   "execution_count": 228,
   "id": "5d20408e-ea41-4aba-8423-d89063a9f97a",
   "metadata": {},
   "outputs": [
    {
     "name": "stdout",
     "output_type": "stream",
     "text": [
      "Enter any number:  3\n"
     ]
    },
    {
     "name": "stdout",
     "output_type": "stream",
     "text": [
      "Given number is Odd\n"
     ]
    }
   ],
   "source": [
    "# Assignement 4: Even or Odd\n",
    "user_input = int(input(\"Enter any number: \"))\n",
    "if (user_input % 2 == 0):\n",
    "    print(\"Given number is Even\")\n",
    "else:\n",
    "    print(\"Given number is Odd\")\n"
   ]
  },
  {
   "cell_type": "code",
   "execution_count": 1,
   "id": "423d6c27-1a00-4443-aa4b-19ce263a25bd",
   "metadata": {},
   "outputs": [
    {
     "name": "stdout",
     "output_type": "stream",
     "text": [
      "Hello\n"
     ]
    }
   ],
   "source": [
    "print(\"Hello\")"
   ]
  },
  {
   "cell_type": "code",
   "execution_count": null,
   "id": "645c3ef7-e7fa-4864-8a7c-983214923ec0",
   "metadata": {},
   "outputs": [],
   "source": []
  }
 ],
 "metadata": {
  "kernelspec": {
   "display_name": "Python 3 (ipykernel)",
   "language": "python",
   "name": "python3"
  }
 },
 "nbformat": 4,
 "nbformat_minor": 5
}
